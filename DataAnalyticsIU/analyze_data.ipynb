{
 "cells": [
  {
   "cell_type": "markdown",
   "source": [
    "# Import libraries"
   ],
   "metadata": {
    "collapsed": false,
    "pycharm": {
     "name": "#%% md\n"
    }
   }
  },
  {
   "cell_type": "code",
   "execution_count": 378,
   "outputs": [
    {
     "data": {
      "text/html": "        <script type=\"text/javascript\">\n        window.PlotlyConfig = {MathJaxConfig: 'local'};\n        if (window.MathJax && window.MathJax.Hub && window.MathJax.Hub.Config) {window.MathJax.Hub.Config({SVG: {font: \"STIX-Web\"}});}\n        if (typeof require !== 'undefined') {\n        require.undef(\"plotly\");\n        requirejs.config({\n            paths: {\n                'plotly': ['https://cdn.plot.ly/plotly-2.12.1.min']\n            }\n        });\n        require(['plotly'], function(Plotly) {\n            window._Plotly = Plotly;\n        });\n        }\n        </script>\n        "
     },
     "metadata": {},
     "output_type": "display_data"
    }
   ],
   "source": [
    "import pandas as pd\n",
    "import numpy as np\n",
    "import matplotlib.pyplot as plt\n",
    "import seaborn as sns\n",
    "%matplotlib inline\n",
    "# Plotly imports\n",
    "import plotly.offline as py\n",
    "py.init_notebook_mode(connected=True)\n",
    "import plotly.graph_objs as go\n",
    "import plotly.tools as tls\n",
    "\n",
    "# Other imports\n",
    "from collections import Counter\n",
    "from sklearn.feature_extraction.text import TfidfVectorizer, CountVectorizer\n",
    "from sklearn.decomposition import NMF, LatentDirichletAllocation\n",
    "from matplotlib import pyplot as plt\n",
    "%matplotlib inline\n",
    "\n",
    "plt.style.use(\"fivethirtyeight\")"
   ],
   "metadata": {
    "collapsed": false,
    "pycharm": {
     "name": "#%%\n"
    }
   }
  },
  {
   "cell_type": "markdown",
   "source": [
    "# Data processing"
   ],
   "metadata": {
    "collapsed": false,
    "pycharm": {
     "name": "#%% md\n"
    }
   }
  },
  {
   "cell_type": "markdown",
   "source": [
    "## Read data"
   ],
   "metadata": {
    "collapsed": false,
    "pycharm": {
     "name": "#%% md\n"
    }
   }
  },
  {
   "cell_type": "code",
   "execution_count": 379,
   "outputs": [],
   "source": [
    "import json\n",
    "\n",
    "with open(\"../data_05_07.txt\", 'r', encoding=\"UTF-8\") as file:\n",
    "    data_string_05_07 = file.read().replace('\\n', '')\n",
    "\n",
    "with open(\"../data_07_07.txt\", 'r', encoding=\"UTF-8\") as file:\n",
    "    data_string_07_07 = file.read().replace('\\n', '')\n",
    "\n",
    "with open(\"../data_09_07.txt\", 'r', encoding=\"UTF-8\") as file:\n",
    "    data_string_09_07 = file.read().replace('\\n', '')\n",
    "\n",
    "data_05_07 = json.loads(data_string_05_07)\n",
    "data_07_07 = json.loads(data_string_07_07)\n",
    "data_09_07 = json.loads(data_string_09_07)\n",
    "\n",
    "data_list = [data_05_07, data_07_07, data_09_07]"
   ],
   "metadata": {
    "collapsed": false,
    "pycharm": {
     "name": "#%%\n"
    }
   }
  },
  {
   "cell_type": "code",
   "execution_count": 380,
   "outputs": [
    {
     "name": "stderr",
     "output_type": "stream",
     "text": [
      "C:\\Users\\Lukas\\AppData\\Local\\Temp\\ipykernel_24944\\6451062.py:8: FutureWarning:\n",
      "\n",
      "The frame.append method is deprecated and will be removed from pandas in a future version. Use pandas.concat instead.\n",
      "\n",
      "C:\\Users\\Lukas\\AppData\\Local\\Temp\\ipykernel_24944\\6451062.py:8: FutureWarning:\n",
      "\n",
      "The frame.append method is deprecated and will be removed from pandas in a future version. Use pandas.concat instead.\n",
      "\n",
      "C:\\Users\\Lukas\\AppData\\Local\\Temp\\ipykernel_24944\\6451062.py:8: FutureWarning:\n",
      "\n",
      "The frame.append method is deprecated and will be removed from pandas in a future version. Use pandas.concat instead.\n",
      "\n",
      "C:\\Users\\Lukas\\AppData\\Local\\Temp\\ipykernel_24944\\6451062.py:8: FutureWarning:\n",
      "\n",
      "The frame.append method is deprecated and will be removed from pandas in a future version. Use pandas.concat instead.\n",
      "\n",
      "C:\\Users\\Lukas\\AppData\\Local\\Temp\\ipykernel_24944\\6451062.py:8: FutureWarning:\n",
      "\n",
      "The frame.append method is deprecated and will be removed from pandas in a future version. Use pandas.concat instead.\n",
      "\n",
      "C:\\Users\\Lukas\\AppData\\Local\\Temp\\ipykernel_24944\\6451062.py:8: FutureWarning:\n",
      "\n",
      "The frame.append method is deprecated and will be removed from pandas in a future version. Use pandas.concat instead.\n",
      "\n",
      "C:\\Users\\Lukas\\AppData\\Local\\Temp\\ipykernel_24944\\6451062.py:8: FutureWarning:\n",
      "\n",
      "The frame.append method is deprecated and will be removed from pandas in a future version. Use pandas.concat instead.\n",
      "\n",
      "C:\\Users\\Lukas\\AppData\\Local\\Temp\\ipykernel_24944\\6451062.py:8: FutureWarning:\n",
      "\n",
      "The frame.append method is deprecated and will be removed from pandas in a future version. Use pandas.concat instead.\n",
      "\n",
      "C:\\Users\\Lukas\\AppData\\Local\\Temp\\ipykernel_24944\\6451062.py:8: FutureWarning:\n",
      "\n",
      "The frame.append method is deprecated and will be removed from pandas in a future version. Use pandas.concat instead.\n",
      "\n",
      "C:\\Users\\Lukas\\AppData\\Local\\Temp\\ipykernel_24944\\6451062.py:8: FutureWarning:\n",
      "\n",
      "The frame.append method is deprecated and will be removed from pandas in a future version. Use pandas.concat instead.\n",
      "\n",
      "C:\\Users\\Lukas\\AppData\\Local\\Temp\\ipykernel_24944\\6451062.py:8: FutureWarning:\n",
      "\n",
      "The frame.append method is deprecated and will be removed from pandas in a future version. Use pandas.concat instead.\n",
      "\n",
      "C:\\Users\\Lukas\\AppData\\Local\\Temp\\ipykernel_24944\\6451062.py:8: FutureWarning:\n",
      "\n",
      "The frame.append method is deprecated and will be removed from pandas in a future version. Use pandas.concat instead.\n",
      "\n",
      "C:\\Users\\Lukas\\AppData\\Local\\Temp\\ipykernel_24944\\6451062.py:8: FutureWarning:\n",
      "\n",
      "The frame.append method is deprecated and will be removed from pandas in a future version. Use pandas.concat instead.\n",
      "\n",
      "C:\\Users\\Lukas\\AppData\\Local\\Temp\\ipykernel_24944\\6451062.py:8: FutureWarning:\n",
      "\n",
      "The frame.append method is deprecated and will be removed from pandas in a future version. Use pandas.concat instead.\n",
      "\n",
      "C:\\Users\\Lukas\\AppData\\Local\\Temp\\ipykernel_24944\\6451062.py:8: FutureWarning:\n",
      "\n",
      "The frame.append method is deprecated and will be removed from pandas in a future version. Use pandas.concat instead.\n",
      "\n",
      "C:\\Users\\Lukas\\AppData\\Local\\Temp\\ipykernel_24944\\6451062.py:8: FutureWarning:\n",
      "\n",
      "The frame.append method is deprecated and will be removed from pandas in a future version. Use pandas.concat instead.\n",
      "\n",
      "C:\\Users\\Lukas\\AppData\\Local\\Temp\\ipykernel_24944\\6451062.py:8: FutureWarning:\n",
      "\n",
      "The frame.append method is deprecated and will be removed from pandas in a future version. Use pandas.concat instead.\n",
      "\n",
      "C:\\Users\\Lukas\\AppData\\Local\\Temp\\ipykernel_24944\\6451062.py:8: FutureWarning:\n",
      "\n",
      "The frame.append method is deprecated and will be removed from pandas in a future version. Use pandas.concat instead.\n",
      "\n",
      "C:\\Users\\Lukas\\AppData\\Local\\Temp\\ipykernel_24944\\6451062.py:8: FutureWarning:\n",
      "\n",
      "The frame.append method is deprecated and will be removed from pandas in a future version. Use pandas.concat instead.\n",
      "\n",
      "C:\\Users\\Lukas\\AppData\\Local\\Temp\\ipykernel_24944\\6451062.py:8: FutureWarning:\n",
      "\n",
      "The frame.append method is deprecated and will be removed from pandas in a future version. Use pandas.concat instead.\n",
      "\n",
      "C:\\Users\\Lukas\\AppData\\Local\\Temp\\ipykernel_24944\\6451062.py:8: FutureWarning:\n",
      "\n",
      "The frame.append method is deprecated and will be removed from pandas in a future version. Use pandas.concat instead.\n",
      "\n",
      "C:\\Users\\Lukas\\AppData\\Local\\Temp\\ipykernel_24944\\6451062.py:8: FutureWarning:\n",
      "\n",
      "The frame.append method is deprecated and will be removed from pandas in a future version. Use pandas.concat instead.\n",
      "\n",
      "C:\\Users\\Lukas\\AppData\\Local\\Temp\\ipykernel_24944\\6451062.py:8: FutureWarning:\n",
      "\n",
      "The frame.append method is deprecated and will be removed from pandas in a future version. Use pandas.concat instead.\n",
      "\n",
      "C:\\Users\\Lukas\\AppData\\Local\\Temp\\ipykernel_24944\\6451062.py:8: FutureWarning:\n",
      "\n",
      "The frame.append method is deprecated and will be removed from pandas in a future version. Use pandas.concat instead.\n",
      "\n",
      "C:\\Users\\Lukas\\AppData\\Local\\Temp\\ipykernel_24944\\6451062.py:8: FutureWarning:\n",
      "\n",
      "The frame.append method is deprecated and will be removed from pandas in a future version. Use pandas.concat instead.\n",
      "\n",
      "C:\\Users\\Lukas\\AppData\\Local\\Temp\\ipykernel_24944\\6451062.py:8: FutureWarning:\n",
      "\n",
      "The frame.append method is deprecated and will be removed from pandas in a future version. Use pandas.concat instead.\n",
      "\n",
      "C:\\Users\\Lukas\\AppData\\Local\\Temp\\ipykernel_24944\\6451062.py:8: FutureWarning:\n",
      "\n",
      "The frame.append method is deprecated and will be removed from pandas in a future version. Use pandas.concat instead.\n",
      "\n",
      "C:\\Users\\Lukas\\AppData\\Local\\Temp\\ipykernel_24944\\6451062.py:8: FutureWarning:\n",
      "\n",
      "The frame.append method is deprecated and will be removed from pandas in a future version. Use pandas.concat instead.\n",
      "\n",
      "C:\\Users\\Lukas\\AppData\\Local\\Temp\\ipykernel_24944\\6451062.py:8: FutureWarning:\n",
      "\n",
      "The frame.append method is deprecated and will be removed from pandas in a future version. Use pandas.concat instead.\n",
      "\n",
      "C:\\Users\\Lukas\\AppData\\Local\\Temp\\ipykernel_24944\\6451062.py:8: FutureWarning:\n",
      "\n",
      "The frame.append method is deprecated and will be removed from pandas in a future version. Use pandas.concat instead.\n",
      "\n",
      "C:\\Users\\Lukas\\AppData\\Local\\Temp\\ipykernel_24944\\6451062.py:8: FutureWarning:\n",
      "\n",
      "The frame.append method is deprecated and will be removed from pandas in a future version. Use pandas.concat instead.\n",
      "\n",
      "C:\\Users\\Lukas\\AppData\\Local\\Temp\\ipykernel_24944\\6451062.py:8: FutureWarning:\n",
      "\n",
      "The frame.append method is deprecated and will be removed from pandas in a future version. Use pandas.concat instead.\n",
      "\n",
      "C:\\Users\\Lukas\\AppData\\Local\\Temp\\ipykernel_24944\\6451062.py:8: FutureWarning:\n",
      "\n",
      "The frame.append method is deprecated and will be removed from pandas in a future version. Use pandas.concat instead.\n",
      "\n",
      "C:\\Users\\Lukas\\AppData\\Local\\Temp\\ipykernel_24944\\6451062.py:8: FutureWarning:\n",
      "\n",
      "The frame.append method is deprecated and will be removed from pandas in a future version. Use pandas.concat instead.\n",
      "\n",
      "C:\\Users\\Lukas\\AppData\\Local\\Temp\\ipykernel_24944\\6451062.py:8: FutureWarning:\n",
      "\n",
      "The frame.append method is deprecated and will be removed from pandas in a future version. Use pandas.concat instead.\n",
      "\n",
      "C:\\Users\\Lukas\\AppData\\Local\\Temp\\ipykernel_24944\\6451062.py:8: FutureWarning:\n",
      "\n",
      "The frame.append method is deprecated and will be removed from pandas in a future version. Use pandas.concat instead.\n",
      "\n",
      "C:\\Users\\Lukas\\AppData\\Local\\Temp\\ipykernel_24944\\6451062.py:8: FutureWarning:\n",
      "\n",
      "The frame.append method is deprecated and will be removed from pandas in a future version. Use pandas.concat instead.\n",
      "\n",
      "C:\\Users\\Lukas\\AppData\\Local\\Temp\\ipykernel_24944\\6451062.py:8: FutureWarning:\n",
      "\n",
      "The frame.append method is deprecated and will be removed from pandas in a future version. Use pandas.concat instead.\n",
      "\n",
      "C:\\Users\\Lukas\\AppData\\Local\\Temp\\ipykernel_24944\\6451062.py:8: FutureWarning:\n",
      "\n",
      "The frame.append method is deprecated and will be removed from pandas in a future version. Use pandas.concat instead.\n",
      "\n",
      "C:\\Users\\Lukas\\AppData\\Local\\Temp\\ipykernel_24944\\6451062.py:8: FutureWarning:\n",
      "\n",
      "The frame.append method is deprecated and will be removed from pandas in a future version. Use pandas.concat instead.\n",
      "\n",
      "C:\\Users\\Lukas\\AppData\\Local\\Temp\\ipykernel_24944\\6451062.py:8: FutureWarning:\n",
      "\n",
      "The frame.append method is deprecated and will be removed from pandas in a future version. Use pandas.concat instead.\n",
      "\n",
      "C:\\Users\\Lukas\\AppData\\Local\\Temp\\ipykernel_24944\\6451062.py:8: FutureWarning:\n",
      "\n",
      "The frame.append method is deprecated and will be removed from pandas in a future version. Use pandas.concat instead.\n",
      "\n",
      "C:\\Users\\Lukas\\AppData\\Local\\Temp\\ipykernel_24944\\6451062.py:8: FutureWarning:\n",
      "\n",
      "The frame.append method is deprecated and will be removed from pandas in a future version. Use pandas.concat instead.\n",
      "\n",
      "C:\\Users\\Lukas\\AppData\\Local\\Temp\\ipykernel_24944\\6451062.py:8: FutureWarning:\n",
      "\n",
      "The frame.append method is deprecated and will be removed from pandas in a future version. Use pandas.concat instead.\n",
      "\n",
      "C:\\Users\\Lukas\\AppData\\Local\\Temp\\ipykernel_24944\\6451062.py:8: FutureWarning:\n",
      "\n",
      "The frame.append method is deprecated and will be removed from pandas in a future version. Use pandas.concat instead.\n",
      "\n",
      "C:\\Users\\Lukas\\AppData\\Local\\Temp\\ipykernel_24944\\6451062.py:8: FutureWarning:\n",
      "\n",
      "The frame.append method is deprecated and will be removed from pandas in a future version. Use pandas.concat instead.\n",
      "\n",
      "C:\\Users\\Lukas\\AppData\\Local\\Temp\\ipykernel_24944\\6451062.py:8: FutureWarning:\n",
      "\n",
      "The frame.append method is deprecated and will be removed from pandas in a future version. Use pandas.concat instead.\n",
      "\n",
      "C:\\Users\\Lukas\\AppData\\Local\\Temp\\ipykernel_24944\\6451062.py:8: FutureWarning:\n",
      "\n",
      "The frame.append method is deprecated and will be removed from pandas in a future version. Use pandas.concat instead.\n",
      "\n",
      "C:\\Users\\Lukas\\AppData\\Local\\Temp\\ipykernel_24944\\6451062.py:8: FutureWarning:\n",
      "\n",
      "The frame.append method is deprecated and will be removed from pandas in a future version. Use pandas.concat instead.\n",
      "\n",
      "C:\\Users\\Lukas\\AppData\\Local\\Temp\\ipykernel_24944\\6451062.py:8: FutureWarning:\n",
      "\n",
      "The frame.append method is deprecated and will be removed from pandas in a future version. Use pandas.concat instead.\n",
      "\n",
      "C:\\Users\\Lukas\\AppData\\Local\\Temp\\ipykernel_24944\\6451062.py:8: FutureWarning:\n",
      "\n",
      "The frame.append method is deprecated and will be removed from pandas in a future version. Use pandas.concat instead.\n",
      "\n",
      "C:\\Users\\Lukas\\AppData\\Local\\Temp\\ipykernel_24944\\6451062.py:8: FutureWarning:\n",
      "\n",
      "The frame.append method is deprecated and will be removed from pandas in a future version. Use pandas.concat instead.\n",
      "\n",
      "C:\\Users\\Lukas\\AppData\\Local\\Temp\\ipykernel_24944\\6451062.py:8: FutureWarning:\n",
      "\n",
      "The frame.append method is deprecated and will be removed from pandas in a future version. Use pandas.concat instead.\n",
      "\n",
      "C:\\Users\\Lukas\\AppData\\Local\\Temp\\ipykernel_24944\\6451062.py:8: FutureWarning:\n",
      "\n",
      "The frame.append method is deprecated and will be removed from pandas in a future version. Use pandas.concat instead.\n",
      "\n",
      "C:\\Users\\Lukas\\AppData\\Local\\Temp\\ipykernel_24944\\6451062.py:8: FutureWarning:\n",
      "\n",
      "The frame.append method is deprecated and will be removed from pandas in a future version. Use pandas.concat instead.\n",
      "\n",
      "C:\\Users\\Lukas\\AppData\\Local\\Temp\\ipykernel_24944\\6451062.py:8: FutureWarning:\n",
      "\n",
      "The frame.append method is deprecated and will be removed from pandas in a future version. Use pandas.concat instead.\n",
      "\n",
      "C:\\Users\\Lukas\\AppData\\Local\\Temp\\ipykernel_24944\\6451062.py:8: FutureWarning:\n",
      "\n",
      "The frame.append method is deprecated and will be removed from pandas in a future version. Use pandas.concat instead.\n",
      "\n",
      "C:\\Users\\Lukas\\AppData\\Local\\Temp\\ipykernel_24944\\6451062.py:8: FutureWarning:\n",
      "\n",
      "The frame.append method is deprecated and will be removed from pandas in a future version. Use pandas.concat instead.\n",
      "\n",
      "C:\\Users\\Lukas\\AppData\\Local\\Temp\\ipykernel_24944\\6451062.py:8: FutureWarning:\n",
      "\n",
      "The frame.append method is deprecated and will be removed from pandas in a future version. Use pandas.concat instead.\n",
      "\n",
      "C:\\Users\\Lukas\\AppData\\Local\\Temp\\ipykernel_24944\\6451062.py:8: FutureWarning:\n",
      "\n",
      "The frame.append method is deprecated and will be removed from pandas in a future version. Use pandas.concat instead.\n",
      "\n",
      "C:\\Users\\Lukas\\AppData\\Local\\Temp\\ipykernel_24944\\6451062.py:8: FutureWarning:\n",
      "\n",
      "The frame.append method is deprecated and will be removed from pandas in a future version. Use pandas.concat instead.\n",
      "\n",
      "C:\\Users\\Lukas\\AppData\\Local\\Temp\\ipykernel_24944\\6451062.py:8: FutureWarning:\n",
      "\n",
      "The frame.append method is deprecated and will be removed from pandas in a future version. Use pandas.concat instead.\n",
      "\n",
      "C:\\Users\\Lukas\\AppData\\Local\\Temp\\ipykernel_24944\\6451062.py:8: FutureWarning:\n",
      "\n",
      "The frame.append method is deprecated and will be removed from pandas in a future version. Use pandas.concat instead.\n",
      "\n",
      "C:\\Users\\Lukas\\AppData\\Local\\Temp\\ipykernel_24944\\6451062.py:8: FutureWarning:\n",
      "\n",
      "The frame.append method is deprecated and will be removed from pandas in a future version. Use pandas.concat instead.\n",
      "\n",
      "C:\\Users\\Lukas\\AppData\\Local\\Temp\\ipykernel_24944\\6451062.py:8: FutureWarning:\n",
      "\n",
      "The frame.append method is deprecated and will be removed from pandas in a future version. Use pandas.concat instead.\n",
      "\n",
      "C:\\Users\\Lukas\\AppData\\Local\\Temp\\ipykernel_24944\\6451062.py:8: FutureWarning:\n",
      "\n",
      "The frame.append method is deprecated and will be removed from pandas in a future version. Use pandas.concat instead.\n",
      "\n",
      "C:\\Users\\Lukas\\AppData\\Local\\Temp\\ipykernel_24944\\6451062.py:8: FutureWarning:\n",
      "\n",
      "The frame.append method is deprecated and will be removed from pandas in a future version. Use pandas.concat instead.\n",
      "\n",
      "C:\\Users\\Lukas\\AppData\\Local\\Temp\\ipykernel_24944\\6451062.py:8: FutureWarning:\n",
      "\n",
      "The frame.append method is deprecated and will be removed from pandas in a future version. Use pandas.concat instead.\n",
      "\n",
      "C:\\Users\\Lukas\\AppData\\Local\\Temp\\ipykernel_24944\\6451062.py:8: FutureWarning:\n",
      "\n",
      "The frame.append method is deprecated and will be removed from pandas in a future version. Use pandas.concat instead.\n",
      "\n",
      "C:\\Users\\Lukas\\AppData\\Local\\Temp\\ipykernel_24944\\6451062.py:8: FutureWarning:\n",
      "\n",
      "The frame.append method is deprecated and will be removed from pandas in a future version. Use pandas.concat instead.\n",
      "\n",
      "C:\\Users\\Lukas\\AppData\\Local\\Temp\\ipykernel_24944\\6451062.py:8: FutureWarning:\n",
      "\n",
      "The frame.append method is deprecated and will be removed from pandas in a future version. Use pandas.concat instead.\n",
      "\n",
      "C:\\Users\\Lukas\\AppData\\Local\\Temp\\ipykernel_24944\\6451062.py:8: FutureWarning:\n",
      "\n",
      "The frame.append method is deprecated and will be removed from pandas in a future version. Use pandas.concat instead.\n",
      "\n",
      "C:\\Users\\Lukas\\AppData\\Local\\Temp\\ipykernel_24944\\6451062.py:8: FutureWarning:\n",
      "\n",
      "The frame.append method is deprecated and will be removed from pandas in a future version. Use pandas.concat instead.\n",
      "\n",
      "C:\\Users\\Lukas\\AppData\\Local\\Temp\\ipykernel_24944\\6451062.py:8: FutureWarning:\n",
      "\n",
      "The frame.append method is deprecated and will be removed from pandas in a future version. Use pandas.concat instead.\n",
      "\n",
      "C:\\Users\\Lukas\\AppData\\Local\\Temp\\ipykernel_24944\\6451062.py:8: FutureWarning:\n",
      "\n",
      "The frame.append method is deprecated and will be removed from pandas in a future version. Use pandas.concat instead.\n",
      "\n",
      "C:\\Users\\Lukas\\AppData\\Local\\Temp\\ipykernel_24944\\6451062.py:8: FutureWarning:\n",
      "\n",
      "The frame.append method is deprecated and will be removed from pandas in a future version. Use pandas.concat instead.\n",
      "\n",
      "C:\\Users\\Lukas\\AppData\\Local\\Temp\\ipykernel_24944\\6451062.py:8: FutureWarning:\n",
      "\n",
      "The frame.append method is deprecated and will be removed from pandas in a future version. Use pandas.concat instead.\n",
      "\n",
      "C:\\Users\\Lukas\\AppData\\Local\\Temp\\ipykernel_24944\\6451062.py:8: FutureWarning:\n",
      "\n",
      "The frame.append method is deprecated and will be removed from pandas in a future version. Use pandas.concat instead.\n",
      "\n",
      "C:\\Users\\Lukas\\AppData\\Local\\Temp\\ipykernel_24944\\6451062.py:8: FutureWarning:\n",
      "\n",
      "The frame.append method is deprecated and will be removed from pandas in a future version. Use pandas.concat instead.\n",
      "\n",
      "C:\\Users\\Lukas\\AppData\\Local\\Temp\\ipykernel_24944\\6451062.py:8: FutureWarning:\n",
      "\n",
      "The frame.append method is deprecated and will be removed from pandas in a future version. Use pandas.concat instead.\n",
      "\n",
      "C:\\Users\\Lukas\\AppData\\Local\\Temp\\ipykernel_24944\\6451062.py:8: FutureWarning:\n",
      "\n",
      "The frame.append method is deprecated and will be removed from pandas in a future version. Use pandas.concat instead.\n",
      "\n",
      "C:\\Users\\Lukas\\AppData\\Local\\Temp\\ipykernel_24944\\6451062.py:8: FutureWarning:\n",
      "\n",
      "The frame.append method is deprecated and will be removed from pandas in a future version. Use pandas.concat instead.\n",
      "\n",
      "C:\\Users\\Lukas\\AppData\\Local\\Temp\\ipykernel_24944\\6451062.py:8: FutureWarning:\n",
      "\n",
      "The frame.append method is deprecated and will be removed from pandas in a future version. Use pandas.concat instead.\n",
      "\n",
      "C:\\Users\\Lukas\\AppData\\Local\\Temp\\ipykernel_24944\\6451062.py:8: FutureWarning:\n",
      "\n",
      "The frame.append method is deprecated and will be removed from pandas in a future version. Use pandas.concat instead.\n",
      "\n",
      "C:\\Users\\Lukas\\AppData\\Local\\Temp\\ipykernel_24944\\6451062.py:8: FutureWarning:\n",
      "\n",
      "The frame.append method is deprecated and will be removed from pandas in a future version. Use pandas.concat instead.\n",
      "\n",
      "C:\\Users\\Lukas\\AppData\\Local\\Temp\\ipykernel_24944\\6451062.py:8: FutureWarning:\n",
      "\n",
      "The frame.append method is deprecated and will be removed from pandas in a future version. Use pandas.concat instead.\n",
      "\n",
      "C:\\Users\\Lukas\\AppData\\Local\\Temp\\ipykernel_24944\\6451062.py:8: FutureWarning:\n",
      "\n",
      "The frame.append method is deprecated and will be removed from pandas in a future version. Use pandas.concat instead.\n",
      "\n",
      "C:\\Users\\Lukas\\AppData\\Local\\Temp\\ipykernel_24944\\6451062.py:8: FutureWarning:\n",
      "\n",
      "The frame.append method is deprecated and will be removed from pandas in a future version. Use pandas.concat instead.\n",
      "\n",
      "C:\\Users\\Lukas\\AppData\\Local\\Temp\\ipykernel_24944\\6451062.py:8: FutureWarning:\n",
      "\n",
      "The frame.append method is deprecated and will be removed from pandas in a future version. Use pandas.concat instead.\n",
      "\n",
      "C:\\Users\\Lukas\\AppData\\Local\\Temp\\ipykernel_24944\\6451062.py:8: FutureWarning:\n",
      "\n",
      "The frame.append method is deprecated and will be removed from pandas in a future version. Use pandas.concat instead.\n",
      "\n",
      "C:\\Users\\Lukas\\AppData\\Local\\Temp\\ipykernel_24944\\6451062.py:8: FutureWarning:\n",
      "\n",
      "The frame.append method is deprecated and will be removed from pandas in a future version. Use pandas.concat instead.\n",
      "\n",
      "C:\\Users\\Lukas\\AppData\\Local\\Temp\\ipykernel_24944\\6451062.py:8: FutureWarning:\n",
      "\n",
      "The frame.append method is deprecated and will be removed from pandas in a future version. Use pandas.concat instead.\n",
      "\n",
      "C:\\Users\\Lukas\\AppData\\Local\\Temp\\ipykernel_24944\\6451062.py:8: FutureWarning:\n",
      "\n",
      "The frame.append method is deprecated and will be removed from pandas in a future version. Use pandas.concat instead.\n",
      "\n",
      "C:\\Users\\Lukas\\AppData\\Local\\Temp\\ipykernel_24944\\6451062.py:8: FutureWarning:\n",
      "\n",
      "The frame.append method is deprecated and will be removed from pandas in a future version. Use pandas.concat instead.\n",
      "\n",
      "C:\\Users\\Lukas\\AppData\\Local\\Temp\\ipykernel_24944\\6451062.py:8: FutureWarning:\n",
      "\n",
      "The frame.append method is deprecated and will be removed from pandas in a future version. Use pandas.concat instead.\n",
      "\n",
      "C:\\Users\\Lukas\\AppData\\Local\\Temp\\ipykernel_24944\\6451062.py:8: FutureWarning:\n",
      "\n",
      "The frame.append method is deprecated and will be removed from pandas in a future version. Use pandas.concat instead.\n",
      "\n",
      "C:\\Users\\Lukas\\AppData\\Local\\Temp\\ipykernel_24944\\6451062.py:8: FutureWarning:\n",
      "\n",
      "The frame.append method is deprecated and will be removed from pandas in a future version. Use pandas.concat instead.\n",
      "\n",
      "C:\\Users\\Lukas\\AppData\\Local\\Temp\\ipykernel_24944\\6451062.py:8: FutureWarning:\n",
      "\n",
      "The frame.append method is deprecated and will be removed from pandas in a future version. Use pandas.concat instead.\n",
      "\n",
      "C:\\Users\\Lukas\\AppData\\Local\\Temp\\ipykernel_24944\\6451062.py:8: FutureWarning:\n",
      "\n",
      "The frame.append method is deprecated and will be removed from pandas in a future version. Use pandas.concat instead.\n",
      "\n",
      "C:\\Users\\Lukas\\AppData\\Local\\Temp\\ipykernel_24944\\6451062.py:8: FutureWarning:\n",
      "\n",
      "The frame.append method is deprecated and will be removed from pandas in a future version. Use pandas.concat instead.\n",
      "\n",
      "C:\\Users\\Lukas\\AppData\\Local\\Temp\\ipykernel_24944\\6451062.py:8: FutureWarning:\n",
      "\n",
      "The frame.append method is deprecated and will be removed from pandas in a future version. Use pandas.concat instead.\n",
      "\n",
      "C:\\Users\\Lukas\\AppData\\Local\\Temp\\ipykernel_24944\\6451062.py:8: FutureWarning:\n",
      "\n",
      "The frame.append method is deprecated and will be removed from pandas in a future version. Use pandas.concat instead.\n",
      "\n",
      "C:\\Users\\Lukas\\AppData\\Local\\Temp\\ipykernel_24944\\6451062.py:8: FutureWarning:\n",
      "\n",
      "The frame.append method is deprecated and will be removed from pandas in a future version. Use pandas.concat instead.\n",
      "\n",
      "C:\\Users\\Lukas\\AppData\\Local\\Temp\\ipykernel_24944\\6451062.py:8: FutureWarning:\n",
      "\n",
      "The frame.append method is deprecated and will be removed from pandas in a future version. Use pandas.concat instead.\n",
      "\n",
      "C:\\Users\\Lukas\\AppData\\Local\\Temp\\ipykernel_24944\\6451062.py:8: FutureWarning:\n",
      "\n",
      "The frame.append method is deprecated and will be removed from pandas in a future version. Use pandas.concat instead.\n",
      "\n",
      "C:\\Users\\Lukas\\AppData\\Local\\Temp\\ipykernel_24944\\6451062.py:8: FutureWarning:\n",
      "\n",
      "The frame.append method is deprecated and will be removed from pandas in a future version. Use pandas.concat instead.\n",
      "\n",
      "C:\\Users\\Lukas\\AppData\\Local\\Temp\\ipykernel_24944\\6451062.py:8: FutureWarning:\n",
      "\n",
      "The frame.append method is deprecated and will be removed from pandas in a future version. Use pandas.concat instead.\n",
      "\n",
      "C:\\Users\\Lukas\\AppData\\Local\\Temp\\ipykernel_24944\\6451062.py:8: FutureWarning:\n",
      "\n",
      "The frame.append method is deprecated and will be removed from pandas in a future version. Use pandas.concat instead.\n",
      "\n",
      "C:\\Users\\Lukas\\AppData\\Local\\Temp\\ipykernel_24944\\6451062.py:8: FutureWarning:\n",
      "\n",
      "The frame.append method is deprecated and will be removed from pandas in a future version. Use pandas.concat instead.\n",
      "\n",
      "C:\\Users\\Lukas\\AppData\\Local\\Temp\\ipykernel_24944\\6451062.py:8: FutureWarning:\n",
      "\n",
      "The frame.append method is deprecated and will be removed from pandas in a future version. Use pandas.concat instead.\n",
      "\n",
      "C:\\Users\\Lukas\\AppData\\Local\\Temp\\ipykernel_24944\\6451062.py:8: FutureWarning:\n",
      "\n",
      "The frame.append method is deprecated and will be removed from pandas in a future version. Use pandas.concat instead.\n",
      "\n",
      "C:\\Users\\Lukas\\AppData\\Local\\Temp\\ipykernel_24944\\6451062.py:8: FutureWarning:\n",
      "\n",
      "The frame.append method is deprecated and will be removed from pandas in a future version. Use pandas.concat instead.\n",
      "\n",
      "C:\\Users\\Lukas\\AppData\\Local\\Temp\\ipykernel_24944\\6451062.py:8: FutureWarning:\n",
      "\n",
      "The frame.append method is deprecated and will be removed from pandas in a future version. Use pandas.concat instead.\n",
      "\n",
      "C:\\Users\\Lukas\\AppData\\Local\\Temp\\ipykernel_24944\\6451062.py:8: FutureWarning:\n",
      "\n",
      "The frame.append method is deprecated and will be removed from pandas in a future version. Use pandas.concat instead.\n",
      "\n",
      "C:\\Users\\Lukas\\AppData\\Local\\Temp\\ipykernel_24944\\6451062.py:8: FutureWarning:\n",
      "\n",
      "The frame.append method is deprecated and will be removed from pandas in a future version. Use pandas.concat instead.\n",
      "\n",
      "C:\\Users\\Lukas\\AppData\\Local\\Temp\\ipykernel_24944\\6451062.py:8: FutureWarning:\n",
      "\n",
      "The frame.append method is deprecated and will be removed from pandas in a future version. Use pandas.concat instead.\n",
      "\n",
      "C:\\Users\\Lukas\\AppData\\Local\\Temp\\ipykernel_24944\\6451062.py:8: FutureWarning:\n",
      "\n",
      "The frame.append method is deprecated and will be removed from pandas in a future version. Use pandas.concat instead.\n",
      "\n",
      "C:\\Users\\Lukas\\AppData\\Local\\Temp\\ipykernel_24944\\6451062.py:8: FutureWarning:\n",
      "\n",
      "The frame.append method is deprecated and will be removed from pandas in a future version. Use pandas.concat instead.\n",
      "\n",
      "C:\\Users\\Lukas\\AppData\\Local\\Temp\\ipykernel_24944\\6451062.py:8: FutureWarning:\n",
      "\n",
      "The frame.append method is deprecated and will be removed from pandas in a future version. Use pandas.concat instead.\n",
      "\n",
      "C:\\Users\\Lukas\\AppData\\Local\\Temp\\ipykernel_24944\\6451062.py:8: FutureWarning:\n",
      "\n",
      "The frame.append method is deprecated and will be removed from pandas in a future version. Use pandas.concat instead.\n",
      "\n",
      "C:\\Users\\Lukas\\AppData\\Local\\Temp\\ipykernel_24944\\6451062.py:8: FutureWarning:\n",
      "\n",
      "The frame.append method is deprecated and will be removed from pandas in a future version. Use pandas.concat instead.\n",
      "\n",
      "C:\\Users\\Lukas\\AppData\\Local\\Temp\\ipykernel_24944\\6451062.py:8: FutureWarning:\n",
      "\n",
      "The frame.append method is deprecated and will be removed from pandas in a future version. Use pandas.concat instead.\n",
      "\n",
      "C:\\Users\\Lukas\\AppData\\Local\\Temp\\ipykernel_24944\\6451062.py:8: FutureWarning:\n",
      "\n",
      "The frame.append method is deprecated and will be removed from pandas in a future version. Use pandas.concat instead.\n",
      "\n",
      "C:\\Users\\Lukas\\AppData\\Local\\Temp\\ipykernel_24944\\6451062.py:8: FutureWarning:\n",
      "\n",
      "The frame.append method is deprecated and will be removed from pandas in a future version. Use pandas.concat instead.\n",
      "\n",
      "C:\\Users\\Lukas\\AppData\\Local\\Temp\\ipykernel_24944\\6451062.py:8: FutureWarning:\n",
      "\n",
      "The frame.append method is deprecated and will be removed from pandas in a future version. Use pandas.concat instead.\n",
      "\n",
      "C:\\Users\\Lukas\\AppData\\Local\\Temp\\ipykernel_24944\\6451062.py:8: FutureWarning:\n",
      "\n",
      "The frame.append method is deprecated and will be removed from pandas in a future version. Use pandas.concat instead.\n",
      "\n",
      "C:\\Users\\Lukas\\AppData\\Local\\Temp\\ipykernel_24944\\6451062.py:8: FutureWarning:\n",
      "\n",
      "The frame.append method is deprecated and will be removed from pandas in a future version. Use pandas.concat instead.\n",
      "\n",
      "C:\\Users\\Lukas\\AppData\\Local\\Temp\\ipykernel_24944\\6451062.py:8: FutureWarning:\n",
      "\n",
      "The frame.append method is deprecated and will be removed from pandas in a future version. Use pandas.concat instead.\n",
      "\n",
      "C:\\Users\\Lukas\\AppData\\Local\\Temp\\ipykernel_24944\\6451062.py:8: FutureWarning:\n",
      "\n",
      "The frame.append method is deprecated and will be removed from pandas in a future version. Use pandas.concat instead.\n",
      "\n",
      "C:\\Users\\Lukas\\AppData\\Local\\Temp\\ipykernel_24944\\6451062.py:8: FutureWarning:\n",
      "\n",
      "The frame.append method is deprecated and will be removed from pandas in a future version. Use pandas.concat instead.\n",
      "\n",
      "C:\\Users\\Lukas\\AppData\\Local\\Temp\\ipykernel_24944\\6451062.py:8: FutureWarning:\n",
      "\n",
      "The frame.append method is deprecated and will be removed from pandas in a future version. Use pandas.concat instead.\n",
      "\n",
      "C:\\Users\\Lukas\\AppData\\Local\\Temp\\ipykernel_24944\\6451062.py:8: FutureWarning:\n",
      "\n",
      "The frame.append method is deprecated and will be removed from pandas in a future version. Use pandas.concat instead.\n",
      "\n",
      "C:\\Users\\Lukas\\AppData\\Local\\Temp\\ipykernel_24944\\6451062.py:8: FutureWarning:\n",
      "\n",
      "The frame.append method is deprecated and will be removed from pandas in a future version. Use pandas.concat instead.\n",
      "\n",
      "C:\\Users\\Lukas\\AppData\\Local\\Temp\\ipykernel_24944\\6451062.py:8: FutureWarning:\n",
      "\n",
      "The frame.append method is deprecated and will be removed from pandas in a future version. Use pandas.concat instead.\n",
      "\n",
      "C:\\Users\\Lukas\\AppData\\Local\\Temp\\ipykernel_24944\\6451062.py:8: FutureWarning:\n",
      "\n",
      "The frame.append method is deprecated and will be removed from pandas in a future version. Use pandas.concat instead.\n",
      "\n",
      "C:\\Users\\Lukas\\AppData\\Local\\Temp\\ipykernel_24944\\6451062.py:8: FutureWarning:\n",
      "\n",
      "The frame.append method is deprecated and will be removed from pandas in a future version. Use pandas.concat instead.\n",
      "\n",
      "C:\\Users\\Lukas\\AppData\\Local\\Temp\\ipykernel_24944\\6451062.py:8: FutureWarning:\n",
      "\n",
      "The frame.append method is deprecated and will be removed from pandas in a future version. Use pandas.concat instead.\n",
      "\n",
      "C:\\Users\\Lukas\\AppData\\Local\\Temp\\ipykernel_24944\\6451062.py:8: FutureWarning:\n",
      "\n",
      "The frame.append method is deprecated and will be removed from pandas in a future version. Use pandas.concat instead.\n",
      "\n",
      "C:\\Users\\Lukas\\AppData\\Local\\Temp\\ipykernel_24944\\6451062.py:8: FutureWarning:\n",
      "\n",
      "The frame.append method is deprecated and will be removed from pandas in a future version. Use pandas.concat instead.\n",
      "\n",
      "C:\\Users\\Lukas\\AppData\\Local\\Temp\\ipykernel_24944\\6451062.py:8: FutureWarning:\n",
      "\n",
      "The frame.append method is deprecated and will be removed from pandas in a future version. Use pandas.concat instead.\n",
      "\n",
      "C:\\Users\\Lukas\\AppData\\Local\\Temp\\ipykernel_24944\\6451062.py:8: FutureWarning:\n",
      "\n",
      "The frame.append method is deprecated and will be removed from pandas in a future version. Use pandas.concat instead.\n",
      "\n",
      "C:\\Users\\Lukas\\AppData\\Local\\Temp\\ipykernel_24944\\6451062.py:8: FutureWarning:\n",
      "\n",
      "The frame.append method is deprecated and will be removed from pandas in a future version. Use pandas.concat instead.\n",
      "\n",
      "C:\\Users\\Lukas\\AppData\\Local\\Temp\\ipykernel_24944\\6451062.py:8: FutureWarning:\n",
      "\n",
      "The frame.append method is deprecated and will be removed from pandas in a future version. Use pandas.concat instead.\n",
      "\n",
      "C:\\Users\\Lukas\\AppData\\Local\\Temp\\ipykernel_24944\\6451062.py:8: FutureWarning:\n",
      "\n",
      "The frame.append method is deprecated and will be removed from pandas in a future version. Use pandas.concat instead.\n",
      "\n",
      "C:\\Users\\Lukas\\AppData\\Local\\Temp\\ipykernel_24944\\6451062.py:8: FutureWarning:\n",
      "\n",
      "The frame.append method is deprecated and will be removed from pandas in a future version. Use pandas.concat instead.\n",
      "\n",
      "C:\\Users\\Lukas\\AppData\\Local\\Temp\\ipykernel_24944\\6451062.py:8: FutureWarning:\n",
      "\n",
      "The frame.append method is deprecated and will be removed from pandas in a future version. Use pandas.concat instead.\n",
      "\n",
      "C:\\Users\\Lukas\\AppData\\Local\\Temp\\ipykernel_24944\\6451062.py:8: FutureWarning:\n",
      "\n",
      "The frame.append method is deprecated and will be removed from pandas in a future version. Use pandas.concat instead.\n",
      "\n",
      "C:\\Users\\Lukas\\AppData\\Local\\Temp\\ipykernel_24944\\6451062.py:8: FutureWarning:\n",
      "\n",
      "The frame.append method is deprecated and will be removed from pandas in a future version. Use pandas.concat instead.\n",
      "\n",
      "C:\\Users\\Lukas\\AppData\\Local\\Temp\\ipykernel_24944\\6451062.py:8: FutureWarning:\n",
      "\n",
      "The frame.append method is deprecated and will be removed from pandas in a future version. Use pandas.concat instead.\n",
      "\n",
      "C:\\Users\\Lukas\\AppData\\Local\\Temp\\ipykernel_24944\\6451062.py:8: FutureWarning:\n",
      "\n",
      "The frame.append method is deprecated and will be removed from pandas in a future version. Use pandas.concat instead.\n",
      "\n",
      "C:\\Users\\Lukas\\AppData\\Local\\Temp\\ipykernel_24944\\6451062.py:8: FutureWarning:\n",
      "\n",
      "The frame.append method is deprecated and will be removed from pandas in a future version. Use pandas.concat instead.\n",
      "\n",
      "C:\\Users\\Lukas\\AppData\\Local\\Temp\\ipykernel_24944\\6451062.py:8: FutureWarning:\n",
      "\n",
      "The frame.append method is deprecated and will be removed from pandas in a future version. Use pandas.concat instead.\n",
      "\n",
      "C:\\Users\\Lukas\\AppData\\Local\\Temp\\ipykernel_24944\\6451062.py:8: FutureWarning:\n",
      "\n",
      "The frame.append method is deprecated and will be removed from pandas in a future version. Use pandas.concat instead.\n",
      "\n",
      "C:\\Users\\Lukas\\AppData\\Local\\Temp\\ipykernel_24944\\6451062.py:8: FutureWarning:\n",
      "\n",
      "The frame.append method is deprecated and will be removed from pandas in a future version. Use pandas.concat instead.\n",
      "\n",
      "C:\\Users\\Lukas\\AppData\\Local\\Temp\\ipykernel_24944\\6451062.py:8: FutureWarning:\n",
      "\n",
      "The frame.append method is deprecated and will be removed from pandas in a future version. Use pandas.concat instead.\n",
      "\n",
      "C:\\Users\\Lukas\\AppData\\Local\\Temp\\ipykernel_24944\\6451062.py:8: FutureWarning:\n",
      "\n",
      "The frame.append method is deprecated and will be removed from pandas in a future version. Use pandas.concat instead.\n",
      "\n",
      "C:\\Users\\Lukas\\AppData\\Local\\Temp\\ipykernel_24944\\6451062.py:8: FutureWarning:\n",
      "\n",
      "The frame.append method is deprecated and will be removed from pandas in a future version. Use pandas.concat instead.\n",
      "\n",
      "C:\\Users\\Lukas\\AppData\\Local\\Temp\\ipykernel_24944\\6451062.py:8: FutureWarning:\n",
      "\n",
      "The frame.append method is deprecated and will be removed from pandas in a future version. Use pandas.concat instead.\n",
      "\n",
      "C:\\Users\\Lukas\\AppData\\Local\\Temp\\ipykernel_24944\\6451062.py:8: FutureWarning:\n",
      "\n",
      "The frame.append method is deprecated and will be removed from pandas in a future version. Use pandas.concat instead.\n",
      "\n",
      "C:\\Users\\Lukas\\AppData\\Local\\Temp\\ipykernel_24944\\6451062.py:8: FutureWarning:\n",
      "\n",
      "The frame.append method is deprecated and will be removed from pandas in a future version. Use pandas.concat instead.\n",
      "\n",
      "C:\\Users\\Lukas\\AppData\\Local\\Temp\\ipykernel_24944\\6451062.py:8: FutureWarning:\n",
      "\n",
      "The frame.append method is deprecated and will be removed from pandas in a future version. Use pandas.concat instead.\n",
      "\n",
      "C:\\Users\\Lukas\\AppData\\Local\\Temp\\ipykernel_24944\\6451062.py:8: FutureWarning:\n",
      "\n",
      "The frame.append method is deprecated and will be removed from pandas in a future version. Use pandas.concat instead.\n",
      "\n",
      "C:\\Users\\Lukas\\AppData\\Local\\Temp\\ipykernel_24944\\6451062.py:8: FutureWarning:\n",
      "\n",
      "The frame.append method is deprecated and will be removed from pandas in a future version. Use pandas.concat instead.\n",
      "\n",
      "C:\\Users\\Lukas\\AppData\\Local\\Temp\\ipykernel_24944\\6451062.py:8: FutureWarning:\n",
      "\n",
      "The frame.append method is deprecated and will be removed from pandas in a future version. Use pandas.concat instead.\n",
      "\n",
      "C:\\Users\\Lukas\\AppData\\Local\\Temp\\ipykernel_24944\\6451062.py:8: FutureWarning:\n",
      "\n",
      "The frame.append method is deprecated and will be removed from pandas in a future version. Use pandas.concat instead.\n",
      "\n",
      "C:\\Users\\Lukas\\AppData\\Local\\Temp\\ipykernel_24944\\6451062.py:8: FutureWarning:\n",
      "\n",
      "The frame.append method is deprecated and will be removed from pandas in a future version. Use pandas.concat instead.\n",
      "\n",
      "C:\\Users\\Lukas\\AppData\\Local\\Temp\\ipykernel_24944\\6451062.py:8: FutureWarning:\n",
      "\n",
      "The frame.append method is deprecated and will be removed from pandas in a future version. Use pandas.concat instead.\n",
      "\n",
      "C:\\Users\\Lukas\\AppData\\Local\\Temp\\ipykernel_24944\\6451062.py:8: FutureWarning:\n",
      "\n",
      "The frame.append method is deprecated and will be removed from pandas in a future version. Use pandas.concat instead.\n",
      "\n",
      "C:\\Users\\Lukas\\AppData\\Local\\Temp\\ipykernel_24944\\6451062.py:8: FutureWarning:\n",
      "\n",
      "The frame.append method is deprecated and will be removed from pandas in a future version. Use pandas.concat instead.\n",
      "\n",
      "C:\\Users\\Lukas\\AppData\\Local\\Temp\\ipykernel_24944\\6451062.py:8: FutureWarning:\n",
      "\n",
      "The frame.append method is deprecated and will be removed from pandas in a future version. Use pandas.concat instead.\n",
      "\n",
      "C:\\Users\\Lukas\\AppData\\Local\\Temp\\ipykernel_24944\\6451062.py:8: FutureWarning:\n",
      "\n",
      "The frame.append method is deprecated and will be removed from pandas in a future version. Use pandas.concat instead.\n",
      "\n",
      "C:\\Users\\Lukas\\AppData\\Local\\Temp\\ipykernel_24944\\6451062.py:8: FutureWarning:\n",
      "\n",
      "The frame.append method is deprecated and will be removed from pandas in a future version. Use pandas.concat instead.\n",
      "\n",
      "C:\\Users\\Lukas\\AppData\\Local\\Temp\\ipykernel_24944\\6451062.py:8: FutureWarning:\n",
      "\n",
      "The frame.append method is deprecated and will be removed from pandas in a future version. Use pandas.concat instead.\n",
      "\n",
      "C:\\Users\\Lukas\\AppData\\Local\\Temp\\ipykernel_24944\\6451062.py:8: FutureWarning:\n",
      "\n",
      "The frame.append method is deprecated and will be removed from pandas in a future version. Use pandas.concat instead.\n",
      "\n",
      "C:\\Users\\Lukas\\AppData\\Local\\Temp\\ipykernel_24944\\6451062.py:8: FutureWarning:\n",
      "\n",
      "The frame.append method is deprecated and will be removed from pandas in a future version. Use pandas.concat instead.\n",
      "\n",
      "C:\\Users\\Lukas\\AppData\\Local\\Temp\\ipykernel_24944\\6451062.py:8: FutureWarning:\n",
      "\n",
      "The frame.append method is deprecated and will be removed from pandas in a future version. Use pandas.concat instead.\n",
      "\n",
      "C:\\Users\\Lukas\\AppData\\Local\\Temp\\ipykernel_24944\\6451062.py:8: FutureWarning:\n",
      "\n",
      "The frame.append method is deprecated and will be removed from pandas in a future version. Use pandas.concat instead.\n",
      "\n",
      "C:\\Users\\Lukas\\AppData\\Local\\Temp\\ipykernel_24944\\6451062.py:8: FutureWarning:\n",
      "\n",
      "The frame.append method is deprecated and will be removed from pandas in a future version. Use pandas.concat instead.\n",
      "\n",
      "C:\\Users\\Lukas\\AppData\\Local\\Temp\\ipykernel_24944\\6451062.py:8: FutureWarning:\n",
      "\n",
      "The frame.append method is deprecated and will be removed from pandas in a future version. Use pandas.concat instead.\n",
      "\n",
      "C:\\Users\\Lukas\\AppData\\Local\\Temp\\ipykernel_24944\\6451062.py:8: FutureWarning:\n",
      "\n",
      "The frame.append method is deprecated and will be removed from pandas in a future version. Use pandas.concat instead.\n",
      "\n",
      "C:\\Users\\Lukas\\AppData\\Local\\Temp\\ipykernel_24944\\6451062.py:8: FutureWarning:\n",
      "\n",
      "The frame.append method is deprecated and will be removed from pandas in a future version. Use pandas.concat instead.\n",
      "\n",
      "C:\\Users\\Lukas\\AppData\\Local\\Temp\\ipykernel_24944\\6451062.py:8: FutureWarning:\n",
      "\n",
      "The frame.append method is deprecated and will be removed from pandas in a future version. Use pandas.concat instead.\n",
      "\n",
      "C:\\Users\\Lukas\\AppData\\Local\\Temp\\ipykernel_24944\\6451062.py:8: FutureWarning:\n",
      "\n",
      "The frame.append method is deprecated and will be removed from pandas in a future version. Use pandas.concat instead.\n",
      "\n",
      "C:\\Users\\Lukas\\AppData\\Local\\Temp\\ipykernel_24944\\6451062.py:8: FutureWarning:\n",
      "\n",
      "The frame.append method is deprecated and will be removed from pandas in a future version. Use pandas.concat instead.\n",
      "\n",
      "C:\\Users\\Lukas\\AppData\\Local\\Temp\\ipykernel_24944\\6451062.py:8: FutureWarning:\n",
      "\n",
      "The frame.append method is deprecated and will be removed from pandas in a future version. Use pandas.concat instead.\n",
      "\n",
      "C:\\Users\\Lukas\\AppData\\Local\\Temp\\ipykernel_24944\\6451062.py:8: FutureWarning:\n",
      "\n",
      "The frame.append method is deprecated and will be removed from pandas in a future version. Use pandas.concat instead.\n",
      "\n",
      "C:\\Users\\Lukas\\AppData\\Local\\Temp\\ipykernel_24944\\6451062.py:8: FutureWarning:\n",
      "\n",
      "The frame.append method is deprecated and will be removed from pandas in a future version. Use pandas.concat instead.\n",
      "\n",
      "C:\\Users\\Lukas\\AppData\\Local\\Temp\\ipykernel_24944\\6451062.py:8: FutureWarning:\n",
      "\n",
      "The frame.append method is deprecated and will be removed from pandas in a future version. Use pandas.concat instead.\n",
      "\n",
      "C:\\Users\\Lukas\\AppData\\Local\\Temp\\ipykernel_24944\\6451062.py:8: FutureWarning:\n",
      "\n",
      "The frame.append method is deprecated and will be removed from pandas in a future version. Use pandas.concat instead.\n",
      "\n",
      "C:\\Users\\Lukas\\AppData\\Local\\Temp\\ipykernel_24944\\6451062.py:8: FutureWarning:\n",
      "\n",
      "The frame.append method is deprecated and will be removed from pandas in a future version. Use pandas.concat instead.\n",
      "\n",
      "C:\\Users\\Lukas\\AppData\\Local\\Temp\\ipykernel_24944\\6451062.py:8: FutureWarning:\n",
      "\n",
      "The frame.append method is deprecated and will be removed from pandas in a future version. Use pandas.concat instead.\n",
      "\n",
      "C:\\Users\\Lukas\\AppData\\Local\\Temp\\ipykernel_24944\\6451062.py:8: FutureWarning:\n",
      "\n",
      "The frame.append method is deprecated and will be removed from pandas in a future version. Use pandas.concat instead.\n",
      "\n",
      "C:\\Users\\Lukas\\AppData\\Local\\Temp\\ipykernel_24944\\6451062.py:8: FutureWarning:\n",
      "\n",
      "The frame.append method is deprecated and will be removed from pandas in a future version. Use pandas.concat instead.\n",
      "\n",
      "C:\\Users\\Lukas\\AppData\\Local\\Temp\\ipykernel_24944\\6451062.py:8: FutureWarning:\n",
      "\n",
      "The frame.append method is deprecated and will be removed from pandas in a future version. Use pandas.concat instead.\n",
      "\n",
      "C:\\Users\\Lukas\\AppData\\Local\\Temp\\ipykernel_24944\\6451062.py:8: FutureWarning:\n",
      "\n",
      "The frame.append method is deprecated and will be removed from pandas in a future version. Use pandas.concat instead.\n",
      "\n",
      "C:\\Users\\Lukas\\AppData\\Local\\Temp\\ipykernel_24944\\6451062.py:8: FutureWarning:\n",
      "\n",
      "The frame.append method is deprecated and will be removed from pandas in a future version. Use pandas.concat instead.\n",
      "\n",
      "C:\\Users\\Lukas\\AppData\\Local\\Temp\\ipykernel_24944\\6451062.py:8: FutureWarning:\n",
      "\n",
      "The frame.append method is deprecated and will be removed from pandas in a future version. Use pandas.concat instead.\n",
      "\n",
      "C:\\Users\\Lukas\\AppData\\Local\\Temp\\ipykernel_24944\\6451062.py:8: FutureWarning:\n",
      "\n",
      "The frame.append method is deprecated and will be removed from pandas in a future version. Use pandas.concat instead.\n",
      "\n",
      "C:\\Users\\Lukas\\AppData\\Local\\Temp\\ipykernel_24944\\6451062.py:8: FutureWarning:\n",
      "\n",
      "The frame.append method is deprecated and will be removed from pandas in a future version. Use pandas.concat instead.\n",
      "\n",
      "C:\\Users\\Lukas\\AppData\\Local\\Temp\\ipykernel_24944\\6451062.py:8: FutureWarning:\n",
      "\n",
      "The frame.append method is deprecated and will be removed from pandas in a future version. Use pandas.concat instead.\n",
      "\n",
      "C:\\Users\\Lukas\\AppData\\Local\\Temp\\ipykernel_24944\\6451062.py:8: FutureWarning:\n",
      "\n",
      "The frame.append method is deprecated and will be removed from pandas in a future version. Use pandas.concat instead.\n",
      "\n",
      "C:\\Users\\Lukas\\AppData\\Local\\Temp\\ipykernel_24944\\6451062.py:8: FutureWarning:\n",
      "\n",
      "The frame.append method is deprecated and will be removed from pandas in a future version. Use pandas.concat instead.\n",
      "\n",
      "C:\\Users\\Lukas\\AppData\\Local\\Temp\\ipykernel_24944\\6451062.py:8: FutureWarning:\n",
      "\n",
      "The frame.append method is deprecated and will be removed from pandas in a future version. Use pandas.concat instead.\n",
      "\n",
      "C:\\Users\\Lukas\\AppData\\Local\\Temp\\ipykernel_24944\\6451062.py:8: FutureWarning:\n",
      "\n",
      "The frame.append method is deprecated and will be removed from pandas in a future version. Use pandas.concat instead.\n",
      "\n",
      "C:\\Users\\Lukas\\AppData\\Local\\Temp\\ipykernel_24944\\6451062.py:8: FutureWarning:\n",
      "\n",
      "The frame.append method is deprecated and will be removed from pandas in a future version. Use pandas.concat instead.\n",
      "\n",
      "C:\\Users\\Lukas\\AppData\\Local\\Temp\\ipykernel_24944\\6451062.py:8: FutureWarning:\n",
      "\n",
      "The frame.append method is deprecated and will be removed from pandas in a future version. Use pandas.concat instead.\n",
      "\n",
      "C:\\Users\\Lukas\\AppData\\Local\\Temp\\ipykernel_24944\\6451062.py:8: FutureWarning:\n",
      "\n",
      "The frame.append method is deprecated and will be removed from pandas in a future version. Use pandas.concat instead.\n",
      "\n",
      "C:\\Users\\Lukas\\AppData\\Local\\Temp\\ipykernel_24944\\6451062.py:8: FutureWarning:\n",
      "\n",
      "The frame.append method is deprecated and will be removed from pandas in a future version. Use pandas.concat instead.\n",
      "\n",
      "C:\\Users\\Lukas\\AppData\\Local\\Temp\\ipykernel_24944\\6451062.py:8: FutureWarning:\n",
      "\n",
      "The frame.append method is deprecated and will be removed from pandas in a future version. Use pandas.concat instead.\n",
      "\n",
      "C:\\Users\\Lukas\\AppData\\Local\\Temp\\ipykernel_24944\\6451062.py:8: FutureWarning:\n",
      "\n",
      "The frame.append method is deprecated and will be removed from pandas in a future version. Use pandas.concat instead.\n",
      "\n",
      "C:\\Users\\Lukas\\AppData\\Local\\Temp\\ipykernel_24944\\6451062.py:8: FutureWarning:\n",
      "\n",
      "The frame.append method is deprecated and will be removed from pandas in a future version. Use pandas.concat instead.\n",
      "\n",
      "C:\\Users\\Lukas\\AppData\\Local\\Temp\\ipykernel_24944\\6451062.py:8: FutureWarning:\n",
      "\n",
      "The frame.append method is deprecated and will be removed from pandas in a future version. Use pandas.concat instead.\n",
      "\n",
      "C:\\Users\\Lukas\\AppData\\Local\\Temp\\ipykernel_24944\\6451062.py:8: FutureWarning:\n",
      "\n",
      "The frame.append method is deprecated and will be removed from pandas in a future version. Use pandas.concat instead.\n",
      "\n",
      "C:\\Users\\Lukas\\AppData\\Local\\Temp\\ipykernel_24944\\6451062.py:8: FutureWarning:\n",
      "\n",
      "The frame.append method is deprecated and will be removed from pandas in a future version. Use pandas.concat instead.\n",
      "\n",
      "C:\\Users\\Lukas\\AppData\\Local\\Temp\\ipykernel_24944\\6451062.py:8: FutureWarning:\n",
      "\n",
      "The frame.append method is deprecated and will be removed from pandas in a future version. Use pandas.concat instead.\n",
      "\n",
      "C:\\Users\\Lukas\\AppData\\Local\\Temp\\ipykernel_24944\\6451062.py:8: FutureWarning:\n",
      "\n",
      "The frame.append method is deprecated and will be removed from pandas in a future version. Use pandas.concat instead.\n",
      "\n",
      "C:\\Users\\Lukas\\AppData\\Local\\Temp\\ipykernel_24944\\6451062.py:8: FutureWarning:\n",
      "\n",
      "The frame.append method is deprecated and will be removed from pandas in a future version. Use pandas.concat instead.\n",
      "\n",
      "C:\\Users\\Lukas\\AppData\\Local\\Temp\\ipykernel_24944\\6451062.py:8: FutureWarning:\n",
      "\n",
      "The frame.append method is deprecated and will be removed from pandas in a future version. Use pandas.concat instead.\n",
      "\n",
      "C:\\Users\\Lukas\\AppData\\Local\\Temp\\ipykernel_24944\\6451062.py:8: FutureWarning:\n",
      "\n",
      "The frame.append method is deprecated and will be removed from pandas in a future version. Use pandas.concat instead.\n",
      "\n",
      "C:\\Users\\Lukas\\AppData\\Local\\Temp\\ipykernel_24944\\6451062.py:8: FutureWarning:\n",
      "\n",
      "The frame.append method is deprecated and will be removed from pandas in a future version. Use pandas.concat instead.\n",
      "\n",
      "C:\\Users\\Lukas\\AppData\\Local\\Temp\\ipykernel_24944\\6451062.py:8: FutureWarning:\n",
      "\n",
      "The frame.append method is deprecated and will be removed from pandas in a future version. Use pandas.concat instead.\n",
      "\n",
      "C:\\Users\\Lukas\\AppData\\Local\\Temp\\ipykernel_24944\\6451062.py:8: FutureWarning:\n",
      "\n",
      "The frame.append method is deprecated and will be removed from pandas in a future version. Use pandas.concat instead.\n",
      "\n",
      "C:\\Users\\Lukas\\AppData\\Local\\Temp\\ipykernel_24944\\6451062.py:8: FutureWarning:\n",
      "\n",
      "The frame.append method is deprecated and will be removed from pandas in a future version. Use pandas.concat instead.\n",
      "\n",
      "C:\\Users\\Lukas\\AppData\\Local\\Temp\\ipykernel_24944\\6451062.py:8: FutureWarning:\n",
      "\n",
      "The frame.append method is deprecated and will be removed from pandas in a future version. Use pandas.concat instead.\n",
      "\n",
      "C:\\Users\\Lukas\\AppData\\Local\\Temp\\ipykernel_24944\\6451062.py:8: FutureWarning:\n",
      "\n",
      "The frame.append method is deprecated and will be removed from pandas in a future version. Use pandas.concat instead.\n",
      "\n",
      "C:\\Users\\Lukas\\AppData\\Local\\Temp\\ipykernel_24944\\6451062.py:8: FutureWarning:\n",
      "\n",
      "The frame.append method is deprecated and will be removed from pandas in a future version. Use pandas.concat instead.\n",
      "\n",
      "C:\\Users\\Lukas\\AppData\\Local\\Temp\\ipykernel_24944\\6451062.py:8: FutureWarning:\n",
      "\n",
      "The frame.append method is deprecated and will be removed from pandas in a future version. Use pandas.concat instead.\n",
      "\n",
      "C:\\Users\\Lukas\\AppData\\Local\\Temp\\ipykernel_24944\\6451062.py:8: FutureWarning:\n",
      "\n",
      "The frame.append method is deprecated and will be removed from pandas in a future version. Use pandas.concat instead.\n",
      "\n",
      "C:\\Users\\Lukas\\AppData\\Local\\Temp\\ipykernel_24944\\6451062.py:8: FutureWarning:\n",
      "\n",
      "The frame.append method is deprecated and will be removed from pandas in a future version. Use pandas.concat instead.\n",
      "\n",
      "C:\\Users\\Lukas\\AppData\\Local\\Temp\\ipykernel_24944\\6451062.py:8: FutureWarning:\n",
      "\n",
      "The frame.append method is deprecated and will be removed from pandas in a future version. Use pandas.concat instead.\n",
      "\n",
      "C:\\Users\\Lukas\\AppData\\Local\\Temp\\ipykernel_24944\\6451062.py:8: FutureWarning:\n",
      "\n",
      "The frame.append method is deprecated and will be removed from pandas in a future version. Use pandas.concat instead.\n",
      "\n",
      "C:\\Users\\Lukas\\AppData\\Local\\Temp\\ipykernel_24944\\6451062.py:8: FutureWarning:\n",
      "\n",
      "The frame.append method is deprecated and will be removed from pandas in a future version. Use pandas.concat instead.\n",
      "\n",
      "C:\\Users\\Lukas\\AppData\\Local\\Temp\\ipykernel_24944\\6451062.py:8: FutureWarning:\n",
      "\n",
      "The frame.append method is deprecated and will be removed from pandas in a future version. Use pandas.concat instead.\n",
      "\n",
      "C:\\Users\\Lukas\\AppData\\Local\\Temp\\ipykernel_24944\\6451062.py:8: FutureWarning:\n",
      "\n",
      "The frame.append method is deprecated and will be removed from pandas in a future version. Use pandas.concat instead.\n",
      "\n",
      "C:\\Users\\Lukas\\AppData\\Local\\Temp\\ipykernel_24944\\6451062.py:8: FutureWarning:\n",
      "\n",
      "The frame.append method is deprecated and will be removed from pandas in a future version. Use pandas.concat instead.\n",
      "\n",
      "C:\\Users\\Lukas\\AppData\\Local\\Temp\\ipykernel_24944\\6451062.py:8: FutureWarning:\n",
      "\n",
      "The frame.append method is deprecated and will be removed from pandas in a future version. Use pandas.concat instead.\n",
      "\n",
      "C:\\Users\\Lukas\\AppData\\Local\\Temp\\ipykernel_24944\\6451062.py:8: FutureWarning:\n",
      "\n",
      "The frame.append method is deprecated and will be removed from pandas in a future version. Use pandas.concat instead.\n",
      "\n",
      "C:\\Users\\Lukas\\AppData\\Local\\Temp\\ipykernel_24944\\6451062.py:8: FutureWarning:\n",
      "\n",
      "The frame.append method is deprecated and will be removed from pandas in a future version. Use pandas.concat instead.\n",
      "\n",
      "C:\\Users\\Lukas\\AppData\\Local\\Temp\\ipykernel_24944\\6451062.py:8: FutureWarning:\n",
      "\n",
      "The frame.append method is deprecated and will be removed from pandas in a future version. Use pandas.concat instead.\n",
      "\n",
      "C:\\Users\\Lukas\\AppData\\Local\\Temp\\ipykernel_24944\\6451062.py:8: FutureWarning:\n",
      "\n",
      "The frame.append method is deprecated and will be removed from pandas in a future version. Use pandas.concat instead.\n",
      "\n",
      "C:\\Users\\Lukas\\AppData\\Local\\Temp\\ipykernel_24944\\6451062.py:8: FutureWarning:\n",
      "\n",
      "The frame.append method is deprecated and will be removed from pandas in a future version. Use pandas.concat instead.\n",
      "\n",
      "C:\\Users\\Lukas\\AppData\\Local\\Temp\\ipykernel_24944\\6451062.py:8: FutureWarning:\n",
      "\n",
      "The frame.append method is deprecated and will be removed from pandas in a future version. Use pandas.concat instead.\n",
      "\n",
      "C:\\Users\\Lukas\\AppData\\Local\\Temp\\ipykernel_24944\\6451062.py:8: FutureWarning:\n",
      "\n",
      "The frame.append method is deprecated and will be removed from pandas in a future version. Use pandas.concat instead.\n",
      "\n",
      "C:\\Users\\Lukas\\AppData\\Local\\Temp\\ipykernel_24944\\6451062.py:8: FutureWarning:\n",
      "\n",
      "The frame.append method is deprecated and will be removed from pandas in a future version. Use pandas.concat instead.\n",
      "\n",
      "C:\\Users\\Lukas\\AppData\\Local\\Temp\\ipykernel_24944\\6451062.py:8: FutureWarning:\n",
      "\n",
      "The frame.append method is deprecated and will be removed from pandas in a future version. Use pandas.concat instead.\n",
      "\n",
      "C:\\Users\\Lukas\\AppData\\Local\\Temp\\ipykernel_24944\\6451062.py:8: FutureWarning:\n",
      "\n",
      "The frame.append method is deprecated and will be removed from pandas in a future version. Use pandas.concat instead.\n",
      "\n",
      "C:\\Users\\Lukas\\AppData\\Local\\Temp\\ipykernel_24944\\6451062.py:8: FutureWarning:\n",
      "\n",
      "The frame.append method is deprecated and will be removed from pandas in a future version. Use pandas.concat instead.\n",
      "\n",
      "C:\\Users\\Lukas\\AppData\\Local\\Temp\\ipykernel_24944\\6451062.py:8: FutureWarning:\n",
      "\n",
      "The frame.append method is deprecated and will be removed from pandas in a future version. Use pandas.concat instead.\n",
      "\n",
      "C:\\Users\\Lukas\\AppData\\Local\\Temp\\ipykernel_24944\\6451062.py:8: FutureWarning:\n",
      "\n",
      "The frame.append method is deprecated and will be removed from pandas in a future version. Use pandas.concat instead.\n",
      "\n",
      "C:\\Users\\Lukas\\AppData\\Local\\Temp\\ipykernel_24944\\6451062.py:8: FutureWarning:\n",
      "\n",
      "The frame.append method is deprecated and will be removed from pandas in a future version. Use pandas.concat instead.\n",
      "\n",
      "C:\\Users\\Lukas\\AppData\\Local\\Temp\\ipykernel_24944\\6451062.py:8: FutureWarning:\n",
      "\n",
      "The frame.append method is deprecated and will be removed from pandas in a future version. Use pandas.concat instead.\n",
      "\n",
      "C:\\Users\\Lukas\\AppData\\Local\\Temp\\ipykernel_24944\\6451062.py:8: FutureWarning:\n",
      "\n",
      "The frame.append method is deprecated and will be removed from pandas in a future version. Use pandas.concat instead.\n",
      "\n",
      "C:\\Users\\Lukas\\AppData\\Local\\Temp\\ipykernel_24944\\6451062.py:8: FutureWarning:\n",
      "\n",
      "The frame.append method is deprecated and will be removed from pandas in a future version. Use pandas.concat instead.\n",
      "\n",
      "C:\\Users\\Lukas\\AppData\\Local\\Temp\\ipykernel_24944\\6451062.py:8: FutureWarning:\n",
      "\n",
      "The frame.append method is deprecated and will be removed from pandas in a future version. Use pandas.concat instead.\n",
      "\n",
      "C:\\Users\\Lukas\\AppData\\Local\\Temp\\ipykernel_24944\\6451062.py:8: FutureWarning:\n",
      "\n",
      "The frame.append method is deprecated and will be removed from pandas in a future version. Use pandas.concat instead.\n",
      "\n",
      "C:\\Users\\Lukas\\AppData\\Local\\Temp\\ipykernel_24944\\6451062.py:8: FutureWarning:\n",
      "\n",
      "The frame.append method is deprecated and will be removed from pandas in a future version. Use pandas.concat instead.\n",
      "\n",
      "C:\\Users\\Lukas\\AppData\\Local\\Temp\\ipykernel_24944\\6451062.py:8: FutureWarning:\n",
      "\n",
      "The frame.append method is deprecated and will be removed from pandas in a future version. Use pandas.concat instead.\n",
      "\n",
      "C:\\Users\\Lukas\\AppData\\Local\\Temp\\ipykernel_24944\\6451062.py:8: FutureWarning:\n",
      "\n",
      "The frame.append method is deprecated and will be removed from pandas in a future version. Use pandas.concat instead.\n",
      "\n",
      "C:\\Users\\Lukas\\AppData\\Local\\Temp\\ipykernel_24944\\6451062.py:8: FutureWarning:\n",
      "\n",
      "The frame.append method is deprecated and will be removed from pandas in a future version. Use pandas.concat instead.\n",
      "\n",
      "C:\\Users\\Lukas\\AppData\\Local\\Temp\\ipykernel_24944\\6451062.py:8: FutureWarning:\n",
      "\n",
      "The frame.append method is deprecated and will be removed from pandas in a future version. Use pandas.concat instead.\n",
      "\n",
      "C:\\Users\\Lukas\\AppData\\Local\\Temp\\ipykernel_24944\\6451062.py:8: FutureWarning:\n",
      "\n",
      "The frame.append method is deprecated and will be removed from pandas in a future version. Use pandas.concat instead.\n",
      "\n",
      "C:\\Users\\Lukas\\AppData\\Local\\Temp\\ipykernel_24944\\6451062.py:8: FutureWarning:\n",
      "\n",
      "The frame.append method is deprecated and will be removed from pandas in a future version. Use pandas.concat instead.\n",
      "\n",
      "C:\\Users\\Lukas\\AppData\\Local\\Temp\\ipykernel_24944\\6451062.py:8: FutureWarning:\n",
      "\n",
      "The frame.append method is deprecated and will be removed from pandas in a future version. Use pandas.concat instead.\n",
      "\n",
      "C:\\Users\\Lukas\\AppData\\Local\\Temp\\ipykernel_24944\\6451062.py:8: FutureWarning:\n",
      "\n",
      "The frame.append method is deprecated and will be removed from pandas in a future version. Use pandas.concat instead.\n",
      "\n",
      "C:\\Users\\Lukas\\AppData\\Local\\Temp\\ipykernel_24944\\6451062.py:8: FutureWarning:\n",
      "\n",
      "The frame.append method is deprecated and will be removed from pandas in a future version. Use pandas.concat instead.\n",
      "\n",
      "C:\\Users\\Lukas\\AppData\\Local\\Temp\\ipykernel_24944\\6451062.py:8: FutureWarning:\n",
      "\n",
      "The frame.append method is deprecated and will be removed from pandas in a future version. Use pandas.concat instead.\n",
      "\n",
      "C:\\Users\\Lukas\\AppData\\Local\\Temp\\ipykernel_24944\\6451062.py:8: FutureWarning:\n",
      "\n",
      "The frame.append method is deprecated and will be removed from pandas in a future version. Use pandas.concat instead.\n",
      "\n",
      "C:\\Users\\Lukas\\AppData\\Local\\Temp\\ipykernel_24944\\6451062.py:8: FutureWarning:\n",
      "\n",
      "The frame.append method is deprecated and will be removed from pandas in a future version. Use pandas.concat instead.\n",
      "\n",
      "C:\\Users\\Lukas\\AppData\\Local\\Temp\\ipykernel_24944\\6451062.py:8: FutureWarning:\n",
      "\n",
      "The frame.append method is deprecated and will be removed from pandas in a future version. Use pandas.concat instead.\n",
      "\n",
      "C:\\Users\\Lukas\\AppData\\Local\\Temp\\ipykernel_24944\\6451062.py:8: FutureWarning:\n",
      "\n",
      "The frame.append method is deprecated and will be removed from pandas in a future version. Use pandas.concat instead.\n",
      "\n",
      "C:\\Users\\Lukas\\AppData\\Local\\Temp\\ipykernel_24944\\6451062.py:8: FutureWarning:\n",
      "\n",
      "The frame.append method is deprecated and will be removed from pandas in a future version. Use pandas.concat instead.\n",
      "\n",
      "C:\\Users\\Lukas\\AppData\\Local\\Temp\\ipykernel_24944\\6451062.py:8: FutureWarning:\n",
      "\n",
      "The frame.append method is deprecated and will be removed from pandas in a future version. Use pandas.concat instead.\n",
      "\n",
      "C:\\Users\\Lukas\\AppData\\Local\\Temp\\ipykernel_24944\\6451062.py:8: FutureWarning:\n",
      "\n",
      "The frame.append method is deprecated and will be removed from pandas in a future version. Use pandas.concat instead.\n",
      "\n",
      "C:\\Users\\Lukas\\AppData\\Local\\Temp\\ipykernel_24944\\6451062.py:8: FutureWarning:\n",
      "\n",
      "The frame.append method is deprecated and will be removed from pandas in a future version. Use pandas.concat instead.\n",
      "\n",
      "C:\\Users\\Lukas\\AppData\\Local\\Temp\\ipykernel_24944\\6451062.py:8: FutureWarning:\n",
      "\n",
      "The frame.append method is deprecated and will be removed from pandas in a future version. Use pandas.concat instead.\n",
      "\n",
      "C:\\Users\\Lukas\\AppData\\Local\\Temp\\ipykernel_24944\\6451062.py:8: FutureWarning:\n",
      "\n",
      "The frame.append method is deprecated and will be removed from pandas in a future version. Use pandas.concat instead.\n",
      "\n",
      "C:\\Users\\Lukas\\AppData\\Local\\Temp\\ipykernel_24944\\6451062.py:8: FutureWarning:\n",
      "\n",
      "The frame.append method is deprecated and will be removed from pandas in a future version. Use pandas.concat instead.\n",
      "\n",
      "C:\\Users\\Lukas\\AppData\\Local\\Temp\\ipykernel_24944\\6451062.py:8: FutureWarning:\n",
      "\n",
      "The frame.append method is deprecated and will be removed from pandas in a future version. Use pandas.concat instead.\n",
      "\n",
      "C:\\Users\\Lukas\\AppData\\Local\\Temp\\ipykernel_24944\\6451062.py:8: FutureWarning:\n",
      "\n",
      "The frame.append method is deprecated and will be removed from pandas in a future version. Use pandas.concat instead.\n",
      "\n",
      "C:\\Users\\Lukas\\AppData\\Local\\Temp\\ipykernel_24944\\6451062.py:8: FutureWarning:\n",
      "\n",
      "The frame.append method is deprecated and will be removed from pandas in a future version. Use pandas.concat instead.\n",
      "\n",
      "C:\\Users\\Lukas\\AppData\\Local\\Temp\\ipykernel_24944\\6451062.py:8: FutureWarning:\n",
      "\n",
      "The frame.append method is deprecated and will be removed from pandas in a future version. Use pandas.concat instead.\n",
      "\n",
      "C:\\Users\\Lukas\\AppData\\Local\\Temp\\ipykernel_24944\\6451062.py:8: FutureWarning:\n",
      "\n",
      "The frame.append method is deprecated and will be removed from pandas in a future version. Use pandas.concat instead.\n",
      "\n",
      "C:\\Users\\Lukas\\AppData\\Local\\Temp\\ipykernel_24944\\6451062.py:8: FutureWarning:\n",
      "\n",
      "The frame.append method is deprecated and will be removed from pandas in a future version. Use pandas.concat instead.\n",
      "\n",
      "C:\\Users\\Lukas\\AppData\\Local\\Temp\\ipykernel_24944\\6451062.py:8: FutureWarning:\n",
      "\n",
      "The frame.append method is deprecated and will be removed from pandas in a future version. Use pandas.concat instead.\n",
      "\n",
      "C:\\Users\\Lukas\\AppData\\Local\\Temp\\ipykernel_24944\\6451062.py:8: FutureWarning:\n",
      "\n",
      "The frame.append method is deprecated and will be removed from pandas in a future version. Use pandas.concat instead.\n",
      "\n",
      "C:\\Users\\Lukas\\AppData\\Local\\Temp\\ipykernel_24944\\6451062.py:8: FutureWarning:\n",
      "\n",
      "The frame.append method is deprecated and will be removed from pandas in a future version. Use pandas.concat instead.\n",
      "\n",
      "C:\\Users\\Lukas\\AppData\\Local\\Temp\\ipykernel_24944\\6451062.py:8: FutureWarning:\n",
      "\n",
      "The frame.append method is deprecated and will be removed from pandas in a future version. Use pandas.concat instead.\n",
      "\n",
      "C:\\Users\\Lukas\\AppData\\Local\\Temp\\ipykernel_24944\\6451062.py:8: FutureWarning:\n",
      "\n",
      "The frame.append method is deprecated and will be removed from pandas in a future version. Use pandas.concat instead.\n",
      "\n",
      "C:\\Users\\Lukas\\AppData\\Local\\Temp\\ipykernel_24944\\6451062.py:8: FutureWarning:\n",
      "\n",
      "The frame.append method is deprecated and will be removed from pandas in a future version. Use pandas.concat instead.\n",
      "\n",
      "C:\\Users\\Lukas\\AppData\\Local\\Temp\\ipykernel_24944\\6451062.py:8: FutureWarning:\n",
      "\n",
      "The frame.append method is deprecated and will be removed from pandas in a future version. Use pandas.concat instead.\n",
      "\n",
      "C:\\Users\\Lukas\\AppData\\Local\\Temp\\ipykernel_24944\\6451062.py:8: FutureWarning:\n",
      "\n",
      "The frame.append method is deprecated and will be removed from pandas in a future version. Use pandas.concat instead.\n",
      "\n",
      "C:\\Users\\Lukas\\AppData\\Local\\Temp\\ipykernel_24944\\6451062.py:8: FutureWarning:\n",
      "\n",
      "The frame.append method is deprecated and will be removed from pandas in a future version. Use pandas.concat instead.\n",
      "\n",
      "C:\\Users\\Lukas\\AppData\\Local\\Temp\\ipykernel_24944\\6451062.py:8: FutureWarning:\n",
      "\n",
      "The frame.append method is deprecated and will be removed from pandas in a future version. Use pandas.concat instead.\n",
      "\n",
      "C:\\Users\\Lukas\\AppData\\Local\\Temp\\ipykernel_24944\\6451062.py:8: FutureWarning:\n",
      "\n",
      "The frame.append method is deprecated and will be removed from pandas in a future version. Use pandas.concat instead.\n",
      "\n",
      "C:\\Users\\Lukas\\AppData\\Local\\Temp\\ipykernel_24944\\6451062.py:8: FutureWarning:\n",
      "\n",
      "The frame.append method is deprecated and will be removed from pandas in a future version. Use pandas.concat instead.\n",
      "\n",
      "C:\\Users\\Lukas\\AppData\\Local\\Temp\\ipykernel_24944\\6451062.py:8: FutureWarning:\n",
      "\n",
      "The frame.append method is deprecated and will be removed from pandas in a future version. Use pandas.concat instead.\n",
      "\n",
      "C:\\Users\\Lukas\\AppData\\Local\\Temp\\ipykernel_24944\\6451062.py:8: FutureWarning:\n",
      "\n",
      "The frame.append method is deprecated and will be removed from pandas in a future version. Use pandas.concat instead.\n",
      "\n",
      "C:\\Users\\Lukas\\AppData\\Local\\Temp\\ipykernel_24944\\6451062.py:8: FutureWarning:\n",
      "\n",
      "The frame.append method is deprecated and will be removed from pandas in a future version. Use pandas.concat instead.\n",
      "\n",
      "C:\\Users\\Lukas\\AppData\\Local\\Temp\\ipykernel_24944\\6451062.py:8: FutureWarning:\n",
      "\n",
      "The frame.append method is deprecated and will be removed from pandas in a future version. Use pandas.concat instead.\n",
      "\n",
      "C:\\Users\\Lukas\\AppData\\Local\\Temp\\ipykernel_24944\\6451062.py:8: FutureWarning:\n",
      "\n",
      "The frame.append method is deprecated and will be removed from pandas in a future version. Use pandas.concat instead.\n",
      "\n"
     ]
    }
   ],
   "source": [
    "# Merge data\n",
    "pd_data = pd.DataFrame({\"created_at\": [], \"tweet_id\": [], \"content\": [], \"author_id\": []})\n",
    "\n",
    "for data_dict in data_list:\n",
    "    data = data_dict[\"data\"]\n",
    "    for data_entry in data:\n",
    "        data_entry_renamed = {\"created_at\": data_entry[\"created_at\"], \"tweet_id\": data_entry[\"id\"], \"content\": data_entry[\"text\"], \"author_id\": data_entry[\"author_id\"]}\n",
    "        pd_data = pd_data.append(data_entry_renamed, ignore_index=True)"
   ],
   "metadata": {
    "collapsed": false,
    "pycharm": {
     "name": "#%%\n"
    }
   }
  },
  {
   "cell_type": "code",
   "execution_count": 381,
   "outputs": [
    {
     "data": {
      "text/plain": "                   created_at             tweet_id  \\\n0    2022-07-05T18:50:20.000Z  1544393254929661952   \n1    2022-07-05T18:31:02.000Z  1544388399817277440   \n2    2022-07-05T18:01:17.000Z  1544380912313503746   \n3    2022-07-05T17:44:51.000Z  1544376779137327106   \n4    2022-07-05T17:20:08.000Z  1544370557076004866   \n..                        ...                  ...   \n295  2022-07-08T09:06:38.000Z  1545333527998353409   \n296  2022-07-08T09:00:12.000Z  1545331908736950272   \n297  2022-07-08T08:45:49.000Z  1545328289572593664   \n298  2022-07-08T08:45:37.000Z  1545328237840142338   \n299  2022-07-08T08:41:08.000Z  1545327108100079616   \n\n                                               content            author_id  \n0    Das Pforzheimer Nachtleben blüht wieder auf. V...   806082807562960896  \n1    @Kranzschwinger Indem sie froh snd, dass es ni...            257134702  \n2    RT @BNN_BaNeuNa: Hat die gute alte Leitplanke ...  1256684331386515457  \n3    RT @simonschre: Eisenbahnen, die ich heute zum...           2419492255  \n4    Eisenbahnen, die ich heute zum ersten Mal gefa...           1960909934  \n..                                                 ...                  ...  \n295  Badenser halt! @ Pforzheim Hauptbahnhof https:...  1485182559306891265  \n296  @tuessl @CargoHey Na dann gute Fahrt, weit ist...            239812843  \n297  #News #Blaulicht POL-Pforzheim: (Enzkreis) Neu...  1420498158577242116  \n298  Werkzaamheden ⚒️ in #Duitsland op de #A8 Karls...            259787794  \n299  @Natenom Wo kann man so fahren? In der vierten...  1500031172491026432  \n\n[300 rows x 4 columns]",
      "text/html": "<div>\n<style scoped>\n    .dataframe tbody tr th:only-of-type {\n        vertical-align: middle;\n    }\n\n    .dataframe tbody tr th {\n        vertical-align: top;\n    }\n\n    .dataframe thead th {\n        text-align: right;\n    }\n</style>\n<table border=\"1\" class=\"dataframe\">\n  <thead>\n    <tr style=\"text-align: right;\">\n      <th></th>\n      <th>created_at</th>\n      <th>tweet_id</th>\n      <th>content</th>\n      <th>author_id</th>\n    </tr>\n  </thead>\n  <tbody>\n    <tr>\n      <th>0</th>\n      <td>2022-07-05T18:50:20.000Z</td>\n      <td>1544393254929661952</td>\n      <td>Das Pforzheimer Nachtleben blüht wieder auf. V...</td>\n      <td>806082807562960896</td>\n    </tr>\n    <tr>\n      <th>1</th>\n      <td>2022-07-05T18:31:02.000Z</td>\n      <td>1544388399817277440</td>\n      <td>@Kranzschwinger Indem sie froh snd, dass es ni...</td>\n      <td>257134702</td>\n    </tr>\n    <tr>\n      <th>2</th>\n      <td>2022-07-05T18:01:17.000Z</td>\n      <td>1544380912313503746</td>\n      <td>RT @BNN_BaNeuNa: Hat die gute alte Leitplanke ...</td>\n      <td>1256684331386515457</td>\n    </tr>\n    <tr>\n      <th>3</th>\n      <td>2022-07-05T17:44:51.000Z</td>\n      <td>1544376779137327106</td>\n      <td>RT @simonschre: Eisenbahnen, die ich heute zum...</td>\n      <td>2419492255</td>\n    </tr>\n    <tr>\n      <th>4</th>\n      <td>2022-07-05T17:20:08.000Z</td>\n      <td>1544370557076004866</td>\n      <td>Eisenbahnen, die ich heute zum ersten Mal gefa...</td>\n      <td>1960909934</td>\n    </tr>\n    <tr>\n      <th>...</th>\n      <td>...</td>\n      <td>...</td>\n      <td>...</td>\n      <td>...</td>\n    </tr>\n    <tr>\n      <th>295</th>\n      <td>2022-07-08T09:06:38.000Z</td>\n      <td>1545333527998353409</td>\n      <td>Badenser halt! @ Pforzheim Hauptbahnhof https:...</td>\n      <td>1485182559306891265</td>\n    </tr>\n    <tr>\n      <th>296</th>\n      <td>2022-07-08T09:00:12.000Z</td>\n      <td>1545331908736950272</td>\n      <td>@tuessl @CargoHey Na dann gute Fahrt, weit ist...</td>\n      <td>239812843</td>\n    </tr>\n    <tr>\n      <th>297</th>\n      <td>2022-07-08T08:45:49.000Z</td>\n      <td>1545328289572593664</td>\n      <td>#News #Blaulicht POL-Pforzheim: (Enzkreis) Neu...</td>\n      <td>1420498158577242116</td>\n    </tr>\n    <tr>\n      <th>298</th>\n      <td>2022-07-08T08:45:37.000Z</td>\n      <td>1545328237840142338</td>\n      <td>Werkzaamheden ⚒️ in #Duitsland op de #A8 Karls...</td>\n      <td>259787794</td>\n    </tr>\n    <tr>\n      <th>299</th>\n      <td>2022-07-08T08:41:08.000Z</td>\n      <td>1545327108100079616</td>\n      <td>@Natenom Wo kann man so fahren? In der vierten...</td>\n      <td>1500031172491026432</td>\n    </tr>\n  </tbody>\n</table>\n<p>300 rows × 4 columns</p>\n</div>"
     },
     "execution_count": 381,
     "metadata": {},
     "output_type": "execute_result"
    }
   ],
   "source": [
    "pd_data"
   ],
   "metadata": {
    "collapsed": false,
    "pycharm": {
     "name": "#%%\n"
    }
   }
  },
  {
   "cell_type": "markdown",
   "source": [
    "## Data cleaning"
   ],
   "metadata": {
    "collapsed": false,
    "pycharm": {
     "name": "#%% md\n"
    }
   }
  },
  {
   "cell_type": "markdown",
   "source": [
    "### Remove duplicates"
   ],
   "metadata": {
    "collapsed": false,
    "pycharm": {
     "name": "#%% md\n"
    }
   }
  },
  {
   "cell_type": "code",
   "execution_count": 382,
   "outputs": [],
   "source": [
    "pd_data = pd_data.drop_duplicates()\n",
    "pd_data_original = pd_data.copy() # Will not be changed anymore"
   ],
   "metadata": {
    "collapsed": false,
    "pycharm": {
     "name": "#%%\n"
    }
   }
  },
  {
   "cell_type": "markdown",
   "source": [
    "### Detect language and filter non german tweets"
   ],
   "metadata": {
    "collapsed": false,
    "pycharm": {
     "name": "#%% md\n"
    }
   }
  },
  {
   "cell_type": "code",
   "execution_count": 383,
   "outputs": [],
   "source": [
    "import langid\n",
    "\n",
    "tweet_ids_to_remove = []\n",
    "\n",
    "for index, row in pd_data.iterrows():\n",
    "    content = row['content']\n",
    "    content_language = langid.classify(content)[0]\n",
    "    if content_language != \"de\":\n",
    "        tweet_ids_to_remove.append(row[\"tweet_id\"])\n",
    "        # print(content)\n",
    "\n",
    "for tweet_id in tweet_ids_to_remove:\n",
    "    pd_data = pd_data[pd_data[\"tweet_id\"] != tweet_id]"
   ],
   "metadata": {
    "collapsed": false,
    "pycharm": {
     "name": "#%%\n"
    }
   }
  },
  {
   "cell_type": "markdown",
   "source": [
    "### Clean content"
   ],
   "metadata": {
    "collapsed": false,
    "pycharm": {
     "name": "#%% md\n"
    }
   }
  },
  {
   "cell_type": "code",
   "execution_count": 384,
   "outputs": [],
   "source": [
    "# Lowercase\n",
    "pd_data[\"content\"] = pd_data[\"content\"].str.lower()"
   ],
   "metadata": {
    "collapsed": false,
    "pycharm": {
     "name": "#%%\n"
    }
   }
  },
  {
   "cell_type": "code",
   "execution_count": 385,
   "outputs": [],
   "source": [
    "# Stopword source https://raw.githubusercontent.com/solariz/german_stopwords/master/german_stopwords_full.txt\n",
    "custom_stopwords = []\n",
    "with open(\"stopwords.txt\", 'r', encoding=\"UTF-8\") as file:\n",
    "    for line in file:\n",
    "        custom_stopwords.append(line.replace(\"\\n\", \"\"))\n",
    "\n",
    "additional_stopwords = [\"rt\", \"fast\", \"deren\", \"mehr\", \"http\", \"co\", \"8cn3awvt9v\", \"eigentlich\"]\n",
    "\n",
    "custom_stopwords = custom_stopwords + additional_stopwords"
   ],
   "metadata": {
    "collapsed": false,
    "pycharm": {
     "name": "#%%\n"
    }
   }
  },
  {
   "cell_type": "markdown",
   "source": [
    "# Entity analysis"
   ],
   "metadata": {
    "collapsed": false,
    "pycharm": {
     "name": "#%% md\n"
    }
   }
  },
  {
   "cell_type": "code",
   "execution_count": 386,
   "outputs": [],
   "source": [
    "import re\n",
    "\n",
    "author_dict = {}\n",
    "hashtag_dict = {}\n",
    "\n",
    "for index, row in pd_data_original.iterrows():\n",
    "    # Collect authors, increment occurrences\n",
    "    this_author_id = row[\"author_id\"]\n",
    "    if this_author_id not in author_dict:\n",
    "        author_dict[this_author_id] = 1\n",
    "    else:\n",
    "        author_dict[this_author_id] += 1\n",
    "    # Collect hashtags\n",
    "    content = row[\"content\"]\n",
    "    this_hashtags = re.findall(r\"#(\\w+)\", content)\n",
    "    for this_hashtag in this_hashtags:\n",
    "        this_hashtag = this_hashtag.lower()\n",
    "        if this_hashtag not in hashtag_dict:\n",
    "            hashtag_dict[this_hashtag] = 1\n",
    "        else:\n",
    "            hashtag_dict[this_hashtag] += 1\n",
    "\n",
    "# Sort dictionaries\n",
    "author_dict = sorted(author_dict.items(), key=lambda x: x[1], reverse=True)\n",
    "hashtag_dict = sorted(hashtag_dict.items(), key=lambda x: x[1], reverse=True)"
   ],
   "metadata": {
    "collapsed": false,
    "pycharm": {
     "name": "#%%\n"
    }
   }
  },
  {
   "cell_type": "code",
   "execution_count": 387,
   "outputs": [
    {
     "data": {
      "text/plain": "[('1420498158577242116', 22),\n ('1184022676488314880', 10),\n ('24165538', 10),\n ('806082807562960896', 7),\n ('1523376024876167172', 5),\n ('747113754006065152', 4),\n ('105591210', 4),\n ('1305951228539658240', 3),\n ('936719821064097797', 3),\n ('1411270748266807296', 3),\n ('1525082147501092865', 3),\n ('878964397103775744', 3),\n ('2419492255', 2),\n ('1960909934', 2),\n ('1202872538281467904', 2),\n ('123258168', 2),\n ('36973702', 2),\n ('18119691', 2),\n ('1078912669', 2),\n ('3049086521', 2),\n ('433223957', 2),\n ('259787794', 2),\n ('973940217508958208', 2),\n ('1375959707689615364', 2),\n ('1500031172491026432', 2),\n ('1534550535596023808', 2),\n ('4185773171', 2),\n ('1361415758', 2),\n ('898620970012991488', 2),\n ('1118474756590796800', 2),\n ('1485182559306891265', 2),\n ('257134702', 1),\n ('1256684331386515457', 1),\n ('15929362', 1),\n ('1209154096785174528', 1),\n ('826575192738656257', 1),\n ('1463295105108885506', 1),\n ('1483419150739517440', 1),\n ('390273160', 1),\n ('718066051280465920', 1),\n ('500660827', 1),\n ('1427678298352541699', 1),\n ('1138136038197682179', 1),\n ('1327635086251094023', 1),\n ('1553176512', 1),\n ('1490387200877416453', 1),\n ('729080577689784320', 1),\n ('1633940370', 1),\n ('1490950307563675653', 1),\n ('1343903863561195521', 1),\n ('1530222155769716743', 1),\n ('2426023075', 1),\n ('1223777836948832256', 1),\n ('84105894', 1),\n ('1502854336233230342', 1),\n ('1361541763261956097', 1),\n ('479445216', 1),\n ('349025508', 1),\n ('1050218732256145408', 1),\n ('958650490832728064', 1),\n ('910222359105232896', 1),\n ('982464824', 1),\n ('394247123', 1),\n ('2532459102', 1),\n ('722075353284481024', 1),\n ('199907108', 1),\n ('859873423199268865', 1),\n ('1184024283342950401', 1),\n ('1520024378016206848', 1),\n ('757204857686196224', 1),\n ('1238364616893313024', 1),\n ('366177595', 1),\n ('1197617141463310336', 1),\n ('1316612535030894592', 1),\n ('3377081037', 1),\n ('368757313', 1),\n ('982260986869497858', 1),\n ('15170704', 1),\n ('856582761179734020', 1),\n ('1165294449439772672', 1),\n ('811966506720497664', 1),\n ('39974036', 1),\n ('1556346163', 1),\n ('1460922158176161795', 1),\n ('63532744', 1),\n ('1436366064166789126', 1),\n ('4833145041', 1),\n ('4728316941', 1),\n ('1958589613', 1),\n ('933136600699195392', 1),\n ('1594525015', 1),\n ('531285485', 1),\n ('2929467093', 1),\n ('1041350253713088512', 1),\n ('960772112997855232', 1),\n ('1479547267191291905', 1),\n ('779269460540682240', 1),\n ('1373345065133875203', 1),\n ('3129342398', 1),\n ('485654078', 1),\n ('389425338', 1),\n ('48761686', 1),\n ('1261052583621414912', 1),\n ('4201961439', 1),\n ('1376079221601284098', 1),\n ('2174890161', 1),\n ('1012446217568247809', 1),\n ('1160220612033310720', 1),\n ('622864544', 1),\n ('1192740503219036160', 1),\n ('214626889', 1),\n ('1523251449194557446', 1),\n ('1432581459353681924', 1),\n ('2247483085', 1),\n ('938811812', 1),\n ('802917797298864128', 1),\n ('1489157743860723718', 1),\n ('2431773182', 1),\n ('137007239', 1),\n ('46848978', 1),\n ('636691269', 1),\n ('86573274', 1),\n ('1158642693544775681', 1),\n ('1640936239', 1),\n ('1142124132', 1),\n ('356565974', 1),\n ('951051508321345536', 1),\n ('1321277933818925056', 1),\n ('802080549418442752', 1),\n ('1121581839238533120', 1),\n ('951610310288388098', 1),\n ('870255236', 1),\n ('391243629', 1),\n ('2304468066', 1),\n ('1486943794545233920', 1),\n ('621298674', 1),\n ('1248489558817136643', 1),\n ('24150568', 1),\n ('836880447716098048', 1),\n ('3038751633', 1),\n ('839783767749296128', 1),\n ('901348771639943168', 1),\n ('762262758578593792', 1),\n ('1473915766726705158', 1),\n ('155228599', 1),\n ('3001618695', 1),\n ('1215270783632756736', 1),\n ('1270058911022886912', 1),\n ('1096513606013853697', 1),\n ('1430500064288464902', 1),\n ('1448394527941746692', 1),\n ('1192983043734200320', 1),\n ('1301129989526560774', 1),\n ('3234932265', 1),\n ('111371654', 1),\n ('1276065476041465863', 1),\n ('1262950524', 1),\n ('4908589852', 1),\n ('702483013750366208', 1),\n ('327328208', 1),\n ('1129891254', 1),\n ('2471444810', 1),\n ('970345195', 1),\n ('1412718367', 1),\n ('1100840016971005952', 1),\n ('922794442553208832', 1),\n ('321276683', 1),\n ('2549556272', 1),\n ('281413387', 1),\n ('1478025287245967365', 1),\n ('531325229', 1),\n ('756611547825377280', 1),\n ('1467160864562331650', 1),\n ('1028913091558473729', 1),\n ('3355261695', 1),\n ('2913061971', 1),\n ('1322738396838666241', 1),\n ('2753212666', 1),\n ('471227284', 1),\n ('969137942', 1),\n ('2606233777', 1),\n ('954283519580221440', 1),\n ('1069583615762288642', 1),\n ('1325534811826565126', 1),\n ('783003137183449092', 1),\n ('1504855210648391684', 1),\n ('1710013134', 1),\n ('1485328041597415427', 1),\n ('2595812168', 1),\n ('1345490644261871617', 1),\n ('751405005928816640', 1),\n ('1470059613475291136', 1),\n ('26490935', 1),\n ('246252394', 1),\n ('3035418809', 1),\n ('1230948006838534144', 1),\n ('980582123236028416', 1),\n ('3379102468', 1),\n ('21081620', 1),\n ('1081082286324490241', 1),\n ('19447047', 1),\n ('1648697124', 1),\n ('1230297852146044930', 1),\n ('1132721884221640711', 1),\n ('79946862', 1),\n ('246338368', 1),\n ('1388816280103399425', 1),\n ('971484858693414912', 1),\n ('950967018', 1),\n ('356531187', 1),\n ('113714293', 1),\n ('1028989911620349959', 1),\n ('130803962', 1),\n ('1204436494355701761', 1),\n ('1474069602816692225', 1),\n ('239812843', 1)]"
     },
     "execution_count": 387,
     "metadata": {},
     "output_type": "execute_result"
    }
   ],
   "source": [
    "author_dict"
   ],
   "metadata": {
    "collapsed": false,
    "pycharm": {
     "name": "#%%\n"
    }
   }
  },
  {
   "cell_type": "code",
   "execution_count": 388,
   "outputs": [
    {
     "data": {
      "text/plain": "[('pforzheim', 58),\n ('news', 22),\n ('blaulicht', 22),\n ('badenwürttemberg', 7),\n ('pforzheimgram', 6),\n ('u5', 5),\n ('hypromag', 5),\n ('rareearths', 5),\n ('a8', 4),\n ('freiheit', 4),\n ('karlsruhe', 3),\n ('schwarzwald', 3),\n ('job', 3),\n ('cemdogan', 2),\n ('diamonds', 2),\n ('jewelry', 2),\n ('paulinakurka', 2),\n ('phillipdeml', 2),\n ('startups', 2),\n ('training', 2),\n ('schule', 2),\n ('kampfkunst', 2),\n ('stellenangebot', 2),\n ('feuerwehr', 2),\n ('magdeburg', 2),\n ('stanztechnik', 2),\n ('uffbasse', 2),\n ('zeugengesucht', 2),\n ('wiesenbach', 2),\n ('enzkreis', 2),\n ('trending', 2),\n ('duitsland', 2),\n ('nagold', 2),\n ('dbregio_bw', 2),\n ('karrieremodus', 2),\n ('stuttgart', 2),\n ('polizeipforzheim', 1),\n ('exhbitionistpforzheim', 1),\n ('entertainment', 1),\n ('sports', 1),\n ('school', 1),\n ('cnc', 1),\n ('einrichter', 1),\n ('ä', 1),\n ('resilienz', 1),\n ('unternehmen', 1),\n ('ressourcen', 1),\n ('ihk', 1),\n ('weingarte', 1),\n ('weingarten', 1),\n ('usa', 1),\n ('tuerkei', 1),\n ('tuerkiye', 1),\n ('simra', 1),\n ('stadtwerke', 1),\n ('jobbörse', 1),\n ('mitarbeitergesucht', 1),\n ('stellenanzeige', 1),\n ('stelle', 1),\n ('bewerben', 1),\n ('k', 1),\n ('novaccinepassports', 1),\n ('nogree', 1),\n ('nowplaying', 1),\n ('twitterflohmarkt', 1),\n ('polizei', 1),\n ('hspf', 1),\n ('hspforzheim', 1),\n ('perspektivenwechsel', 1),\n ('pforzheimuniversity', 1),\n ('art', 1),\n ('gladbeck', 1),\n ('international', 1),\n ('sprache', 1),\n ('kultura', 1),\n ('swka', 1),\n ('studierendenwerkkarlsruhe', 1),\n ('studieren', 1),\n ('study', 1),\n ('fahrradmordor', 1),\n ('heimsheim', 1),\n ('maskeauf', 1),\n ('google', 1),\n ('kleinergmbh', 1),\n ('kleiner', 1),\n ('future', 1),\n ('leadingthefuture', 1),\n ('feeltheinnovation', 1),\n ('mehrfamilienhaus', 1),\n ('zuverkaufen', 1),\n ('deutschland', 1),\n ('fifa22', 1),\n ('createclub', 1),\n ('circulareconomy', 1),\n ('businessmodel', 1),\n ('demenz', 1),\n ('montagsspaziergang', 1),\n ('aufwachprogramm', 1),\n ('westweg', 1),\n ('visitblackforest', 1),\n ('wandern', 1),\n ('trekking', 1),\n ('backpacking', 1),\n ('hiking', 1),\n ('christopherstreetday', 1),\n ('csd', 1),\n ('nachhaltigkeit', 1),\n ('heliosregionsüd', 1),\n ('selfdefense', 1),\n ('schwert', 1),\n ('bartitsu', 1),\n ('selbstverteidigung', 1),\n ('workshops', 1),\n ('sport', 1),\n ('stz', 1),\n ('gaskessel', 1),\n ('rosensteinbrücke', 1),\n ('klage', 1),\n ('parkhaus', 1),\n ('𝐀𝐒𝐁𝐋𝐀𝐍𝐃𝐄𝐒𝐊𝐎𝐍𝐅𝐄𝐑𝐄𝐍𝐙𝟐𝟎𝟐𝟐', 1),\n ('𝐒𝐚𝐦𝐚𝐭𝐢𝐭𝐞𝐫𝐊𝐫𝐞𝐮𝐳𝐈𝐧𝐆𝐨𝐥𝐝', 1),\n ('asbbw', 1),\n ('minijob', 1),\n ('aushilfe', 1),\n ('nebenjob', 1),\n ('pznews', 1),\n ('verkehr', 1),\n ('aufreger', 1),\n ('neuenbürg', 1),\n ('münchen', 1),\n ('pendlerbrezel', 1),\n ('ordnungsamts', 1)]"
     },
     "execution_count": 388,
     "metadata": {},
     "output_type": "execute_result"
    }
   ],
   "source": [
    "hashtag_dict"
   ],
   "metadata": {
    "collapsed": false,
    "pycharm": {
     "name": "#%%\n"
    }
   }
  },
  {
   "cell_type": "markdown",
   "source": [
    "# Topic analysis - get the 5 most prominent topics"
   ],
   "metadata": {
    "collapsed": false,
    "pycharm": {
     "name": "#%% md\n"
    }
   }
  },
  {
   "cell_type": "markdown",
   "source": [
    "### Tokenize, stopword filtering and lemmatize"
   ],
   "metadata": {
    "collapsed": false,
    "pycharm": {
     "name": "#%% md\n"
    }
   }
  },
  {
   "cell_type": "code",
   "execution_count": 389,
   "outputs": [
    {
     "name": "stderr",
     "output_type": "stream",
     "text": [
      "C:\\Users\\Lukas\\anaconda3\\envs\\DataAnalyticsIU\\lib\\site-packages\\sklearn\\feature_extraction\\text.py:404: UserWarning:\n",
      "\n",
      "Your stop_words may be inconsistent with your preprocessing. Tokenizing the stop words generated tokens ['dat', 'inf', 'zb'] not in stop_words.\n",
      "\n"
     ]
    }
   ],
   "source": [
    "from DataAnalyticsIU.helper_functions import LemmaCountVectorizer\n",
    "from nltk.corpus import stopwords\n",
    "\n",
    "content_text_list = list(pd_data.content.values)\n",
    "\n",
    "# german_stop_words = frozenset(custom_stopwords)\n",
    "german_stop_words = stopwords.words('german')\n",
    "german_stop_words = german_stop_words + custom_stopwords\n",
    "\n",
    "# Min_df is chosen to exclude words with very low frequency\n",
    "tf_vectorizer = LemmaCountVectorizer(min_df=2,\n",
    "                                     stop_words=german_stop_words,\n",
    "                                     decode_error='ignore')\n",
    "tf = tf_vectorizer.fit_transform(content_text_list)"
   ],
   "metadata": {
    "collapsed": false,
    "pycharm": {
     "name": "#%%\n"
    }
   }
  },
  {
   "cell_type": "code",
   "execution_count": 390,
   "outputs": [
    {
     "name": "stderr",
     "output_type": "stream",
     "text": [
      "C:\\Users\\Lukas\\anaconda3\\envs\\DataAnalyticsIU\\lib\\site-packages\\sklearn\\utils\\deprecation.py:87: FutureWarning:\n",
      "\n",
      "Function get_feature_names is deprecated; get_feature_names is deprecated in 1.0 and will be removed in 1.2. Please use get_feature_names_out instead.\n",
      "\n"
     ]
    },
    {
     "data": {
      "application/vnd.plotly.v1+json": {
       "data": [
        {
         "marker": {
          "color": [
           204,
           183,
           30,
           28,
           28,
           27,
           27,
           27,
           23,
           22,
           14,
           12,
           12,
           11,
           11,
           11,
           9,
           9,
           9,
           9,
           8,
           8,
           8,
           8,
           8,
           8,
           7,
           7,
           7,
           7,
           7,
           6,
           6,
           6,
           6,
           6,
           6,
           6,
           6,
           5,
           5,
           5,
           5,
           5,
           5,
           5,
           5,
           5,
           5,
           5
          ],
          "colorscale": [
           [
            0.0,
            "rgb(0,0,131)"
           ],
           [
            0.2,
            "rgb(0,60,170)"
           ],
           [
            0.4,
            "rgb(5,255,255)"
           ],
           [
            0.6,
            "rgb(255,255,0)"
           ],
           [
            0.8,
            "rgb(250,0,0)"
           ],
           [
            1.0,
            "rgb(128,0,0)"
           ]
          ]
         },
         "text": "Word counts",
         "x": [
          "pforzheim",
          "http",
          "kleinleise",
          "fragen",
          "pol",
          "entstehen",
          "twittertreffen",
          "wartezeiten",
          "news",
          "blaulicht",
          "polizei",
          "2022",
          "zeugen",
          "enzkreis",
          "pf",
          "polizeipf",
          "gt",
          "natenom",
          "pforzheimgram",
          "uhr",
          "07",
          "a8",
          "gesucht",
          "karlsruhe",
          "pforzheimer",
          "woche",
          "bad",
          "badenwürttemberg",
          "booster",
          "einbruch",
          "stadt_pforzheim",
          "10",
          "ausgesucht",
          "cw",
          "dienstag",
          "informationen",
          "nagold",
          "samstag",
          "url",
          "27",
          "doxograf",
          "fds",
          "gewahrsam",
          "hbf",
          "nummer",
          "offlabelu5",
          "pznews",
          "schwarzwald",
          "stadt",
          "stuttgart"
         ],
         "y": [
          204,
          183,
          30,
          28,
          28,
          27,
          27,
          27,
          23,
          22,
          14,
          12,
          12,
          11,
          11,
          11,
          9,
          9,
          9,
          9,
          8,
          8,
          8,
          8,
          8,
          8,
          7,
          7,
          7,
          7,
          7,
          6,
          6,
          6,
          6,
          6,
          6,
          6,
          6,
          5,
          5,
          5,
          5,
          5,
          5,
          5,
          5,
          5,
          5,
          5
         ],
         "type": "bar"
        }
       ],
       "layout": {
        "template": {
         "data": {
          "barpolar": [
           {
            "marker": {
             "line": {
              "color": "rgb(17,17,17)",
              "width": 0.5
             },
             "pattern": {
              "fillmode": "overlay",
              "size": 10,
              "solidity": 0.2
             }
            },
            "type": "barpolar"
           }
          ],
          "bar": [
           {
            "error_x": {
             "color": "#f2f5fa"
            },
            "error_y": {
             "color": "#f2f5fa"
            },
            "marker": {
             "line": {
              "color": "rgb(17,17,17)",
              "width": 0.5
             },
             "pattern": {
              "fillmode": "overlay",
              "size": 10,
              "solidity": 0.2
             }
            },
            "type": "bar"
           }
          ],
          "carpet": [
           {
            "aaxis": {
             "endlinecolor": "#A2B1C6",
             "gridcolor": "#506784",
             "linecolor": "#506784",
             "minorgridcolor": "#506784",
             "startlinecolor": "#A2B1C6"
            },
            "baxis": {
             "endlinecolor": "#A2B1C6",
             "gridcolor": "#506784",
             "linecolor": "#506784",
             "minorgridcolor": "#506784",
             "startlinecolor": "#A2B1C6"
            },
            "type": "carpet"
           }
          ],
          "choropleth": [
           {
            "colorbar": {
             "outlinewidth": 0,
             "ticks": ""
            },
            "type": "choropleth"
           }
          ],
          "contourcarpet": [
           {
            "colorbar": {
             "outlinewidth": 0,
             "ticks": ""
            },
            "type": "contourcarpet"
           }
          ],
          "contour": [
           {
            "colorbar": {
             "outlinewidth": 0,
             "ticks": ""
            },
            "colorscale": [
             [
              0.0,
              "#0d0887"
             ],
             [
              0.1111111111111111,
              "#46039f"
             ],
             [
              0.2222222222222222,
              "#7201a8"
             ],
             [
              0.3333333333333333,
              "#9c179e"
             ],
             [
              0.4444444444444444,
              "#bd3786"
             ],
             [
              0.5555555555555556,
              "#d8576b"
             ],
             [
              0.6666666666666666,
              "#ed7953"
             ],
             [
              0.7777777777777778,
              "#fb9f3a"
             ],
             [
              0.8888888888888888,
              "#fdca26"
             ],
             [
              1.0,
              "#f0f921"
             ]
            ],
            "type": "contour"
           }
          ],
          "heatmapgl": [
           {
            "colorbar": {
             "outlinewidth": 0,
             "ticks": ""
            },
            "colorscale": [
             [
              0.0,
              "#0d0887"
             ],
             [
              0.1111111111111111,
              "#46039f"
             ],
             [
              0.2222222222222222,
              "#7201a8"
             ],
             [
              0.3333333333333333,
              "#9c179e"
             ],
             [
              0.4444444444444444,
              "#bd3786"
             ],
             [
              0.5555555555555556,
              "#d8576b"
             ],
             [
              0.6666666666666666,
              "#ed7953"
             ],
             [
              0.7777777777777778,
              "#fb9f3a"
             ],
             [
              0.8888888888888888,
              "#fdca26"
             ],
             [
              1.0,
              "#f0f921"
             ]
            ],
            "type": "heatmapgl"
           }
          ],
          "heatmap": [
           {
            "colorbar": {
             "outlinewidth": 0,
             "ticks": ""
            },
            "colorscale": [
             [
              0.0,
              "#0d0887"
             ],
             [
              0.1111111111111111,
              "#46039f"
             ],
             [
              0.2222222222222222,
              "#7201a8"
             ],
             [
              0.3333333333333333,
              "#9c179e"
             ],
             [
              0.4444444444444444,
              "#bd3786"
             ],
             [
              0.5555555555555556,
              "#d8576b"
             ],
             [
              0.6666666666666666,
              "#ed7953"
             ],
             [
              0.7777777777777778,
              "#fb9f3a"
             ],
             [
              0.8888888888888888,
              "#fdca26"
             ],
             [
              1.0,
              "#f0f921"
             ]
            ],
            "type": "heatmap"
           }
          ],
          "histogram2dcontour": [
           {
            "colorbar": {
             "outlinewidth": 0,
             "ticks": ""
            },
            "colorscale": [
             [
              0.0,
              "#0d0887"
             ],
             [
              0.1111111111111111,
              "#46039f"
             ],
             [
              0.2222222222222222,
              "#7201a8"
             ],
             [
              0.3333333333333333,
              "#9c179e"
             ],
             [
              0.4444444444444444,
              "#bd3786"
             ],
             [
              0.5555555555555556,
              "#d8576b"
             ],
             [
              0.6666666666666666,
              "#ed7953"
             ],
             [
              0.7777777777777778,
              "#fb9f3a"
             ],
             [
              0.8888888888888888,
              "#fdca26"
             ],
             [
              1.0,
              "#f0f921"
             ]
            ],
            "type": "histogram2dcontour"
           }
          ],
          "histogram2d": [
           {
            "colorbar": {
             "outlinewidth": 0,
             "ticks": ""
            },
            "colorscale": [
             [
              0.0,
              "#0d0887"
             ],
             [
              0.1111111111111111,
              "#46039f"
             ],
             [
              0.2222222222222222,
              "#7201a8"
             ],
             [
              0.3333333333333333,
              "#9c179e"
             ],
             [
              0.4444444444444444,
              "#bd3786"
             ],
             [
              0.5555555555555556,
              "#d8576b"
             ],
             [
              0.6666666666666666,
              "#ed7953"
             ],
             [
              0.7777777777777778,
              "#fb9f3a"
             ],
             [
              0.8888888888888888,
              "#fdca26"
             ],
             [
              1.0,
              "#f0f921"
             ]
            ],
            "type": "histogram2d"
           }
          ],
          "histogram": [
           {
            "marker": {
             "pattern": {
              "fillmode": "overlay",
              "size": 10,
              "solidity": 0.2
             }
            },
            "type": "histogram"
           }
          ],
          "mesh3d": [
           {
            "colorbar": {
             "outlinewidth": 0,
             "ticks": ""
            },
            "type": "mesh3d"
           }
          ],
          "parcoords": [
           {
            "line": {
             "colorbar": {
              "outlinewidth": 0,
              "ticks": ""
             }
            },
            "type": "parcoords"
           }
          ],
          "pie": [
           {
            "automargin": true,
            "type": "pie"
           }
          ],
          "scatter3d": [
           {
            "line": {
             "colorbar": {
              "outlinewidth": 0,
              "ticks": ""
             }
            },
            "marker": {
             "colorbar": {
              "outlinewidth": 0,
              "ticks": ""
             }
            },
            "type": "scatter3d"
           }
          ],
          "scattercarpet": [
           {
            "marker": {
             "colorbar": {
              "outlinewidth": 0,
              "ticks": ""
             }
            },
            "type": "scattercarpet"
           }
          ],
          "scattergeo": [
           {
            "marker": {
             "colorbar": {
              "outlinewidth": 0,
              "ticks": ""
             }
            },
            "type": "scattergeo"
           }
          ],
          "scattergl": [
           {
            "marker": {
             "line": {
              "color": "#283442"
             }
            },
            "type": "scattergl"
           }
          ],
          "scattermapbox": [
           {
            "marker": {
             "colorbar": {
              "outlinewidth": 0,
              "ticks": ""
             }
            },
            "type": "scattermapbox"
           }
          ],
          "scatterpolargl": [
           {
            "marker": {
             "colorbar": {
              "outlinewidth": 0,
              "ticks": ""
             }
            },
            "type": "scatterpolargl"
           }
          ],
          "scatterpolar": [
           {
            "marker": {
             "colorbar": {
              "outlinewidth": 0,
              "ticks": ""
             }
            },
            "type": "scatterpolar"
           }
          ],
          "scatter": [
           {
            "marker": {
             "line": {
              "color": "#283442"
             }
            },
            "type": "scatter"
           }
          ],
          "scatterternary": [
           {
            "marker": {
             "colorbar": {
              "outlinewidth": 0,
              "ticks": ""
             }
            },
            "type": "scatterternary"
           }
          ],
          "surface": [
           {
            "colorbar": {
             "outlinewidth": 0,
             "ticks": ""
            },
            "colorscale": [
             [
              0.0,
              "#0d0887"
             ],
             [
              0.1111111111111111,
              "#46039f"
             ],
             [
              0.2222222222222222,
              "#7201a8"
             ],
             [
              0.3333333333333333,
              "#9c179e"
             ],
             [
              0.4444444444444444,
              "#bd3786"
             ],
             [
              0.5555555555555556,
              "#d8576b"
             ],
             [
              0.6666666666666666,
              "#ed7953"
             ],
             [
              0.7777777777777778,
              "#fb9f3a"
             ],
             [
              0.8888888888888888,
              "#fdca26"
             ],
             [
              1.0,
              "#f0f921"
             ]
            ],
            "type": "surface"
           }
          ],
          "table": [
           {
            "cells": {
             "fill": {
              "color": "#506784"
             },
             "line": {
              "color": "rgb(17,17,17)"
             }
            },
            "header": {
             "fill": {
              "color": "#2a3f5f"
             },
             "line": {
              "color": "rgb(17,17,17)"
             }
            },
            "type": "table"
           }
          ]
         },
         "layout": {
          "annotationdefaults": {
           "arrowcolor": "#f2f5fa",
           "arrowhead": 0,
           "arrowwidth": 1
          },
          "autotypenumbers": "strict",
          "coloraxis": {
           "colorbar": {
            "outlinewidth": 0,
            "ticks": ""
           }
          },
          "colorscale": {
           "diverging": [
            [
             0,
             "#8e0152"
            ],
            [
             0.1,
             "#c51b7d"
            ],
            [
             0.2,
             "#de77ae"
            ],
            [
             0.3,
             "#f1b6da"
            ],
            [
             0.4,
             "#fde0ef"
            ],
            [
             0.5,
             "#f7f7f7"
            ],
            [
             0.6,
             "#e6f5d0"
            ],
            [
             0.7,
             "#b8e186"
            ],
            [
             0.8,
             "#7fbc41"
            ],
            [
             0.9,
             "#4d9221"
            ],
            [
             1,
             "#276419"
            ]
           ],
           "sequential": [
            [
             0.0,
             "#0d0887"
            ],
            [
             0.1111111111111111,
             "#46039f"
            ],
            [
             0.2222222222222222,
             "#7201a8"
            ],
            [
             0.3333333333333333,
             "#9c179e"
            ],
            [
             0.4444444444444444,
             "#bd3786"
            ],
            [
             0.5555555555555556,
             "#d8576b"
            ],
            [
             0.6666666666666666,
             "#ed7953"
            ],
            [
             0.7777777777777778,
             "#fb9f3a"
            ],
            [
             0.8888888888888888,
             "#fdca26"
            ],
            [
             1.0,
             "#f0f921"
            ]
           ],
           "sequentialminus": [
            [
             0.0,
             "#0d0887"
            ],
            [
             0.1111111111111111,
             "#46039f"
            ],
            [
             0.2222222222222222,
             "#7201a8"
            ],
            [
             0.3333333333333333,
             "#9c179e"
            ],
            [
             0.4444444444444444,
             "#bd3786"
            ],
            [
             0.5555555555555556,
             "#d8576b"
            ],
            [
             0.6666666666666666,
             "#ed7953"
            ],
            [
             0.7777777777777778,
             "#fb9f3a"
            ],
            [
             0.8888888888888888,
             "#fdca26"
            ],
            [
             1.0,
             "#f0f921"
            ]
           ]
          },
          "colorway": [
           "#636efa",
           "#EF553B",
           "#00cc96",
           "#ab63fa",
           "#FFA15A",
           "#19d3f3",
           "#FF6692",
           "#B6E880",
           "#FF97FF",
           "#FECB52"
          ],
          "font": {
           "color": "#f2f5fa"
          },
          "geo": {
           "bgcolor": "rgb(17,17,17)",
           "lakecolor": "rgb(17,17,17)",
           "landcolor": "rgb(17,17,17)",
           "showlakes": true,
           "showland": true,
           "subunitcolor": "#506784"
          },
          "hoverlabel": {
           "align": "left"
          },
          "hovermode": "closest",
          "mapbox": {
           "style": "dark"
          },
          "paper_bgcolor": "rgb(17,17,17)",
          "plot_bgcolor": "rgb(17,17,17)",
          "polar": {
           "angularaxis": {
            "gridcolor": "#506784",
            "linecolor": "#506784",
            "ticks": ""
           },
           "bgcolor": "rgb(17,17,17)",
           "radialaxis": {
            "gridcolor": "#506784",
            "linecolor": "#506784",
            "ticks": ""
           }
          },
          "scene": {
           "xaxis": {
            "backgroundcolor": "rgb(17,17,17)",
            "gridcolor": "#506784",
            "gridwidth": 2,
            "linecolor": "#506784",
            "showbackground": true,
            "ticks": "",
            "zerolinecolor": "#C8D4E3"
           },
           "yaxis": {
            "backgroundcolor": "rgb(17,17,17)",
            "gridcolor": "#506784",
            "gridwidth": 2,
            "linecolor": "#506784",
            "showbackground": true,
            "ticks": "",
            "zerolinecolor": "#C8D4E3"
           },
           "zaxis": {
            "backgroundcolor": "rgb(17,17,17)",
            "gridcolor": "#506784",
            "gridwidth": 2,
            "linecolor": "#506784",
            "showbackground": true,
            "ticks": "",
            "zerolinecolor": "#C8D4E3"
           }
          },
          "shapedefaults": {
           "line": {
            "color": "#f2f5fa"
           }
          },
          "sliderdefaults": {
           "bgcolor": "#C8D4E3",
           "bordercolor": "rgb(17,17,17)",
           "borderwidth": 1,
           "tickwidth": 0
          },
          "ternary": {
           "aaxis": {
            "gridcolor": "#506784",
            "linecolor": "#506784",
            "ticks": ""
           },
           "baxis": {
            "gridcolor": "#506784",
            "linecolor": "#506784",
            "ticks": ""
           },
           "bgcolor": "rgb(17,17,17)",
           "caxis": {
            "gridcolor": "#506784",
            "linecolor": "#506784",
            "ticks": ""
           }
          },
          "title": {
           "x": 0.05
          },
          "updatemenudefaults": {
           "bgcolor": "#506784",
           "borderwidth": 0
          },
          "xaxis": {
           "automargin": true,
           "gridcolor": "#283442",
           "linecolor": "#506784",
           "ticks": "",
           "title": {
            "standoff": 15
           },
           "zerolinecolor": "#283442",
           "zerolinewidth": 2
          },
          "yaxis": {
           "automargin": true,
           "gridcolor": "#283442",
           "linecolor": "#506784",
           "ticks": "",
           "title": {
            "standoff": 15
           },
           "zerolinecolor": "#283442",
           "zerolinewidth": 2
          }
         }
        },
        "title": {
         "text": "Top 50 Word frequencies after Preprocessing"
        }
       },
       "config": {
        "showLink": false,
        "linkText": "Export to plot.ly",
        "plotlyServerURL": "https://plot.ly"
       }
      },
      "text/html": "<div>                            <div id=\"eade4bce-bbcf-4f6c-954c-2e6ca63824a1\" class=\"plotly-graph-div\" style=\"height:525px; width:100%;\"></div>            <script type=\"text/javascript\">                require([\"plotly\"], function(Plotly) {                    window.PLOTLYENV=window.PLOTLYENV || {};                                    if (document.getElementById(\"eade4bce-bbcf-4f6c-954c-2e6ca63824a1\")) {                    Plotly.newPlot(                        \"eade4bce-bbcf-4f6c-954c-2e6ca63824a1\",                        [{\"marker\":{\"color\":[204,183,30,28,28,27,27,27,23,22,14,12,12,11,11,11,9,9,9,9,8,8,8,8,8,8,7,7,7,7,7,6,6,6,6,6,6,6,6,5,5,5,5,5,5,5,5,5,5,5],\"colorscale\":[[0.0,\"rgb(0,0,131)\"],[0.2,\"rgb(0,60,170)\"],[0.4,\"rgb(5,255,255)\"],[0.6,\"rgb(255,255,0)\"],[0.8,\"rgb(250,0,0)\"],[1.0,\"rgb(128,0,0)\"]]},\"text\":\"Word counts\",\"x\":[\"pforzheim\",\"http\",\"kleinleise\",\"fragen\",\"pol\",\"entstehen\",\"twittertreffen\",\"wartezeiten\",\"news\",\"blaulicht\",\"polizei\",\"2022\",\"zeugen\",\"enzkreis\",\"pf\",\"polizeipf\",\"gt\",\"natenom\",\"pforzheimgram\",\"uhr\",\"07\",\"a8\",\"gesucht\",\"karlsruhe\",\"pforzheimer\",\"woche\",\"bad\",\"badenw\\u00fcrttemberg\",\"booster\",\"einbruch\",\"stadt_pforzheim\",\"10\",\"ausgesucht\",\"cw\",\"dienstag\",\"informationen\",\"nagold\",\"samstag\",\"url\",\"27\",\"doxograf\",\"fds\",\"gewahrsam\",\"hbf\",\"nummer\",\"offlabelu5\",\"pznews\",\"schwarzwald\",\"stadt\",\"stuttgart\"],\"y\":[204,183,30,28,28,27,27,27,23,22,14,12,12,11,11,11,9,9,9,9,8,8,8,8,8,8,7,7,7,7,7,6,6,6,6,6,6,6,6,5,5,5,5,5,5,5,5,5,5,5],\"type\":\"bar\"}],                        {\"template\":{\"data\":{\"barpolar\":[{\"marker\":{\"line\":{\"color\":\"rgb(17,17,17)\",\"width\":0.5},\"pattern\":{\"fillmode\":\"overlay\",\"size\":10,\"solidity\":0.2}},\"type\":\"barpolar\"}],\"bar\":[{\"error_x\":{\"color\":\"#f2f5fa\"},\"error_y\":{\"color\":\"#f2f5fa\"},\"marker\":{\"line\":{\"color\":\"rgb(17,17,17)\",\"width\":0.5},\"pattern\":{\"fillmode\":\"overlay\",\"size\":10,\"solidity\":0.2}},\"type\":\"bar\"}],\"carpet\":[{\"aaxis\":{\"endlinecolor\":\"#A2B1C6\",\"gridcolor\":\"#506784\",\"linecolor\":\"#506784\",\"minorgridcolor\":\"#506784\",\"startlinecolor\":\"#A2B1C6\"},\"baxis\":{\"endlinecolor\":\"#A2B1C6\",\"gridcolor\":\"#506784\",\"linecolor\":\"#506784\",\"minorgridcolor\":\"#506784\",\"startlinecolor\":\"#A2B1C6\"},\"type\":\"carpet\"}],\"choropleth\":[{\"colorbar\":{\"outlinewidth\":0,\"ticks\":\"\"},\"type\":\"choropleth\"}],\"contourcarpet\":[{\"colorbar\":{\"outlinewidth\":0,\"ticks\":\"\"},\"type\":\"contourcarpet\"}],\"contour\":[{\"colorbar\":{\"outlinewidth\":0,\"ticks\":\"\"},\"colorscale\":[[0.0,\"#0d0887\"],[0.1111111111111111,\"#46039f\"],[0.2222222222222222,\"#7201a8\"],[0.3333333333333333,\"#9c179e\"],[0.4444444444444444,\"#bd3786\"],[0.5555555555555556,\"#d8576b\"],[0.6666666666666666,\"#ed7953\"],[0.7777777777777778,\"#fb9f3a\"],[0.8888888888888888,\"#fdca26\"],[1.0,\"#f0f921\"]],\"type\":\"contour\"}],\"heatmapgl\":[{\"colorbar\":{\"outlinewidth\":0,\"ticks\":\"\"},\"colorscale\":[[0.0,\"#0d0887\"],[0.1111111111111111,\"#46039f\"],[0.2222222222222222,\"#7201a8\"],[0.3333333333333333,\"#9c179e\"],[0.4444444444444444,\"#bd3786\"],[0.5555555555555556,\"#d8576b\"],[0.6666666666666666,\"#ed7953\"],[0.7777777777777778,\"#fb9f3a\"],[0.8888888888888888,\"#fdca26\"],[1.0,\"#f0f921\"]],\"type\":\"heatmapgl\"}],\"heatmap\":[{\"colorbar\":{\"outlinewidth\":0,\"ticks\":\"\"},\"colorscale\":[[0.0,\"#0d0887\"],[0.1111111111111111,\"#46039f\"],[0.2222222222222222,\"#7201a8\"],[0.3333333333333333,\"#9c179e\"],[0.4444444444444444,\"#bd3786\"],[0.5555555555555556,\"#d8576b\"],[0.6666666666666666,\"#ed7953\"],[0.7777777777777778,\"#fb9f3a\"],[0.8888888888888888,\"#fdca26\"],[1.0,\"#f0f921\"]],\"type\":\"heatmap\"}],\"histogram2dcontour\":[{\"colorbar\":{\"outlinewidth\":0,\"ticks\":\"\"},\"colorscale\":[[0.0,\"#0d0887\"],[0.1111111111111111,\"#46039f\"],[0.2222222222222222,\"#7201a8\"],[0.3333333333333333,\"#9c179e\"],[0.4444444444444444,\"#bd3786\"],[0.5555555555555556,\"#d8576b\"],[0.6666666666666666,\"#ed7953\"],[0.7777777777777778,\"#fb9f3a\"],[0.8888888888888888,\"#fdca26\"],[1.0,\"#f0f921\"]],\"type\":\"histogram2dcontour\"}],\"histogram2d\":[{\"colorbar\":{\"outlinewidth\":0,\"ticks\":\"\"},\"colorscale\":[[0.0,\"#0d0887\"],[0.1111111111111111,\"#46039f\"],[0.2222222222222222,\"#7201a8\"],[0.3333333333333333,\"#9c179e\"],[0.4444444444444444,\"#bd3786\"],[0.5555555555555556,\"#d8576b\"],[0.6666666666666666,\"#ed7953\"],[0.7777777777777778,\"#fb9f3a\"],[0.8888888888888888,\"#fdca26\"],[1.0,\"#f0f921\"]],\"type\":\"histogram2d\"}],\"histogram\":[{\"marker\":{\"pattern\":{\"fillmode\":\"overlay\",\"size\":10,\"solidity\":0.2}},\"type\":\"histogram\"}],\"mesh3d\":[{\"colorbar\":{\"outlinewidth\":0,\"ticks\":\"\"},\"type\":\"mesh3d\"}],\"parcoords\":[{\"line\":{\"colorbar\":{\"outlinewidth\":0,\"ticks\":\"\"}},\"type\":\"parcoords\"}],\"pie\":[{\"automargin\":true,\"type\":\"pie\"}],\"scatter3d\":[{\"line\":{\"colorbar\":{\"outlinewidth\":0,\"ticks\":\"\"}},\"marker\":{\"colorbar\":{\"outlinewidth\":0,\"ticks\":\"\"}},\"type\":\"scatter3d\"}],\"scattercarpet\":[{\"marker\":{\"colorbar\":{\"outlinewidth\":0,\"ticks\":\"\"}},\"type\":\"scattercarpet\"}],\"scattergeo\":[{\"marker\":{\"colorbar\":{\"outlinewidth\":0,\"ticks\":\"\"}},\"type\":\"scattergeo\"}],\"scattergl\":[{\"marker\":{\"line\":{\"color\":\"#283442\"}},\"type\":\"scattergl\"}],\"scattermapbox\":[{\"marker\":{\"colorbar\":{\"outlinewidth\":0,\"ticks\":\"\"}},\"type\":\"scattermapbox\"}],\"scatterpolargl\":[{\"marker\":{\"colorbar\":{\"outlinewidth\":0,\"ticks\":\"\"}},\"type\":\"scatterpolargl\"}],\"scatterpolar\":[{\"marker\":{\"colorbar\":{\"outlinewidth\":0,\"ticks\":\"\"}},\"type\":\"scatterpolar\"}],\"scatter\":[{\"marker\":{\"line\":{\"color\":\"#283442\"}},\"type\":\"scatter\"}],\"scatterternary\":[{\"marker\":{\"colorbar\":{\"outlinewidth\":0,\"ticks\":\"\"}},\"type\":\"scatterternary\"}],\"surface\":[{\"colorbar\":{\"outlinewidth\":0,\"ticks\":\"\"},\"colorscale\":[[0.0,\"#0d0887\"],[0.1111111111111111,\"#46039f\"],[0.2222222222222222,\"#7201a8\"],[0.3333333333333333,\"#9c179e\"],[0.4444444444444444,\"#bd3786\"],[0.5555555555555556,\"#d8576b\"],[0.6666666666666666,\"#ed7953\"],[0.7777777777777778,\"#fb9f3a\"],[0.8888888888888888,\"#fdca26\"],[1.0,\"#f0f921\"]],\"type\":\"surface\"}],\"table\":[{\"cells\":{\"fill\":{\"color\":\"#506784\"},\"line\":{\"color\":\"rgb(17,17,17)\"}},\"header\":{\"fill\":{\"color\":\"#2a3f5f\"},\"line\":{\"color\":\"rgb(17,17,17)\"}},\"type\":\"table\"}]},\"layout\":{\"annotationdefaults\":{\"arrowcolor\":\"#f2f5fa\",\"arrowhead\":0,\"arrowwidth\":1},\"autotypenumbers\":\"strict\",\"coloraxis\":{\"colorbar\":{\"outlinewidth\":0,\"ticks\":\"\"}},\"colorscale\":{\"diverging\":[[0,\"#8e0152\"],[0.1,\"#c51b7d\"],[0.2,\"#de77ae\"],[0.3,\"#f1b6da\"],[0.4,\"#fde0ef\"],[0.5,\"#f7f7f7\"],[0.6,\"#e6f5d0\"],[0.7,\"#b8e186\"],[0.8,\"#7fbc41\"],[0.9,\"#4d9221\"],[1,\"#276419\"]],\"sequential\":[[0.0,\"#0d0887\"],[0.1111111111111111,\"#46039f\"],[0.2222222222222222,\"#7201a8\"],[0.3333333333333333,\"#9c179e\"],[0.4444444444444444,\"#bd3786\"],[0.5555555555555556,\"#d8576b\"],[0.6666666666666666,\"#ed7953\"],[0.7777777777777778,\"#fb9f3a\"],[0.8888888888888888,\"#fdca26\"],[1.0,\"#f0f921\"]],\"sequentialminus\":[[0.0,\"#0d0887\"],[0.1111111111111111,\"#46039f\"],[0.2222222222222222,\"#7201a8\"],[0.3333333333333333,\"#9c179e\"],[0.4444444444444444,\"#bd3786\"],[0.5555555555555556,\"#d8576b\"],[0.6666666666666666,\"#ed7953\"],[0.7777777777777778,\"#fb9f3a\"],[0.8888888888888888,\"#fdca26\"],[1.0,\"#f0f921\"]]},\"colorway\":[\"#636efa\",\"#EF553B\",\"#00cc96\",\"#ab63fa\",\"#FFA15A\",\"#19d3f3\",\"#FF6692\",\"#B6E880\",\"#FF97FF\",\"#FECB52\"],\"font\":{\"color\":\"#f2f5fa\"},\"geo\":{\"bgcolor\":\"rgb(17,17,17)\",\"lakecolor\":\"rgb(17,17,17)\",\"landcolor\":\"rgb(17,17,17)\",\"showlakes\":true,\"showland\":true,\"subunitcolor\":\"#506784\"},\"hoverlabel\":{\"align\":\"left\"},\"hovermode\":\"closest\",\"mapbox\":{\"style\":\"dark\"},\"paper_bgcolor\":\"rgb(17,17,17)\",\"plot_bgcolor\":\"rgb(17,17,17)\",\"polar\":{\"angularaxis\":{\"gridcolor\":\"#506784\",\"linecolor\":\"#506784\",\"ticks\":\"\"},\"bgcolor\":\"rgb(17,17,17)\",\"radialaxis\":{\"gridcolor\":\"#506784\",\"linecolor\":\"#506784\",\"ticks\":\"\"}},\"scene\":{\"xaxis\":{\"backgroundcolor\":\"rgb(17,17,17)\",\"gridcolor\":\"#506784\",\"gridwidth\":2,\"linecolor\":\"#506784\",\"showbackground\":true,\"ticks\":\"\",\"zerolinecolor\":\"#C8D4E3\"},\"yaxis\":{\"backgroundcolor\":\"rgb(17,17,17)\",\"gridcolor\":\"#506784\",\"gridwidth\":2,\"linecolor\":\"#506784\",\"showbackground\":true,\"ticks\":\"\",\"zerolinecolor\":\"#C8D4E3\"},\"zaxis\":{\"backgroundcolor\":\"rgb(17,17,17)\",\"gridcolor\":\"#506784\",\"gridwidth\":2,\"linecolor\":\"#506784\",\"showbackground\":true,\"ticks\":\"\",\"zerolinecolor\":\"#C8D4E3\"}},\"shapedefaults\":{\"line\":{\"color\":\"#f2f5fa\"}},\"sliderdefaults\":{\"bgcolor\":\"#C8D4E3\",\"bordercolor\":\"rgb(17,17,17)\",\"borderwidth\":1,\"tickwidth\":0},\"ternary\":{\"aaxis\":{\"gridcolor\":\"#506784\",\"linecolor\":\"#506784\",\"ticks\":\"\"},\"baxis\":{\"gridcolor\":\"#506784\",\"linecolor\":\"#506784\",\"ticks\":\"\"},\"bgcolor\":\"rgb(17,17,17)\",\"caxis\":{\"gridcolor\":\"#506784\",\"linecolor\":\"#506784\",\"ticks\":\"\"}},\"title\":{\"x\":0.05},\"updatemenudefaults\":{\"bgcolor\":\"#506784\",\"borderwidth\":0},\"xaxis\":{\"automargin\":true,\"gridcolor\":\"#283442\",\"linecolor\":\"#506784\",\"ticks\":\"\",\"title\":{\"standoff\":15},\"zerolinecolor\":\"#283442\",\"zerolinewidth\":2},\"yaxis\":{\"automargin\":true,\"gridcolor\":\"#283442\",\"linecolor\":\"#506784\",\"ticks\":\"\",\"title\":{\"standoff\":15},\"zerolinecolor\":\"#283442\",\"zerolinewidth\":2}}},\"title\":{\"text\":\"Top 50 Word frequencies after Preprocessing\"}},                        {\"responsive\": true}                    ).then(function(){\n                            \nvar gd = document.getElementById('eade4bce-bbcf-4f6c-954c-2e6ca63824a1');\nvar x = new MutationObserver(function (mutations, observer) {{\n        var display = window.getComputedStyle(gd).display;\n        if (!display || display === 'none') {{\n            console.log([gd, 'removed!']);\n            Plotly.purge(gd);\n            observer.disconnect();\n        }}\n}});\n\n// Listen for the removal of the full notebook cells\nvar notebookContainer = gd.closest('#notebook-container');\nif (notebookContainer) {{\n    x.observe(notebookContainer, {childList: true});\n}}\n\n// Listen for the clearing of the current output cell\nvar outputEl = gd.closest('.output');\nif (outputEl) {{\n    x.observe(outputEl, {childList: true});\n}}\n\n                        })                };                });            </script>        </div>"
     },
     "metadata": {},
     "output_type": "display_data"
    }
   ],
   "source": [
    "# Visualize word occurrences after preprocessing\n",
    "\n",
    "feature_names = tf_vectorizer.get_feature_names()\n",
    "count_vec = np.asarray(tf.sum(axis=0)).ravel()\n",
    "zipped = list(zip(feature_names, count_vec))\n",
    "x, y = (list(x) for x in zip(*sorted(zipped, key=lambda x: x[1], reverse=True)))\n",
    "# Now I want to extract out on the top 15 and bottom 15 words\n",
    "Y = np.concatenate([y[0:15], y[-16:-1]])\n",
    "X = np.concatenate([x[0:15], x[-16:-1]])\n",
    "\n",
    "# Plotting the Plot.ly plot for the Top 50 word frequencies\n",
    "data = [go.Bar(\n",
    "            x = x[0:50],\n",
    "            y = y[0:50],\n",
    "            marker= dict(colorscale='Jet',\n",
    "                         color = y[0:50]\n",
    "                        ),\n",
    "            text='Word counts'\n",
    "    )]\n",
    "\n",
    "layout = go.Layout(\n",
    "    title='Top 50 Word frequencies after Preprocessing'\n",
    ")\n",
    "\n",
    "fig = go.Figure(data=data, layout=layout)\n",
    "\n",
    "py.iplot(fig, filename='basic-bar')"
   ],
   "metadata": {
    "collapsed": false,
    "pycharm": {
     "name": "#%%\n"
    }
   }
  },
  {
   "cell_type": "markdown",
   "source": [],
   "metadata": {
    "collapsed": false,
    "pycharm": {
     "name": "#%% md\n"
    }
   }
  },
  {
   "cell_type": "markdown",
   "source": [
    "### Implement Latent Dirichlet Allocation"
   ],
   "metadata": {
    "collapsed": false,
    "pycharm": {
     "name": "#%% md\n"
    }
   }
  },
  {
   "cell_type": "code",
   "execution_count": 391,
   "outputs": [],
   "source": [
    "# 5 Topics as specified in the assignment\n",
    "lda = LatentDirichletAllocation(n_components=5, max_iter=10,\n",
    "                                learning_method = 'online',\n",
    "                                learning_offset = 10,\n",
    "                                random_state = 6432143)"
   ],
   "metadata": {
    "collapsed": false,
    "pycharm": {
     "name": "#%%\n"
    }
   }
  },
  {
   "cell_type": "code",
   "execution_count": 392,
   "outputs": [
    {
     "data": {
      "text/plain": "LatentDirichletAllocation(learning_method='online', learning_offset=10,\n                          n_components=5, random_state=6432143)",
      "text/html": "<style>#sk-container-id-7 {color: black;background-color: white;}#sk-container-id-7 pre{padding: 0;}#sk-container-id-7 div.sk-toggleable {background-color: white;}#sk-container-id-7 label.sk-toggleable__label {cursor: pointer;display: block;width: 100%;margin-bottom: 0;padding: 0.3em;box-sizing: border-box;text-align: center;}#sk-container-id-7 label.sk-toggleable__label-arrow:before {content: \"▸\";float: left;margin-right: 0.25em;color: #696969;}#sk-container-id-7 label.sk-toggleable__label-arrow:hover:before {color: black;}#sk-container-id-7 div.sk-estimator:hover label.sk-toggleable__label-arrow:before {color: black;}#sk-container-id-7 div.sk-toggleable__content {max-height: 0;max-width: 0;overflow: hidden;text-align: left;background-color: #f0f8ff;}#sk-container-id-7 div.sk-toggleable__content pre {margin: 0.2em;color: black;border-radius: 0.25em;background-color: #f0f8ff;}#sk-container-id-7 input.sk-toggleable__control:checked~div.sk-toggleable__content {max-height: 200px;max-width: 100%;overflow: auto;}#sk-container-id-7 input.sk-toggleable__control:checked~label.sk-toggleable__label-arrow:before {content: \"▾\";}#sk-container-id-7 div.sk-estimator input.sk-toggleable__control:checked~label.sk-toggleable__label {background-color: #d4ebff;}#sk-container-id-7 div.sk-label input.sk-toggleable__control:checked~label.sk-toggleable__label {background-color: #d4ebff;}#sk-container-id-7 input.sk-hidden--visually {border: 0;clip: rect(1px 1px 1px 1px);clip: rect(1px, 1px, 1px, 1px);height: 1px;margin: -1px;overflow: hidden;padding: 0;position: absolute;width: 1px;}#sk-container-id-7 div.sk-estimator {font-family: monospace;background-color: #f0f8ff;border: 1px dotted black;border-radius: 0.25em;box-sizing: border-box;margin-bottom: 0.5em;}#sk-container-id-7 div.sk-estimator:hover {background-color: #d4ebff;}#sk-container-id-7 div.sk-parallel-item::after {content: \"\";width: 100%;border-bottom: 1px solid gray;flex-grow: 1;}#sk-container-id-7 div.sk-label:hover label.sk-toggleable__label {background-color: #d4ebff;}#sk-container-id-7 div.sk-serial::before {content: \"\";position: absolute;border-left: 1px solid gray;box-sizing: border-box;top: 0;bottom: 0;left: 50%;z-index: 0;}#sk-container-id-7 div.sk-serial {display: flex;flex-direction: column;align-items: center;background-color: white;padding-right: 0.2em;padding-left: 0.2em;position: relative;}#sk-container-id-7 div.sk-item {position: relative;z-index: 1;}#sk-container-id-7 div.sk-parallel {display: flex;align-items: stretch;justify-content: center;background-color: white;position: relative;}#sk-container-id-7 div.sk-item::before, #sk-container-id-7 div.sk-parallel-item::before {content: \"\";position: absolute;border-left: 1px solid gray;box-sizing: border-box;top: 0;bottom: 0;left: 50%;z-index: -1;}#sk-container-id-7 div.sk-parallel-item {display: flex;flex-direction: column;z-index: 1;position: relative;background-color: white;}#sk-container-id-7 div.sk-parallel-item:first-child::after {align-self: flex-end;width: 50%;}#sk-container-id-7 div.sk-parallel-item:last-child::after {align-self: flex-start;width: 50%;}#sk-container-id-7 div.sk-parallel-item:only-child::after {width: 0;}#sk-container-id-7 div.sk-dashed-wrapped {border: 1px dashed gray;margin: 0 0.4em 0.5em 0.4em;box-sizing: border-box;padding-bottom: 0.4em;background-color: white;}#sk-container-id-7 div.sk-label label {font-family: monospace;font-weight: bold;display: inline-block;line-height: 1.2em;}#sk-container-id-7 div.sk-label-container {text-align: center;}#sk-container-id-7 div.sk-container {/* jupyter's `normalize.less` sets `[hidden] { display: none; }` but bootstrap.min.css set `[hidden] { display: none !important; }` so we also need the `!important` here to be able to override the default hidden behavior on the sphinx rendered scikit-learn.org. See: https://github.com/scikit-learn/scikit-learn/issues/21755 */display: inline-block !important;position: relative;}#sk-container-id-7 div.sk-text-repr-fallback {display: none;}</style><div id=\"sk-container-id-7\" class=\"sk-top-container\"><div class=\"sk-text-repr-fallback\"><pre>LatentDirichletAllocation(learning_method=&#x27;online&#x27;, learning_offset=10,\n                          n_components=5, random_state=6432143)</pre><b>In a Jupyter environment, please rerun this cell to show the HTML representation or trust the notebook. <br />On GitHub, the HTML representation is unable to render, please try loading this page with nbviewer.org.</b></div><div class=\"sk-container\" hidden><div class=\"sk-item\"><div class=\"sk-estimator sk-toggleable\"><input class=\"sk-toggleable__control sk-hidden--visually\" id=\"sk-estimator-id-7\" type=\"checkbox\" checked><label for=\"sk-estimator-id-7\" class=\"sk-toggleable__label sk-toggleable__label-arrow\">LatentDirichletAllocation</label><div class=\"sk-toggleable__content\"><pre>LatentDirichletAllocation(learning_method=&#x27;online&#x27;, learning_offset=10,\n                          n_components=5, random_state=6432143)</pre></div></div></div></div></div>"
     },
     "execution_count": 392,
     "metadata": {},
     "output_type": "execute_result"
    }
   ],
   "source": [
    "lda.fit(tf)"
   ],
   "metadata": {
    "collapsed": false,
    "pycharm": {
     "name": "#%%\n"
    }
   }
  },
  {
   "cell_type": "code",
   "execution_count": 393,
   "outputs": [
    {
     "name": "stdout",
     "output_type": "stream",
     "text": [
      "\n",
      "Topics in LDA model: \n",
      "\n",
      "Topic #0:http pforzheim 2022 pforzheimgram uhr pforzheimer a8 07 badenwürttemberg informationen ausgesucht url woche pznews zeitung u5 trending doxograf betonteilen brücken freiheit panne passt 10 natenom region hs_pforzheim offlabelu5 u12schutz booster nummer job 18 impfen 16 boost 09 dienstag polizei 12\n",
      "======================================================================\n",
      "\n",
      "Topic #1:pforzheim http schwarzwald wandern westweg haft verantwortlichen abschiebeknast bw berlin verhindert schwert werd antira_netzwerk gelesen nw4bbqloam unterstmatt schön klausuraufsichten uneigentlich woche training kampfkunst sport schule hut fecht michael_karalus corona lebe ausreichend glück karlsruhe sucht lernen wartezeiten twittertreffen fragen entstehen kleinleise\n",
      "======================================================================\n",
      "\n",
      "Topic #2:fragen entstehen twittertreffen wartezeiten kleinleise stadt_pforzheim polizeipf earlytwix liga natenom fifa22 karrieremodus uffc j3adilwkef karlsruhe eutingen niefern hw_ba gastgeber fußball frau teamplay polizeilandesmeisterschaft fitness zuständigkeitsbereich 45 grad bad lang b10 gesperrt follower finale a8 lebe http sorgen pforzheim amp 10\n",
      "======================================================================\n",
      "\n",
      "Topic #3:pforzheim http gt polizeipf stadt bad essen hbf ethylendiamin darmstadt dortmund vermute wayfu gefahren dienersebastian patrickwiral geld juli wildbad stuttgart schockanruf zuckerfresse verkehrsinsel lexiikon liberalochris kassel bußgeldverfahren teilimpfpflicht monaten metall systemwechselstelle update dbregio_bw weiche nagold reparatur csd na baden dienstag\n",
      "======================================================================\n",
      "\n",
      "Topic #4:http pforzheim pol news blaulicht enzkreis pf zeugen polizei gesucht einbruch cw mehrfamilienhaus verkehrsunfall fds 27 gewahrsam körperverletzung verdacht stuttgart auto unbekannte verletzt unbekannter belästigt sucht nagold exhibitionist polizeibeamte untersuchungshaft handtasche widerstand nachteil raub mutmaßlichen 52 tatverdächtiger frühen dillweißenstein raubstraftat\n",
      "======================================================================\n"
     ]
    }
   ],
   "source": [
    "from DataAnalyticsIU.helper_functions import print_top_words\n",
    "\n",
    "n_top_words = 40\n",
    "print(\"\\nTopics in LDA model: \")\n",
    "tf_feature_names = tf_vectorizer.get_feature_names()\n",
    "print_top_words(lda, tf_feature_names, n_top_words)"
   ],
   "metadata": {
    "collapsed": false,
    "pycharm": {
     "name": "#%%\n"
    }
   }
  },
  {
   "cell_type": "code",
   "execution_count": null,
   "outputs": [],
   "source": [],
   "metadata": {
    "collapsed": false,
    "pycharm": {
     "name": "#%%\n"
    }
   }
  }
 ],
 "metadata": {
  "kernelspec": {
   "display_name": "Python 3",
   "language": "python",
   "name": "python3"
  },
  "language_info": {
   "codemirror_mode": {
    "name": "ipython",
    "version": 2
   },
   "file_extension": ".py",
   "mimetype": "text/x-python",
   "name": "python",
   "nbconvert_exporter": "python",
   "pygments_lexer": "ipython2",
   "version": "2.7.6"
  }
 },
 "nbformat": 4,
 "nbformat_minor": 0
}