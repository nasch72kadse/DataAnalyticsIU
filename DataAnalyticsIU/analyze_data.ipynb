{
 "cells": [
  {
   "cell_type": "markdown",
   "source": [
    "# Import libraries"
   ],
   "metadata": {
    "collapsed": false,
    "pycharm": {
     "name": "#%% md\n"
    }
   }
  },
  {
   "cell_type": "code",
   "execution_count": 1,
   "outputs": [
    {
     "data": {
      "text/html": "        <script type=\"text/javascript\">\n        window.PlotlyConfig = {MathJaxConfig: 'local'};\n        if (window.MathJax && window.MathJax.Hub && window.MathJax.Hub.Config) {window.MathJax.Hub.Config({SVG: {font: \"STIX-Web\"}});}\n        if (typeof require !== 'undefined') {\n        require.undef(\"plotly\");\n        requirejs.config({\n            paths: {\n                'plotly': ['https://cdn.plot.ly/plotly-2.12.1.min']\n            }\n        });\n        require(['plotly'], function(Plotly) {\n            window._Plotly = Plotly;\n        });\n        }\n        </script>\n        "
     },
     "metadata": {},
     "output_type": "display_data"
    }
   ],
   "source": [
    "import pandas as pd\n",
    "import numpy as np\n",
    "%matplotlib inline\n",
    "# Plotly imports\n",
    "import plotly.offline as py\n",
    "py.init_notebook_mode(connected=True)\n",
    "import plotly.graph_objs as go\n",
    "\n",
    "# Other imports\n",
    "from sklearn.decomposition import LatentDirichletAllocation\n",
    "from matplotlib import pyplot as plt\n",
    "%matplotlib inline\n",
    "\n",
    "plt.style.use(\"fivethirtyeight\")"
   ],
   "metadata": {
    "collapsed": false,
    "pycharm": {
     "name": "#%%\n"
    }
   }
  },
  {
   "cell_type": "markdown",
   "source": [
    "# Data processing"
   ],
   "metadata": {
    "collapsed": false,
    "pycharm": {
     "name": "#%% md\n"
    }
   }
  },
  {
   "cell_type": "markdown",
   "source": [
    "## Read data"
   ],
   "metadata": {
    "collapsed": false,
    "pycharm": {
     "name": "#%% md\n"
    }
   }
  },
  {
   "cell_type": "code",
   "execution_count": 2,
   "outputs": [],
   "source": [
    "import json\n",
    "import os\n",
    "\n",
    "data_list = []\n",
    "\n",
    "for file in os.listdir(\"../\"):\n",
    "    if file.endswith(\".txt\"):\n",
    "        with open(\"../\" + file, \"r\", encoding=\"UTF-8\") as f:\n",
    "            data_string = f.read().replace(\"\\n\", \"\")\n",
    "            loaded_json = json.loads(data_string)\n",
    "            data_list.append(loaded_json)"
   ],
   "metadata": {
    "collapsed": false,
    "pycharm": {
     "name": "#%%\n"
    }
   }
  },
  {
   "cell_type": "code",
   "execution_count": 3,
   "outputs": [],
   "source": [
    "# Merge data\n",
    "pd_data = pd.DataFrame({\"created_at\": [], \"tweet_id\": [], \"content\": [], \"author_id\": []})\n",
    "\n",
    "for data_dict in data_list:\n",
    "    data = data_dict[\"data\"]\n",
    "    for data_entry in data:\n",
    "        data_entry_renamed = {\"created_at\": data_entry[\"created_at\"], \"tweet_id\": data_entry[\"id\"], \"content\": data_entry[\"text\"], \"author_id\": data_entry[\"author_id\"]}\n",
    "        pd_data = pd_data.append(data_entry_renamed, ignore_index=True)"
   ],
   "metadata": {
    "collapsed": false,
    "pycharm": {
     "name": "#%%\n"
    }
   }
  },
  {
   "cell_type": "code",
   "execution_count": 4,
   "outputs": [
    {
     "data": {
      "text/plain": "                   created_at             tweet_id  \\\n0    2022-07-05T18:50:20.000Z  1544393254929661952   \n1    2022-07-05T18:31:02.000Z  1544388399817277440   \n2    2022-07-05T18:01:17.000Z  1544380912313503746   \n3    2022-07-05T17:44:51.000Z  1544376779137327106   \n4    2022-07-05T17:20:08.000Z  1544370557076004866   \n..                        ...                  ...   \n495  2022-07-10T09:58:04.000Z  1546071248156909571   \n496  2022-07-10T09:49:29.000Z  1546069086790189056   \n497  2022-07-10T09:42:38.000Z  1546067360875937793   \n498  2022-07-10T09:38:37.000Z  1546066351294488576   \n499  2022-07-10T09:25:44.000Z  1546063110980730880   \n\n                                               content            author_id  \n0    Das Pforzheimer Nachtleben blüht wieder auf. V...   806082807562960896  \n1    @Kranzschwinger Indem sie froh snd, dass es ni...            257134702  \n2    RT @BNN_BaNeuNa: Hat die gute alte Leitplanke ...  1256684331386515457  \n3    RT @simonschre: Eisenbahnen, die ich heute zum...           2419492255  \n4    Eisenbahnen, die ich heute zum ersten Mal gefa...           1960909934  \n..                                                 ...                  ...  \n495  @pznews Die Schlossberghöfe in Pforzheim spalt...            356565974  \n496  @pznews Die Schlossberghöfe in Pforzheim spalt...            356565974  \n497  Alle Informationen unter dieser Url: https://t...   936719821064097797  \n498  Vom 14. - 16. Juli 2022 findet die inzwischen ...           3235981942  \n499  3,5 h von Pforzheim nach LB. Hunderte frustier...            902085877  \n\n[500 rows x 4 columns]",
      "text/html": "<div>\n<style scoped>\n    .dataframe tbody tr th:only-of-type {\n        vertical-align: middle;\n    }\n\n    .dataframe tbody tr th {\n        vertical-align: top;\n    }\n\n    .dataframe thead th {\n        text-align: right;\n    }\n</style>\n<table border=\"1\" class=\"dataframe\">\n  <thead>\n    <tr style=\"text-align: right;\">\n      <th></th>\n      <th>created_at</th>\n      <th>tweet_id</th>\n      <th>content</th>\n      <th>author_id</th>\n    </tr>\n  </thead>\n  <tbody>\n    <tr>\n      <th>0</th>\n      <td>2022-07-05T18:50:20.000Z</td>\n      <td>1544393254929661952</td>\n      <td>Das Pforzheimer Nachtleben blüht wieder auf. V...</td>\n      <td>806082807562960896</td>\n    </tr>\n    <tr>\n      <th>1</th>\n      <td>2022-07-05T18:31:02.000Z</td>\n      <td>1544388399817277440</td>\n      <td>@Kranzschwinger Indem sie froh snd, dass es ni...</td>\n      <td>257134702</td>\n    </tr>\n    <tr>\n      <th>2</th>\n      <td>2022-07-05T18:01:17.000Z</td>\n      <td>1544380912313503746</td>\n      <td>RT @BNN_BaNeuNa: Hat die gute alte Leitplanke ...</td>\n      <td>1256684331386515457</td>\n    </tr>\n    <tr>\n      <th>3</th>\n      <td>2022-07-05T17:44:51.000Z</td>\n      <td>1544376779137327106</td>\n      <td>RT @simonschre: Eisenbahnen, die ich heute zum...</td>\n      <td>2419492255</td>\n    </tr>\n    <tr>\n      <th>4</th>\n      <td>2022-07-05T17:20:08.000Z</td>\n      <td>1544370557076004866</td>\n      <td>Eisenbahnen, die ich heute zum ersten Mal gefa...</td>\n      <td>1960909934</td>\n    </tr>\n    <tr>\n      <th>...</th>\n      <td>...</td>\n      <td>...</td>\n      <td>...</td>\n      <td>...</td>\n    </tr>\n    <tr>\n      <th>495</th>\n      <td>2022-07-10T09:58:04.000Z</td>\n      <td>1546071248156909571</td>\n      <td>@pznews Die Schlossberghöfe in Pforzheim spalt...</td>\n      <td>356565974</td>\n    </tr>\n    <tr>\n      <th>496</th>\n      <td>2022-07-10T09:49:29.000Z</td>\n      <td>1546069086790189056</td>\n      <td>@pznews Die Schlossberghöfe in Pforzheim spalt...</td>\n      <td>356565974</td>\n    </tr>\n    <tr>\n      <th>497</th>\n      <td>2022-07-10T09:42:38.000Z</td>\n      <td>1546067360875937793</td>\n      <td>Alle Informationen unter dieser Url: https://t...</td>\n      <td>936719821064097797</td>\n    </tr>\n    <tr>\n      <th>498</th>\n      <td>2022-07-10T09:38:37.000Z</td>\n      <td>1546066351294488576</td>\n      <td>Vom 14. - 16. Juli 2022 findet die inzwischen ...</td>\n      <td>3235981942</td>\n    </tr>\n    <tr>\n      <th>499</th>\n      <td>2022-07-10T09:25:44.000Z</td>\n      <td>1546063110980730880</td>\n      <td>3,5 h von Pforzheim nach LB. Hunderte frustier...</td>\n      <td>902085877</td>\n    </tr>\n  </tbody>\n</table>\n<p>500 rows × 4 columns</p>\n</div>"
     },
     "execution_count": 4,
     "metadata": {},
     "output_type": "execute_result"
    }
   ],
   "source": [
    "pd_data"
   ],
   "metadata": {
    "collapsed": false,
    "pycharm": {
     "name": "#%%\n"
    }
   }
  },
  {
   "cell_type": "markdown",
   "source": [
    "## Data cleaning"
   ],
   "metadata": {
    "collapsed": false,
    "pycharm": {
     "name": "#%% md\n"
    }
   }
  },
  {
   "cell_type": "markdown",
   "source": [
    "### Remove duplicates"
   ],
   "metadata": {
    "collapsed": false,
    "pycharm": {
     "name": "#%% md\n"
    }
   }
  },
  {
   "cell_type": "code",
   "execution_count": 5,
   "outputs": [],
   "source": [
    "pd_data = pd_data.drop_duplicates()\n",
    "pd_data_original = pd_data.copy() # Will not be changed anymore"
   ],
   "metadata": {
    "collapsed": false,
    "pycharm": {
     "name": "#%%\n"
    }
   }
  },
  {
   "cell_type": "markdown",
   "source": [
    "### Detect language and filter non german tweets, also remove http links"
   ],
   "metadata": {
    "collapsed": false,
    "pycharm": {
     "name": "#%% md\n"
    }
   }
  },
  {
   "cell_type": "code",
   "execution_count": 6,
   "outputs": [],
   "source": [
    "import re\n",
    "import langid\n",
    "\n",
    "tweet_ids_to_remove = []\n",
    "\n",
    "for index, row in pd_data.iterrows():\n",
    "    content = row[\"content\"]\n",
    "    content_language = langid.classify(content)[0]\n",
    "    # Remove non german tweets\n",
    "    if content_language != \"de\":\n",
    "        tweet_ids_to_remove.append(row[\"tweet_id\"])\n",
    "    # Remove http links because removing them through stopwords doesn't work\n",
    "    new_content = re.sub(r\"\\bhttp\\w+\", \"\", content)\n",
    "    pd_data.loc[index][\"content\"] = new_content\n",
    "\n",
    "for tweet_id in tweet_ids_to_remove:\n",
    "    pd_data = pd_data[pd_data[\"tweet_id\"] != tweet_id]"
   ],
   "metadata": {
    "collapsed": false,
    "pycharm": {
     "name": "#%%\n"
    }
   }
  },
  {
   "cell_type": "markdown",
   "source": [
    "### Clean content"
   ],
   "metadata": {
    "collapsed": false,
    "pycharm": {
     "name": "#%% md\n"
    }
   }
  },
  {
   "cell_type": "code",
   "execution_count": 7,
   "outputs": [],
   "source": [
    "# Lowercase\n",
    "pd_data[\"content\"] = pd_data[\"content\"].str.lower()"
   ],
   "metadata": {
    "collapsed": false,
    "pycharm": {
     "name": "#%%\n"
    }
   }
  },
  {
   "cell_type": "code",
   "execution_count": 8,
   "outputs": [],
   "source": [
    "# Stopword source https://raw.githubusercontent.com/solariz/german_stopwords/master/german_stopwords_full.txt\n",
    "custom_stopwords = []\n",
    "with open(\"stopwords.txt\", 'r', encoding=\"UTF-8\") as file:\n",
    "    for line in file:\n",
    "        custom_stopwords.append(line.replace(\"\\n\", \"\"))\n",
    "\n",
    "additional_stopwords = [\"rt\", \"fast\", \"deren\", \"mehr\", \"http\", \"co\", \"8cn3awvt9v\", \"eigentlich\", \"j3adilwkef\"]\n",
    "# Remove Pforzheim because it is obvious that all tweets should be about Pforzheim\n",
    "additional_stopwords.append(\"pforzheim\")\n",
    "additional_stopwords.append(\"pf\")\n",
    "additional_stopwords.append(\"pforzheimer\")\n",
    "\n",
    "custom_stopwords = custom_stopwords + additional_stopwords"
   ],
   "metadata": {
    "collapsed": false,
    "pycharm": {
     "name": "#%%\n"
    }
   }
  },
  {
   "cell_type": "markdown",
   "source": [
    "# Entity analysis"
   ],
   "metadata": {
    "collapsed": false,
    "pycharm": {
     "name": "#%% md\n"
    }
   }
  },
  {
   "cell_type": "code",
   "execution_count": 9,
   "outputs": [],
   "source": [
    "import re\n",
    "\n",
    "author_dict = {}\n",
    "hashtag_dict = {}\n",
    "\n",
    "for index, row in pd_data_original.iterrows():\n",
    "    # Collect authors, increment occurrences\n",
    "    this_author_id = row[\"author_id\"]\n",
    "    if this_author_id not in author_dict:\n",
    "        author_dict[this_author_id] = 1\n",
    "    else:\n",
    "        author_dict[this_author_id] += 1\n",
    "    # Collect hashtags\n",
    "    content = row[\"content\"]\n",
    "    this_hashtags = re.findall(r\"#(\\w+)\", content)\n",
    "    for this_hashtag in this_hashtags:\n",
    "        this_hashtag = this_hashtag.lower()\n",
    "        if this_hashtag not in hashtag_dict:\n",
    "            hashtag_dict[this_hashtag] = 1\n",
    "        else:\n",
    "            hashtag_dict[this_hashtag] += 1\n",
    "\n",
    "# Sort dictionaries\n",
    "author_dict = sorted(author_dict.items(), key=lambda x: x[1], reverse=True)\n",
    "hashtag_dict = sorted(hashtag_dict.items(), key=lambda x: x[1], reverse=True)"
   ],
   "metadata": {
    "collapsed": false,
    "pycharm": {
     "name": "#%%\n"
    }
   }
  },
  {
   "cell_type": "code",
   "execution_count": 10,
   "outputs": [
    {
     "data": {
      "text/plain": "[('1420498158577242116', 33),\n ('24165538', 16),\n ('1184022676488314880', 11),\n ('747113754006065152', 8),\n ('806082807562960896', 7),\n ('1523376024876167172', 7),\n ('936719821064097797', 6),\n ('105591210', 6),\n ('1305951228539658240', 5),\n ('1375959707689615364', 5),\n ('1118474756590796800', 5),\n ('2419492255', 4),\n ('123258168', 4),\n ('1411270748266807296', 4),\n ('878964397103775744', 4),\n ('872760537284833280', 4),\n ('1520024378016206848', 3),\n ('36973702', 3),\n ('15170704', 3),\n ('356565974', 3),\n ('1525082147501092865', 3),\n ('19447047', 3),\n ('1485182559306891265', 3),\n ('902085877', 3),\n ('1960909934', 2),\n ('15929362', 2),\n ('1427678298352541699', 2),\n ('1202872538281467904', 2),\n ('1041350253713088512', 2),\n ('18119691', 2),\n ('1078912669', 2),\n ('1160220612033310720', 2),\n ('3049086521', 2),\n ('1489157743860723718', 2),\n ('433223957', 2),\n ('259787794', 2),\n ('973940217508958208', 2),\n ('1500031172491026432', 2),\n ('1534550535596023808', 2),\n ('4185773171', 2),\n ('1361415758', 2),\n ('898620970012991488', 2),\n ('702483013750366208', 2),\n ('1478025287245967365', 2),\n ('2606233777', 2),\n ('1504855210648391684', 2),\n ('79946862', 2),\n ('246338368', 2),\n ('130803962', 2),\n ('729244555120381953', 2),\n ('19408130', 2),\n ('257134702', 1),\n ('1256684331386515457', 1),\n ('1209154096785174528', 1),\n ('826575192738656257', 1),\n ('1463295105108885506', 1),\n ('1483419150739517440', 1),\n ('390273160', 1),\n ('718066051280465920', 1),\n ('500660827', 1),\n ('1138136038197682179', 1),\n ('1327635086251094023', 1),\n ('1553176512', 1),\n ('1490387200877416453', 1),\n ('729080577689784320', 1),\n ('1633940370', 1),\n ('1490950307563675653', 1),\n ('1343903863561195521', 1),\n ('1530222155769716743', 1),\n ('2426023075', 1),\n ('1223777836948832256', 1),\n ('84105894', 1),\n ('1502854336233230342', 1),\n ('1361541763261956097', 1),\n ('479445216', 1),\n ('349025508', 1),\n ('1050218732256145408', 1),\n ('958650490832728064', 1),\n ('910222359105232896', 1),\n ('982464824', 1),\n ('394247123', 1),\n ('2532459102', 1),\n ('722075353284481024', 1),\n ('199907108', 1),\n ('859873423199268865', 1),\n ('1184024283342950401', 1),\n ('757204857686196224', 1),\n ('1238364616893313024', 1),\n ('366177595', 1),\n ('1197617141463310336', 1),\n ('1316612535030894592', 1),\n ('3377081037', 1),\n ('368757313', 1),\n ('982260986869497858', 1),\n ('856582761179734020', 1),\n ('1165294449439772672', 1),\n ('811966506720497664', 1),\n ('39974036', 1),\n ('1556346163', 1),\n ('1460922158176161795', 1),\n ('63532744', 1),\n ('1436366064166789126', 1),\n ('4833145041', 1),\n ('4728316941', 1),\n ('1958589613', 1),\n ('933136600699195392', 1),\n ('1594525015', 1),\n ('531285485', 1),\n ('2929467093', 1),\n ('960772112997855232', 1),\n ('1479547267191291905', 1),\n ('779269460540682240', 1),\n ('1373345065133875203', 1),\n ('3129342398', 1),\n ('485654078', 1),\n ('389425338', 1),\n ('48761686', 1),\n ('1261052583621414912', 1),\n ('4201961439', 1),\n ('1376079221601284098', 1),\n ('2174890161', 1),\n ('1012446217568247809', 1),\n ('622864544', 1),\n ('1192740503219036160', 1),\n ('214626889', 1),\n ('1523251449194557446', 1),\n ('1432581459353681924', 1),\n ('2247483085', 1),\n ('938811812', 1),\n ('802917797298864128', 1),\n ('2431773182', 1),\n ('137007239', 1),\n ('46848978', 1),\n ('636691269', 1),\n ('86573274', 1),\n ('1158642693544775681', 1),\n ('1640936239', 1),\n ('1142124132', 1),\n ('951051508321345536', 1),\n ('1321277933818925056', 1),\n ('802080549418442752', 1),\n ('1121581839238533120', 1),\n ('951610310288388098', 1),\n ('870255236', 1),\n ('391243629', 1),\n ('2304468066', 1),\n ('1486943794545233920', 1),\n ('621298674', 1),\n ('1248489558817136643', 1),\n ('24150568', 1),\n ('836880447716098048', 1),\n ('3038751633', 1),\n ('839783767749296128', 1),\n ('901348771639943168', 1),\n ('762262758578593792', 1),\n ('1473915766726705158', 1),\n ('155228599', 1),\n ('3001618695', 1),\n ('1215270783632756736', 1),\n ('1270058911022886912', 1),\n ('1096513606013853697', 1),\n ('1430500064288464902', 1),\n ('1448394527941746692', 1),\n ('1192983043734200320', 1),\n ('1301129989526560774', 1),\n ('3234932265', 1),\n ('111371654', 1),\n ('1276065476041465863', 1),\n ('1262950524', 1),\n ('4908589852', 1),\n ('327328208', 1),\n ('1129891254', 1),\n ('2471444810', 1),\n ('970345195', 1),\n ('1412718367', 1),\n ('1100840016971005952', 1),\n ('922794442553208832', 1),\n ('321276683', 1),\n ('2549556272', 1),\n ('281413387', 1),\n ('531325229', 1),\n ('756611547825377280', 1),\n ('1467160864562331650', 1),\n ('1028913091558473729', 1),\n ('3355261695', 1),\n ('2913061971', 1),\n ('1322738396838666241', 1),\n ('2753212666', 1),\n ('471227284', 1),\n ('969137942', 1),\n ('954283519580221440', 1),\n ('1069583615762288642', 1),\n ('1325534811826565126', 1),\n ('783003137183449092', 1),\n ('1710013134', 1),\n ('1485328041597415427', 1),\n ('2595812168', 1),\n ('1345490644261871617', 1),\n ('751405005928816640', 1),\n ('1470059613475291136', 1),\n ('26490935', 1),\n ('246252394', 1),\n ('3035418809', 1),\n ('1230948006838534144', 1),\n ('980582123236028416', 1),\n ('3379102468', 1),\n ('21081620', 1),\n ('1081082286324490241', 1),\n ('1648697124', 1),\n ('1230297852146044930', 1),\n ('1132721884221640711', 1),\n ('1388816280103399425', 1),\n ('971484858693414912', 1),\n ('950967018', 1),\n ('356531187', 1),\n ('113714293', 1),\n ('1028989911620349959', 1),\n ('1204436494355701761', 1),\n ('1474069602816692225', 1),\n ('239812843', 1),\n ('1181927239', 1),\n ('1139456629030686725', 1),\n ('408084708', 1),\n ('1221761662740463616', 1),\n ('3235981942', 1),\n ('1420280788436897793', 1),\n ('743419383591075840', 1),\n ('1367862514579542017', 1),\n ('1203392353400164352', 1),\n ('1356727729056583687', 1),\n ('2463866160', 1),\n ('1125961824938147840', 1),\n ('1447191304493019142', 1),\n ('80504067', 1),\n ('740497929786511361', 1),\n ('419809528', 1),\n ('899815465236680704', 1),\n ('817096872766672897', 1),\n ('2198723234', 1),\n ('1264362612453752833', 1),\n ('823446593240231936', 1),\n ('1125347498619490304', 1),\n ('3982316902', 1),\n ('2570810788', 1),\n ('2596997352', 1),\n ('4478739861', 1),\n ('18771392', 1),\n ('4089726855', 1),\n ('1388137427416588290', 1),\n ('20301087', 1),\n ('356870738', 1),\n ('1292704071066030081', 1),\n ('929082855677988864', 1),\n ('1286575566502727681', 1),\n ('117036888', 1),\n ('1070964688555532288', 1),\n ('94062657', 1),\n ('2222794196', 1),\n ('1320451635307520006', 1),\n ('1528404877470314499', 1),\n ('16604304', 1),\n ('98619183', 1),\n ('17591423', 1),\n ('1061234329974702080', 1),\n ('2969405391', 1),\n ('1087841803037016066', 1),\n ('4879357961', 1),\n ('1431975141769158656', 1),\n ('895641010365054977', 1),\n ('1321397014240874496', 1),\n ('469343983', 1),\n ('934842982490091520', 1),\n ('43175535', 1),\n ('721329473501675521', 1),\n ('3311104870', 1),\n ('80082849', 1),\n ('903468613088165890', 1),\n ('1013881714182115328', 1),\n ('1044572820674678784', 1),\n ('1292425772045565958', 1),\n ('1096058449', 1),\n ('868468804912918528', 1),\n ('399900593', 1),\n ('47743935', 1),\n ('1500929706912272391', 1),\n ('195828788', 1),\n ('1588428578', 1),\n ('1459801542782066691', 1),\n ('1260424257252864008', 1),\n ('1516497204076331017', 1),\n ('1147628650277158912', 1),\n ('53377714', 1),\n ('1425181828219027457', 1),\n ('1036679721810059269', 1),\n ('1406474814701854720', 1),\n ('1362860562359734277', 1),\n ('4842696891', 1),\n ('1444696210204504065', 1),\n ('873093753992486914', 1),\n ('2960032672', 1),\n ('1518876423859101696', 1),\n ('80859474', 1)]"
     },
     "execution_count": 10,
     "metadata": {},
     "output_type": "execute_result"
    }
   ],
   "source": [
    "author_dict"
   ],
   "metadata": {
    "collapsed": false,
    "pycharm": {
     "name": "#%%\n"
    }
   }
  },
  {
   "cell_type": "code",
   "execution_count": 11,
   "outputs": [
    {
     "data": {
      "text/plain": "[('pforzheim', 87),\n ('news', 34),\n ('blaulicht', 33),\n ('badenwürttemberg', 12),\n ('pforzheimgram', 11),\n ('schwarzwald', 7),\n ('karlsruhe', 6),\n ('a8', 6),\n ('hypromag', 6),\n ('rareearths', 6),\n ('u5', 5),\n ('training', 4),\n ('schule', 4),\n ('kampfkunst', 4),\n ('job', 4),\n ('fahrradmordor', 4),\n ('fifa22', 4),\n ('karrieremodus', 4),\n ('freiheit', 4),\n ('erdbeben', 4),\n ('stanztechnik', 3),\n ('stuttgart', 3),\n ('mustread', 3),\n ('cemdogan', 2),\n ('diamonds', 2),\n ('jewelry', 2),\n ('paulinakurka', 2),\n ('phillipdeml', 2),\n ('startups', 2),\n ('sports', 2),\n ('school', 2),\n ('stellenangebot', 2),\n ('feuerwehr', 2),\n ('magdeburg', 2),\n ('nowplaying', 2),\n ('uffbasse', 2),\n ('zeugengesucht', 2),\n ('wiesenbach', 2),\n ('kleinergmbh', 2),\n ('kleiner', 2),\n ('enzkreis', 2),\n ('trending', 2),\n ('duitsland', 2),\n ('nagold', 2),\n ('dbregio_bw', 2),\n ('selfdefense', 2),\n ('schwert', 2),\n ('bartitsu', 2),\n ('selbstverteidigung', 2),\n ('workshops', 2),\n ('sport', 2),\n ('stz', 2),\n ('pznews', 2),\n ('9euroticket', 2),\n ('fantasy', 2),\n ('fiction', 2),\n ('amazon', 2),\n ('kindle', 2),\n ('historicalfantasy', 2),\n ('look4books', 2),\n ('books', 2),\n ('paperbacks', 2),\n ('paperback', 2),\n ('ebook', 2),\n ('mystery', 2),\n ('suspense', 2),\n ('badwildbad', 2),\n ('nachrichten', 2),\n ('fußballpur', 2),\n ('mordstreifen', 2),\n ('polizeipforzheim', 1),\n ('exhbitionistpforzheim', 1),\n ('entertainment', 1),\n ('cnc', 1),\n ('einrichter', 1),\n ('ä', 1),\n ('resilienz', 1),\n ('unternehmen', 1),\n ('ressourcen', 1),\n ('ihk', 1),\n ('weingarte', 1),\n ('weingarten', 1),\n ('usa', 1),\n ('tuerkei', 1),\n ('tuerkiye', 1),\n ('simra', 1),\n ('stadtwerke', 1),\n ('jobbörse', 1),\n ('mitarbeitergesucht', 1),\n ('stellenanzeige', 1),\n ('stelle', 1),\n ('bewerben', 1),\n ('k', 1),\n ('novaccinepassports', 1),\n ('nogree', 1),\n ('twitterflohmarkt', 1),\n ('polizei', 1),\n ('hspf', 1),\n ('hspforzheim', 1),\n ('perspektivenwechsel', 1),\n ('pforzheimuniversity', 1),\n ('art', 1),\n ('gladbeck', 1),\n ('international', 1),\n ('sprache', 1),\n ('kultura', 1),\n ('swka', 1),\n ('studierendenwerkkarlsruhe', 1),\n ('studieren', 1),\n ('study', 1),\n ('heimsheim', 1),\n ('maskeauf', 1),\n ('google', 1),\n ('future', 1),\n ('leadingthefuture', 1),\n ('feeltheinnovation', 1),\n ('mehrfamilienhaus', 1),\n ('zuverkaufen', 1),\n ('deutschland', 1),\n ('createclub', 1),\n ('circulareconomy', 1),\n ('businessmodel', 1),\n ('demenz', 1),\n ('montagsspaziergang', 1),\n ('aufwachprogramm', 1),\n ('westweg', 1),\n ('visitblackforest', 1),\n ('wandern', 1),\n ('trekking', 1),\n ('backpacking', 1),\n ('hiking', 1),\n ('christopherstreetday', 1),\n ('csd', 1),\n ('nachhaltigkeit', 1),\n ('heliosregionsüd', 1),\n ('gaskessel', 1),\n ('rosensteinbrücke', 1),\n ('klage', 1),\n ('parkhaus', 1),\n ('𝐀𝐒𝐁𝐋𝐀𝐍𝐃𝐄𝐒𝐊𝐎𝐍𝐅𝐄𝐑𝐄𝐍𝐙𝟐𝟎𝟐𝟐', 1),\n ('𝐒𝐚𝐦𝐚𝐭𝐢𝐭𝐞𝐫𝐊𝐫𝐞𝐮𝐳𝐈𝐧𝐆𝐨𝐥𝐝', 1),\n ('asbbw', 1),\n ('minijob', 1),\n ('aushilfe', 1),\n ('nebenjob', 1),\n ('verkehr', 1),\n ('aufreger', 1),\n ('neuenbürg', 1),\n ('münchen', 1),\n ('pendlerbrezel', 1),\n ('ordnungsamts', 1),\n ('tornado', 1),\n ('ludwigshafen', 1),\n ('mannheim', 1),\n ('speyer', 1),\n ('wörth', 1),\n ('germersheim', 1),\n ('landau', 1),\n ('ettlingen', 1),\n ('bruchsal', 1),\n ('newjob', 1),\n ('supportlocal', 1),\n ('picoftheday', 1),\n ('bestjob', 1),\n ('indiebooks', 1),\n ('book', 1),\n ('urbanfantasy', 1),\n ('spiegel', 1),\n ('herz', 1),\n ('kindleunlimited', 1),\n ('historicalfiction', 1),\n ('cover', 1),\n ('schlossberghöfe', 1),\n ('sonntag', 1),\n ('prallesleben', 1),\n ('queen', 1),\n ('neuinfektionen', 1),\n ('inzidenz', 1),\n ('covid19', 1),\n ('ukrainische', 1),\n ('frankreichs', 1),\n ('afrika', 1),\n ('regensburg', 1),\n ('würzburg', 1),\n ('ingolstadt', 1),\n ('heilbronn', 1),\n ('ulm', 1),\n ('wolfsburg', 1),\n ('göttingen', 1),\n ('offenbach', 1),\n ('recklinghausen', 1),\n ('stade', 1),\n ('hennef', 1),\n ('buende', 1),\n ('meiderich', 1),\n ('wismar', 1),\n ('zurich', 1),\n ('wien', 1),\n ('graz', 1),\n ('linz', 1),\n ('österreich', 1),\n ('jobs', 1),\n ('sicherheitsmitarbeiter', 1),\n ('bechtold', 1),\n ('gruppe', 1),\n ('sicherheitsdienst', 1),\n ('security', 1),\n ('werkschutz', 1),\n ('trickbetrüger', 1),\n ('pforzheimbaustelle', 1),\n ('lokalpolitik', 1),\n ('interview', 1),\n ('caminofilmverleih', 1),\n ('buschmediagroup', 1),\n ('facingdownunder', 1),\n ('australien', 1),\n ('doku', 1),\n ('dokumentation', 1),\n ('backpacker', 1),\n ('workandtravel', 1),\n ('kino', 1),\n ('kinotour', 1),\n ('pizza', 1),\n ('stundentakt', 1),\n ('sonderfahrplan', 1),\n ('bob', 1),\n ('seehasenfest', 1),\n ('friedrichshafen', 1),\n ('wochenblattnews', 1),\n ('edbeben', 1),\n ('fehler', 1),\n ('brücke', 1),\n ('verzögerungen', 1),\n ('meinka', 1),\n ('aktuell', 1),\n ('bawü', 1),\n ('leipzig', 1),\n ('mozart', 1),\n ('meetup', 1),\n ('prüfmaschine', 1),\n ('prüfen', 1),\n ('stanzen', 1),\n ('revanche', 1),\n ('rollrasen', 1),\n ('wissterbescheid', 1),\n ('karriermeodus', 1)]"
     },
     "execution_count": 11,
     "metadata": {},
     "output_type": "execute_result"
    }
   ],
   "source": [
    "hashtag_dict"
   ],
   "metadata": {
    "collapsed": false,
    "pycharm": {
     "name": "#%%\n"
    }
   }
  },
  {
   "cell_type": "markdown",
   "source": [
    "# Topic analysis - get the 5 most prominent topics"
   ],
   "metadata": {
    "collapsed": false,
    "pycharm": {
     "name": "#%% md\n"
    }
   }
  },
  {
   "cell_type": "markdown",
   "source": [
    "### Tokenize, stopword filtering and lemmatize"
   ],
   "metadata": {
    "collapsed": false,
    "pycharm": {
     "name": "#%% md\n"
    }
   }
  },
  {
   "cell_type": "code",
   "execution_count": 12,
   "outputs": [
    {
     "name": "stderr",
     "output_type": "stream",
     "text": [
      "c:\\users\\lukas\\appdata\\local\\programs\\python\\python38\\lib\\site-packages\\sklearn\\feature_extraction\\text.py:404: UserWarning:\n",
      "\n",
      "Your stop_words may be inconsistent with your preprocessing. Tokenizing the stop words generated tokens ['dat', 'inf', 'zb'] not in stop_words.\n",
      "\n"
     ]
    },
    {
     "name": "stdout",
     "output_type": "stream",
     "text": [
      "frozenset({'die', 'oberen', 'überaus', 'insgesamter', 'ausgenommener', 'dieses', 'deine', 'duerftet', 'vollständigen', 'etliche', 'auf', 'immer', 'durftest', 'befragter', 'euren', 'erscheinen', 'gleichem', 'am', 'deinem', 'gleiches', 'bevor', 'voelligen', 'womoeglich', 'neulich', 'such', 'off', 'persoenlich', 'allg.', 'waehrend', 'aeusserst', 'folgend', 'bislang', 'gängige', 'aehnlich', 'berichtet', 'manches', 'reagierte', 'weiterhin', 'werdet', 'ganzes', 'jeglicher', 'dazwischen', 'gruendlich', 'koennt', 'mochte', 'fortsetzt', 'startet', 'letztens', 'diesseitiger', 'unsaegliche', 'vorbei', 'hätten', 'ungleiches', 'mancher', 'woraus', 'pforzheimer', 'anderweitiges', 'mitten', 'moeglichste', 'besseren', 'eigenst', 'möglichsten', 'eine', 'entsprechende', 'genug', 'bestimmte', 'deines', 'öfter', 'vollstaendig', 'aeussersten', 'sagten', 'häufigeren', 'je', 'geteilte', 'ehestes', 'erstere', 'ihretwegen', 'geworden', 'woran', 'wievieler', 'ans', 'besser', 'zur', 'ich', 'dank', 'voellig', 'duerftest', 'dran', 'dürftest', 'rund', 'gaenzliches', 'ihm', 'sich', 'veröffentlicht', 'sofern', 'dafuer', 'einige', 'entlang', 'darfst', 'selben', 'wären', 'nutzt', 'könntet', 'forderten', 'ums', 'trug', 'meinetwegen', 'untere', 'kleinen', 'genommen', 'nutzen', 'nur', 'jaehrig', 'fortsetzten', 'jegliches', 'tat', 'häufigeres', 'nacher', 'bekanntlichem', 'unserm', 'wem', 'einmaliges', 'ausgenommenes', 'vollständiges', 'nächste', 'wessen', 'äusserster', 'möglich', 'erster', 'ihrem', 'wodurch', 'naturgemaess', 'derartigem', 'fortsetzen', 'mehrmaliger', 'weiterer', 'heutiger', 'demgemäss', 'wogegen', 'ploetzliches', 'bestimmtes', 'bin', 'gottseidank', 'anders', 'befiehlt', 'kaeumlich', 'sämtliche', 'einig', 'gab', 'anderweitig', 'sodaß', 'im', 'schätzen', 'daneben', 'duerfte', 'augenscheinlichstem', 'kürzlichst', 'bisher', 'sollst', 'gaenzliche', 'tatsaechlich', 'damaliges', 'erhält', 'letzterem', 'dannen', 'gegenüber', 'empfunden', 'forderte', 'herein', 'geteilt', 'zahlreich', 'heutiges', 'darueber', 'margin', 'komme', 'unstreitig', 'etliches', 'versorgte', 'irgendeinem', 'umständehalber', 'spielen', 'neuen', 'ebenso', 'ausserdem', 'zuerst', 'nahm', 'höchst', 'offenkundiges', 'wurden', 'ploetzlichem', 'wolltet', 'allemal', 'hattest', 'insgesamt', 'gefallen', 'gleichzeitigem', 'immerwaehrenden', 'gedurft', 'andauerndes', 'einmal', 'gern', 'ausdrücklichem', 'musst', 'stellenweisen', 'http', 'niemals', 'einbaün', 'unsägliche', 'besserer', 'entsprechendes', 'davor', 'gemaess', 'massgeblicher', 'aufhören', 'tragen', 'allgemeinsten', 'zurueck', 'dafür', 'müßt', 'irgendjemandem', 'massgeblichen', 'zog', 'sonstigem', 'ziemlich', 'gebracht', 'seiten', 'jaehrige', 'währenddessen', 'infolge', 'nirgendwo', 'beträchtliches', 'morgige', 'hindurch', 'ausdrückte', 'eröffnete', 'ungewoehnliches', 'kannst', 'zweifelsfreies', 'per', 'been', 'völliger', 'etc.', 'denkbarem', 'würden', 'veröffentlichtes', 'voelliger', 'wenig', 'online', 'meinem', 'haben', 'wolle', 'dürfte', 'persönlich', 'unmögliche', 'geehrten', 'persönliche', 'beiderlei', 'dieselben', 'deswegen', 'einigermaßen', 'lassen', 'acht', 'euretwegen', 'sonstiger', 'ausdrücken', 'gleichzeitigen', 'dinge', 'ausgerechneten', 'beide', 'sofort', 'massgebender', 'partout', 'letze', 'andauernder', 'ect', 'hintern', 'kleiner', 'sogleich', 'selbstredendem', 'erhielten', 'wuerdest', 'ungewöhnlichen', 'dies', 'angesetze', 'ober', 'aehnlichen', 'vermutliche', 'offenkundigem', 'erstes', 'damaligem', 'beträchtlichen', 'wirst', 'unsagbares', 'sind', 'völlig', 'seinen', 'ausgerechnetem', 'anderem', 'offensichtlichem', 'heute', 'meta', 'möglichster', 'oberhalb', 'an', 'tät', 'selbstredenden', 'richtiggehende', 'gehalten', 'ungewöhnlicher', 'selbstredendes', 'immerwährender', 'weiteres', 'betreffend', 'sollt', 'aeusserster', 'gefälligst', 'findet', 'nicht', 'gewissem', 'massgeblich', 'circa', 'andauerndem', 'voelliges', 'folgender', 'häufig', 'unsagbarer', 'veröffentlichte', 'jedesmal', 'ungefähr', 'schwerliche', 'durftet', 'seiner', 'unsagbar', 'schreibens', 'mir', 'kam', 'bzw', 'drum', 'bestenfalls', 'hintendran', 'gehen', 'unsaegliches', 'bisherigem', 'eigener', 'lag', 'ganz', 'anstelle', 'möglichstem', 'eigentliche', 'kommen', 'ergänzte', 'erst', 'einzig', 'mehrfach', 'vollständigem', 'etwas', 'dürfen', 'gaenzlichem', 'veröffentlichten', 'augenscheinlichster', 'solch', 'duerften', 'leer', 'immerwaehrende', 'dir', 'mal', 'derjenige', 'gängigen', 'das', 'einseitig', 'tut', 'setzen', 'ja', 'außen', 'immerwährendes', 'seiet', 'dorthin', 'hingegen', 'gleichsten', 'wuerdet', 'jenen', 'ansonsten', 'siehe', 'baelde', 'ausdrückt', 'diesen', 'gänzlich', 'solche', 'bis', 'unerhoerten', 'selbstredender', 'sage', 'gratulieren', 'vollständiger', 'vielerlei', 'unmöglicher', 'andauernden', 'ungemein', 'plötzlich', 'anerkannte', 'schlichtweg', 'der', 'eigentlichem', 'womoeglichen', 'mindestens', 'unzweifelhafter', 'starteten', 'abgesehen', 'unmoeglich', 'hinter', 'frau', 'stellenweise', 'muss', 'stieg', 'ausgerechnete', 'hinein', 'sehrwohl', 'wolltest', 'behielt', 'sei', 'weitestgehend', 'irgendwohin', 'sangen', 'verriet', 'dadurch', 'jenseitig', 'betreffenden', 'äusserstem', 'um', 'paar', 'unterem', 'jaehriger', 'selbstredend', 'fuers', 'etwa', 'letztere', 'unmöglichen', 'allzeit', 'womöglicher', 'augenscheinlichst', 'er', 'sonstig', 'erstem', 'eigene', 'teilen', 'derartiger', 'insgeheim', 'bisherige', 'üblicherweise', 'ungewoehnlichen', 'niemandes', 'irgend', 'vorherigem', 'da', 'allerlei', 'co', 'denkbare', 'wurde', 'soweit', 'demgegenüber', 'sowohl', 'finde', 'massgebliche', 'befragte', 'oefters', 'womögliche', 'offensichtliches', 'gbr', 'irgendwie', 'häufigem', 'bekanntliche', 'kürzlich', 'alle', 'aehnlichster', 'desto', 'beinahe', 'neuerliches', 'pf', 'teile', 'mehrere', 'denn', 'ergänzen', 'denkbaren', 'senken', 'zunächst', 'augenscheinliches', 'links', 'Inf.', 'restloses', 'hinten', 'hätt', 'steigen', 'sattsam', 'fordert', 'möglichst', 'ehesten', 'fand', 'gleichzeitiges', 'nichtsdestoweniger', 'habt', 'junges', 'gewisser', 'ungewöhnliches', 'dem', 'immerwährenden', 'entgegen', 'waren', 'ende', 'verraten', 'nein', 'du', 'unterste', 'betraechtliches', 'sect', 'dunklen', 'eures', 'weitgehend', 'zugleich', 'unsagbaren', 'anerkannt', 'eröffnet', 'eines', 'eigentlich', 'important', 'jenseitiger', 'mache', 'reichlicher', 'heutige', 'allem', 'betraechtlicher', 'meisten', 'andauernde', 'betreffende', 'usw.', 'beispielsweise', 'denkbarer', 'keineswegs', 'einen', 'willst', 'bezüglich', 'ihre', 'beisammen', 'unmöglich', 'befragen', 'worin', 'gleichzeitig', 'seither', 'neues', 'bezgl', 'ähnlichster', 'vorherige', 'längst', 'begann', 'neuerlicher', 'vermögen', 'berichtete', 'oft', 'titel', 'folgende', 'mittig', 'niemanden', 'allgemeinster', 'solchen', 'ein', 'anfangen', 'ausdrücklichen', 'persönliches', 'umso', 'unsren', 'allgemeiner', 'wenn', 'oder', 'schließlich', 'bearbeitete', 'sowieso', 'entweder', 'wieviel', 'hatte', 'ersten', 'jährig', 'bietet', 'inzwischen', 'mittels', 'überdies', 'ehester', 'ploetzlicher', 'welchen', 'konnte', 'nützt', 'genau', 'langsam', 'moeglichsten', 'nutzung', 'zB', 'ausdrücklich', 'wohlweislich', 'gleichsam', 'wachen', 'jährigem', 'tatsächlichen', 'jene', 'ergänze', 'rief', 'andern', 'bloss', 'gegeben', 'tausend', 'übrigens', 'koenntest', 'fall', 'ungleichen', 'derartige', 'durfte', 'diejenigen', 'schreibe', 'sonstwo', 'anderm', 'unses', 'konntest', 'aeusserstes', 'bisschen', 'ungewoehnlichem', 'zogen', 'getan', 'anderr', 'hen', 'bestimmten', 'vergangener', 'würdet', 'irgendeiner', 'dahingehende', 'aus', 'einiges', 'möchten', 'solchem', 'dazu', 'zeitweiser', 'versorgten', 'obschon', 'sagt', 'immerwährende', 'ihrigen', 'sondern', 'version', 'zusammen', 'unserem', 'einmalig', 'sowie', 'angesetzter', 'anstatt', 'bleibt', 'unbedingter', 'denkbar', 'konkret', 'unten', 'selbe', 'lesen', 'etlichem', 'versorgen', 'jeglichem', 'haeufigeres', 'künftig', 'wuerden', 'derzeitiges', 'unmassgeblichen', 'ausdrückliche', 'ausdrücklicher', 'insofern', 'schlicht', 'ausnahmslosen', 'durchaus', 'ersterem', 'weitgehendes', 'beidem', 'wirkliches', 'worden', 'hoch', 'aehnlichsten', 'gepriesenes', 'andere', 'mancherlei', 'setzte', 'massgebenden', 'heraus', 'zunaechst', 'herum', 'bekanntlicher', 'behalten', 'dahingehendem', 'unsagbare', 'weitgehende', 'tages', 'gute', 'bekanntliches', 'zehn', 'rt', 'bearbeiteten', 'junge', 'ähnlichste', 'ausnahmslos', 'tatsächlich', 'wiewohl', 'gängiges', 'fürs', 'vieles', 'hast', 'weit', 'unerhoerter', 'wäre', 'weswegen', 'gleichstes', 'gängig', 'andauernd', 'häufige', 'daß', 'einseitige', 'entsprechendem', 'bestimmtem', 'mehr', 'werden', 'trage', 'hatten', 'jeder', 'vollends', 'stellenweisem', 'machen', 'hiesigen', 'braucht', 'daran', 'danke', 'alleine', 'sollten', 'jenem', 'manchen', 'seit', 'sonst', 'wieviele', 'anderweitigen', 'ziemlicher', 'richtiggehendes', 'zumal', 'wohlgemerkt', 'obgleich', 'ungewöhnlich', 'lediglich', 'steige', 'aehnlichstes', 'beträchtlich', 'derem', 'jemandes', 'gleichste', 'einfach', 'reichlichem', 'haette', 'zweifelsfreie', 'dahingehendes', 'immerwährend', 'sein', 'haeufig', 'äussersten', 'veröffentlichen', 'entsprechender', 'wurdest', 'ausgenommen', 'konkrete', 'gründlich', 'vermutlicher', 'ganze', 'gratuliert', 'überll', 'unerhörtem', 'immerwaehrendem', 'woher', 'zurück', 'wann', 'verrieten', 'allenfalls', 'boeden', 'doppelt', 'etlicher', 'offenkundigen', 'machte', 'einer', 'mittelst', 'ploetzlich', 'später', 'ferner', 'eröffne', 'abgerufene', 'geben', 'gleichzeitige', 'neue', 'zweifelsfreiem', 'letzten', 'würdest', 'anscheinend', 'derzeit', 'wirklicher', 'gemacht', 'bisheriges', 'blieb', 'ähnliches', 'direkten', 'angesetzten', 'völligen', 'offensichtlich', 'gluecklicherweise', 'ähnlichem', 'leider', 'jungen', 'findest', 'reichliche', 'habe', 'infolgedessen', 'offensichtliche', 'ziemliches', 'jemanden', 'unstreitiges', 'kaum', 'unsen', 'zeitweisem', 'viele', 'viel', 'gepriesener', 'singen', 'ca.', 'damit', 'womit', 'etlichen', 'unmassgebliche', 'augenscheinlichen', 'drüber', 'betreffendem', 'fünf', 'richtiggehender', 'vielmals', 'einmalige', 'ohne', 'völliges', 'jedem', 'aehnlichste', 'unzweifelhaft', 'erste', 'augenscheinlichem', 'derer', 'unterbrach', 'nötigenfalls', 'hinlanglich', 'nimmer', 'sagtest', 'weitestgehende', 'deiner', 'ohnedies', 'eigenem', 'besseres', 'irgendwelche', 'moeglichstem', 'überhaupt', 'pfui', 'derartig', 'man', 'eher', 'wieso', 'einmaligen', 'desungeachtet', 'einführte', 'könnten', 'ergänzten', 'guten', 'gänzlichen', 'morgen', 'ungewöhnlichem', 'euer', 'besonders', 'aehnliches', 'pforzheim', 'grösstenteils', 'mehrmaligem', 'jährige', 'musste', 'angefangen', 'jemals', 'augenscheinlichsten', 'miteinander', 'mussten', 'aehnliche', 'zuvieler', 'senke', 'for', 'alles', 'diese', 'eingesetzt', 'bspw', 'keinen', 'befohlene', 'hat', 'sagen', 'unsaeglicher', 'vorher', 'oberste', 'gemeinhin', 'andererseits', 'waere', 'diesseitige', 'irgendwo', 'bsp', 'gestrige', 'konkretes', 'koennen', 'pro', 'bezgl.', 'könnt', 'weitestgehendem', 'anderweitiger', 'letztendlich', 'unsaeglichen', 'wir', 'öfters', 'unterbrechen', 'unstreitiger', 'vier', 'weitestgehendes', 'zirka', 'derartigen', 'bsp.', 'massgebendes', 'reagiere', 'siebte', 'unerhörte', 'völligem', 'irgendwas', 'gemäss', 'einerseits', 'unsäglichen', 'restlos', 'jemandem', 'demnach', 'mögliche', 'anderer', 'keine', 'alsbald', 'unser', 'zwölf', 'womoegliches', 'hier', 'welches', 'meistenteils', 'information', 'frei', 'zu', 'würde', 'ihren', 'neuerliche', 'bearbeiten', 'vorheriger', 'ähnliche', 'ploetzliche', 'teilten', 'in', 'aufgrund', 'persoenliches', 'seines', 'kann', 'einerlei', 'oftmals', 'weiteren', 'ausgerechneter', 'uebermorgen', 'kuenftig', 'ins', 'innerlich', 'naemlich', 'ect.', 'zwei', 'trotzdem', 'übel', 'ansonst', 'freies', 'bekennen', 'unterhalb', 'wohin', 'manche', 'wer', 'fuer', 'plötzlichem', 'längstens', 'voelligst', 'and', 'konnten', 'für', 'zuviel', 'solc', 'reagiert', 'gratulierte', 'machst', 'bestimmt', 'wird', 'recht', 'moeglich', 'und', 'wollen', 'dennoch', 'laengst', 'unmoeglichen', 'zieht', 'zweifelsfreier', 'gänzliche', 'häufigen', 'daraus', 'derzeitige', 'ebenfalls', 'derzeitigem', 'wieder', 'mein', 'diesseitigem', 'restloser', 'unsres', 'aber', 'sog', 'massgeblichem', 'jaehrigem', 'selber', 'unmassgeblich', 'unstreitige', 'obs', 'trägt', 'ehestem', 'gewisse', 'gib', 'freie', 'bedürfen', 'nimmt', 'koenntet', 'irgendeine', 'unzweifelhafte', 'offenkundige', 'schwerlichem', 'eröffnen', 'etwaige', 'könn', 'bleiben', 'setzt', 'schlechter', 'derselbe', 'eigentliches', 'konntet', 'schreiber', 'schnell', 'wiederum', 'schätzten', 'unmassgeblichem', 'dieselbe', 'richtiggehend', 'unmoegliches', 'gleicher', 'gewollt', 'damalige', 'eurem', 'ungleiche', 'abgerufen', 'aehnlicher', 'vergangene', 'besteht', 'mich', 'dahingehend', 'persönlicher', 'derzeitig', 'rechts', 'leicht', 'neuem', 'ungewoehnlicher', 'deren', 'uebrigens', 'beides', 'allenthalben', 'bekanntlich', 'bräuchte', 'unsaeglichem', 'versorgt', 'autor', 'unwichtig', 'ungewöhnliche', 'desselben', 'bälde', 'insgesamte', 'keinerlei', 'unseres', 'jaehrigen', 'neuerlichem', 'einführen', 'damals', 'total', 'nichts', 'derart', 'mitnichten', 'halb', 'direkt', 'mitgleich', 'gar', 'fast', 'gleichen', 'somit', 'ähnlichsten', 'äusserste', 'überallhin', 'neben', 'entsprechenden', 'vorüber', 'eigentlicher', 'aehnlichem', 'arbeiten', 'ziemlichem', 'dessenungeachtet', 'beginnen', 'zufolge', 'vermag', 'dass', 'gleichwohl', 'sobald', 'manchem', 'ansetzen', 'bez.', 'hiesige', 'anderweitigem', 'neuerlich', 'ungleich', 'ihr', 'neu', 'offenkundig', 'zb.', 'unerhört', 'seiest', 'unsäglichem', 'weiterem', 'sehen', 'folgenden', 'weil', 'unterster', 'möglicherweise', 'tatsächlicher', 'womöglichen', 'seltsamerweise', 'seite', 'ergo', 'möchtest', 'ungleicher', 'ungewoehnliche', 'natürlich', 'sicher', 'bez', 'j3adilwkef', 'reichlichen', 'jedoch', 'diesseitigen', 'haeufigem', 'klare', 'jungem', 'anderst', 'darum', 'besserem', 'womoeglicher', 'neun', 'allgemeines', 'irgendwenn', 'einseitiger', 'welche', 'ausser', 'folglich', 'igitt', 'richtiggehenden', 'machten', 'häufiger', 'ungewoehnlich', 'stattdessen', 'ihn', 'ausgerechnet', 'ganzen', 'vielen', 'beträchtliche', 'brachte', 'massgebend', 'stiegen', 'ähnlichst', 'geb', 'hab', 'unmoeglicher', 'schwerlichen', 'allgemeine', 'versorgtes', 'massgebende', 'letzteres', 'setzten', 'bringen', 'meinen', 'geblieben', 'unsere', 'manch', 'ziemliche', 'eröffnetes', 'neuer', 'suchen', 'benutzt', 'des', 'ganzem', 'jeden', 'zusehends', 'beträchtlichem', 'runter', 'wollten', 'bald', 'lagen', 'was', 'letzte', 'wenngleich', 'ander', 'mehrmaliges', 'dein', 'gesehen', 'möglichste', 'drauf', 'falls', 'allgemeinen', 'niemand', 'wurdet', 'vorueber', 'ncht', 'finden', 'kein', 'wobei', 'sollte', 'dahingehenden', 'mag', 'getrennt', 'sehr', 'jederlei', 'haeufige', 'zumindest', 'soll', 'mitwohl', 'augenscheinlichste', 'konkreter', 'aller', 'erhielt', 'massgebendem', 'denen', 'unerhörtes', 'zeitweise', 'haeufigen', 'unerhoert', 'könntest', 'heutigem', '8cn3awvt9v', 'glücklicherweise', 'z.B.', 'singt', 'diesseitiges', 'haeufigerer', 'darüberhinaus', 'weitgehenden', 'moeglichster', 'angesetzt', 'ausgenommenem', 'sooft', 'gleich', 'doch', 'gmbh', 'tust', 'dieser', 'laut', 'legte', 'obersten', 'äusserst', 'legten', 'vorherig', 'häufigere', 'heutigen', 'derselben', 'vielleicht', 'auch', 'aeusserstem', 'gaenzlichen', 'irgendjemand', 'eurer', 'erhalten', 'haeufigeren', 'unbedingt', 'bist', 'beim', 'gilt', 'weiß', 'sieben', 'ähnlichstes', 'zum', 'meistens', 'dann', 'gefiel', 'hallo', 'insgeheime', 'ausnahmslose', 'nachhinein', 'manchmal', 'vermutliches', 'versorge', 'weg', 'ueberall', 'allzu', 'gänzliches', 'wär', 'statt', 'vollständige', 'von', 'haeufigere', 'unsrem', 'jemand', 'schätzt', 'dahin', 'mithin', 'zwanzig', 'fordern', 'moechte', 'etc', 'magst', 'unseren', 'toll', 'innen', 'meiste', 'bisherigen', 'unter', 'author', 'bestimmter', 'wohingegen', 'bereits', 'hätte', 'zuviele', 'unmassgeblicher', 'ihres', 'einseitigen', 'nebenan', 'müssen', 'nämlich', 'senkte', 'gekommen', 'immerwährendem', 'wirklichem', 'waehrenddessen', 'war', 'seid', 'wart', 'ähnlich', 'brachten', 'soeben', 'allgemeinste', 'her', 'unsem', 'halten', 'sicherlich', 'weiter', 'offensichtlichen', 'können', 'möglicher', 'unsagbarem', 'irgendwen', 'unstreitigem', 'beträchtlicher', 'ersteres', 'welcher', 'darüber', 'innerhalb', 'bisheriger', 'sechs', 'oben', 'jede', 'abgerufenes', 'ueberhaupt', 'eigenes', 'soviel', 'diejenige', 'bekannte', 'hinlänglich', 'drunter', 'gerade', 'während', 'gewisses', 'zahlreicher', 'demgemaess', 'befohlens', 'darunter', 'vollstaendigem', 'zuweilen', 'betraechtlichem', 'ersteren', 'ueberaus', 'tatsächliches', 'müssten', 'kleines', 'direkte', 'schwerlich', 'warum', 'verrate', 'unsägliches', 'denkbares', 'ggf.', 'umstaendehalber', 'unzweifelhaftes', 'nacht', 'niemandem', 'diesseitig', 'sie', 'klaren', 'dreißig', 'zeitweisen', 'jedes', 'info', 'mögen', 'wie', 'selbstredende', 'klar', 'indessen', 'danken', 'geehrte', 'weitgehender', 'hiesigem', 'muesst', 'als', 'gleichstem', 'augenscheinlicher', 'davon', 'durchwegs', 'gut', 'will', 'naechste', 'gängiger', 'letztes', 'tief', 'keines', 'unsrer', 'solcher', 'begonnen', 'ausnahmsloser', 'deinen', 'rundheraus', 'damaliger', 'vollstaendiger', 'durften', 'senkten', 'einmaliger', 'noch', 'unnötig', 'noetigenfalls', 'andernfalls', 'betraechtlich', 'aeusserste', 'aufgehört', 'unzweifelhaftem', 'tatsaechlicher', 'augenscheinliche', 'betreffender', 'klein', 'jährigen', 'vollständig', 'übermorgen', 'drueber', 'dahingehender', 'dürften', 'neuerdings', 'gewesen', 'fragte', 'zweifelsfrei', 'gewiss', 'wohl', 'fort', 'unterstes', 'möglichen', 'gegenueber', 'restlosen', 'jähriges', 'oefter', 'dasselbe', 'zweifelsfreien', 'übrig', 'womoeglichem', 'schreiben', 'meine', 'allgemeinstem', 'wichtig', 'nirgends', 'vielmalig', 'damaligen', 'meiner', 'schätzte', 'sieht', 'augenscheinlich', 'hattet', 'dritte', 'immerhin', 'weshalb', 'irgendein', 'bekanntlichen', 'hinterher', 'über', 'warst', 'uebrig', 'wenige', 'eigen', 'immerwaehrender', 'freier', 'sehe', 'einem', 'einführten', 'eben', 'unteres', 'tatsaechliches', 'voelligem', 'anderen', 'unerhoertes', 'darauf', 'hin', 'allein', 'sagte', 'solange', 'bekannt', 'einigem', 'eins', 'gibt', 'ganzer', 'böden', 'vollstaendigen', 'derzeitigen', 'unstreitigen', 'gewissermaßen', 'womöglichem', 'mancherorts', 'gleiche', 'ist', 'dabei', 'hierbei', 'steigt', 'eigenen', 'geehrt', 'groesstenteils', 'gesagt', 'nimm', 'solc hen', 'weniger', 'solltest', 'bearbeite', 'schwerliches', 'fortsetzte', 'macht', 'restlose', 'jetzt', 'dort', 'befragten', 'seinem', 'entsprechend', 'gaenzlicher', 'sogar', 'bedarf', 'zwar', 'wen', 'sollen', 'mehrmalig', 'durchweg', 'ziehen', 'mann', 'einiger', 'gleichzeitiger', 'gehabt', 'bessere', 'konkreten', 'scheinen', 'ähnlichen', 'unerhörter', 'anfing', 'dagegen', 'jenes', 'gefällt', 'darf', 'vermutlichen', 'anderweitige', 'einigen', 'ueberallhin', 'nichtsdestotrotz', 'darin', 'ehe', 'tatsaechlichen', 'ziemlichen', 'anerkannter', 'betraechtlichen', 'wollte', 'persoenlicher', 'demselben', 'immerwaehrendes', 'weitgehendem', 'fertig', 'richtiggehendem', 'muesste', 'wofür', 'plötzliches', 'steht', 'hiesiger', 'unerhörten', 'naturgemäss', 'bei', 'senkt', 'berichteten', 'klares', 'voran', 'gekonnt', 'schwerlicher', 'ihrer', 'euch', 'demgegenueber', 'allmählich', 'bekannter', 'so', 'weitestgehender', 'betreffendes', 'gegen', 'schon', 'bspw.', 'womöglich', 'solltet', 'hinunter', 'kuerzlichst', 'gemocht', 'immerwaehrend', 'haeufiger', 'weitere', 'reichlich', 'gänzlichem', 'plötzliche', 'persoenliche', 'gewissen', 'solches', 'müsste', 'ausnahmsloses', 'allgemein', 'liegt', 'persoenlichem', 'muessen', 'offensichtlicher', 'vor', 'es', 'häufigerer', 'insgeheimer', 'ihnen', 'ueblicherweise', 'gestern', 'zumeist', 'folgendem', 'seine', 'hiermit', 'berichten', 'jung', 'ausgerechnetes', 'oberer', 'offenkundiger', 'vergangenes', 'allgemeinstes', 'insbesondere', 'womoegliche', 'wo', 'veröffentlicher', 'gleichster', 'irgendeines', 'keinem', 'unerhoertem', 'anderenfalls', 'abermals', 'ähnlicher', 'anderes', 'befiehlte', 'nachher', 'allg', 'äusserstes', 'sagtet', 'unserer', 'unmoeglichem', 'unmoegliche', 'unzweifelhaften', 'dorther', 'bzw.', 'vermutlichem', 'mehrerer', 'also', 'allgemeinem', 'irgendwann', 'nach', 'außerhalb', 'bezueglich', 'überall', 'zudem', 'junger', 'dahinter', 'ausnahmslosem', 'schlussendlich', 'stets', 'nie', 'könnte', 'abermaliges', 'ueber', 'deshalb', 'ueberdies', 'liest', 'obwohl', 'jeglichen', 'unse', 'geehrter', 'hinterm', 'höchstens', 'beider', 'anerkanntes', 'drei', 'derjenigen', 'reagieren', 'zuletzt', 'möchte', 'bitte', 'weder', 'nachdem', 'unsre', 'weitestgehenden', 'ab', 'einmaligem', 'irgendwer', 'beitrugen', 'zahlreichem', 'darueberhinaus', 'meins', 'unbedingtes', 'ersterer', 'zwischen', 'seitdem', 'legen', 'direkter', 'aufhörte', 'wegen', 'wenigstens', 'vom', 'dessen', 'sang', 'samt', 'eure', 'eigentlichen', 'befahl', 'einstmals', 'meist', 'folgendes', 'voellige', 'ausdrückliches', 'wofuer', 'rundum', 'käumlich', 'www', 'unsäglicher', 'kommt', 'seht', 'quasi', 'ungleichem', 'einst', 'selbst', 'kuerzlich', 'uns', 'schwierig', 'hiesiges', 'vieler', 'vergangen', 'beiden', 'ähnlichstem', 'abgerufener', 'mitunter', 'mit', 'aehnlichstem', 'letztlich', 'sonstige', 'allerdings', 'jener', 'gaenzlich', 'plötzlicher', 'wuerde', 'ca', 'ihriges', 'folgendermassen', 'ausgenommene', 'seien', 'indem', 'keiner', 'ihrige', 'vorne', 'brauchen', 'bestehen', 'Dat', 'eheste', 'koennte', 'lichten', 'jenseitigem', 'dich', 'drin', 'vorgestern', 'wollt', 'moeglichst', 'irgendetwas', 'unbedingte', 'vollstaendige', 'koennten', 'augenscheinlichstes', 'vermutlich', 'jedenfalls', 'diesem', 'unmassgebliches', 'restlosem', 'daher', 'scheinbar', 'wirklich', 'nun', 'usw', 'diesseits', 'ggf', 'unsäglich', 'allesamt', 'betraechtliche', 'dürftet', 'txt', 'geht', 'tun', 'durch', 'denselben', 'hundert', 'beitragen', 'unerhoerte', 'nehmen', 'bedurfte', 'den', 'völlige', 'werde', 'ob', 'völligst', 'jenseits', 'regelmäßig', 'getragen', 'meines', 'womögliches', 'erneut', 'woraufhin', 'x', 'teilte', 'immerzu', 'unsaeglich', 'danach', 'letzterer', 'gänzlicher', 'aufzusuchen', 'jaehriges', 'ausgenommenen', 'welchem', 'oberster', 'startete', 'allen', 'vollstaendiges'})\n",
      "dsa\n"
     ]
    }
   ],
   "source": [
    "from DataAnalyticsIU.helper_functions import LemmaCountVectorizer\n",
    "from nltk.corpus import stopwords\n",
    "\n",
    "content_text_list = list(pd_data.content.values)\n",
    "\n",
    "# german_stop_words = frozenset(custom_stopwords)\n",
    "german_stop_words = stopwords.words('german')\n",
    "german_stop_words = german_stop_words + custom_stopwords\n",
    "\n",
    "# Min_df is chosen to exclude words with very low frequency\n",
    "tf_vectorizer = LemmaCountVectorizer(min_df=2,\n",
    "                                     stop_words=german_stop_words,\n",
    "                                     decode_error='ignore')\n",
    "data_vectorized = tf_vectorizer.fit_transform(content_text_list)"
   ],
   "metadata": {
    "collapsed": false,
    "pycharm": {
     "name": "#%%\n"
    }
   }
  },
  {
   "cell_type": "code",
   "execution_count": 13,
   "outputs": [
    {
     "name": "stderr",
     "output_type": "stream",
     "text": [
      "c:\\users\\lukas\\appdata\\local\\programs\\python\\python38\\lib\\site-packages\\sklearn\\utils\\deprecation.py:87: FutureWarning:\n",
      "\n",
      "Function get_feature_names is deprecated; get_feature_names is deprecated in 1.0 and will be removed in 1.2. Please use get_feature_names_out instead.\n",
      "\n"
     ]
    },
    {
     "data": {
      "application/vnd.plotly.v1+json": {
       "data": [
        {
         "marker": {
          "color": [
           41,
           35,
           33,
           33,
           30,
           29,
           29,
           29,
           16,
           16,
           16,
           15,
           14,
           13,
           13,
           12,
           12,
           11,
           11,
           11,
           11,
           11,
           11,
           11,
           11,
           11,
           11,
           11,
           11,
           11,
           11,
           11,
           11,
           10,
           10,
           10,
           10,
           10,
           10,
           9,
           9,
           9,
           9,
           8,
           8,
           8,
           8,
           8,
           8,
           8
          ],
          "colorscale": [
           [
            0.0,
            "rgb(0,0,131)"
           ],
           [
            0.2,
            "rgb(0,60,170)"
           ],
           [
            0.4,
            "rgb(5,255,255)"
           ],
           [
            0.6,
            "rgb(255,255,0)"
           ],
           [
            0.8,
            "rgb(250,0,0)"
           ],
           [
            1.0,
            "rgb(128,0,0)"
           ]
          ]
         },
         "text": "Word counts",
         "x": [
          "pol",
          "news",
          "blaulicht",
          "kleinleise",
          "fragen",
          "entstehen",
          "twittertreffen",
          "wartezeiten",
          "amp",
          "enzkreis",
          "pforzheimgram",
          "2022",
          "polizei",
          "11",
          "zeugen",
          "badenwürttemberg",
          "karlsruhe",
          "1885",
          "a8",
          "alfred",
          "ausgesucht",
          "bernheim",
          "erlernte",
          "fds",
          "fotographie",
          "hege",
          "informationen",
          "kunstgewerbeschule",
          "polizeipf",
          "studierte",
          "uhr",
          "url",
          "walter",
          "07",
          "gesucht",
          "natenom",
          "stadt",
          "verlaufstrassen",
          "zeitung",
          "darmstadt",
          "essen",
          "gt",
          "schwarzwald",
          "arbeit",
          "bad",
          "booster",
          "cw",
          "pznews",
          "stadt_pforzheim",
          "woche"
         ],
         "y": [
          41,
          35,
          33,
          33,
          30,
          29,
          29,
          29,
          16,
          16,
          16,
          15,
          14,
          13,
          13,
          12,
          12,
          11,
          11,
          11,
          11,
          11,
          11,
          11,
          11,
          11,
          11,
          11,
          11,
          11,
          11,
          11,
          11,
          10,
          10,
          10,
          10,
          10,
          10,
          9,
          9,
          9,
          9,
          8,
          8,
          8,
          8,
          8,
          8,
          8
         ],
         "type": "bar"
        }
       ],
       "layout": {
        "template": {
         "data": {
          "barpolar": [
           {
            "marker": {
             "line": {
              "color": "rgb(17,17,17)",
              "width": 0.5
             },
             "pattern": {
              "fillmode": "overlay",
              "size": 10,
              "solidity": 0.2
             }
            },
            "type": "barpolar"
           }
          ],
          "bar": [
           {
            "error_x": {
             "color": "#f2f5fa"
            },
            "error_y": {
             "color": "#f2f5fa"
            },
            "marker": {
             "line": {
              "color": "rgb(17,17,17)",
              "width": 0.5
             },
             "pattern": {
              "fillmode": "overlay",
              "size": 10,
              "solidity": 0.2
             }
            },
            "type": "bar"
           }
          ],
          "carpet": [
           {
            "aaxis": {
             "endlinecolor": "#A2B1C6",
             "gridcolor": "#506784",
             "linecolor": "#506784",
             "minorgridcolor": "#506784",
             "startlinecolor": "#A2B1C6"
            },
            "baxis": {
             "endlinecolor": "#A2B1C6",
             "gridcolor": "#506784",
             "linecolor": "#506784",
             "minorgridcolor": "#506784",
             "startlinecolor": "#A2B1C6"
            },
            "type": "carpet"
           }
          ],
          "choropleth": [
           {
            "colorbar": {
             "outlinewidth": 0,
             "ticks": ""
            },
            "type": "choropleth"
           }
          ],
          "contourcarpet": [
           {
            "colorbar": {
             "outlinewidth": 0,
             "ticks": ""
            },
            "type": "contourcarpet"
           }
          ],
          "contour": [
           {
            "colorbar": {
             "outlinewidth": 0,
             "ticks": ""
            },
            "colorscale": [
             [
              0.0,
              "#0d0887"
             ],
             [
              0.1111111111111111,
              "#46039f"
             ],
             [
              0.2222222222222222,
              "#7201a8"
             ],
             [
              0.3333333333333333,
              "#9c179e"
             ],
             [
              0.4444444444444444,
              "#bd3786"
             ],
             [
              0.5555555555555556,
              "#d8576b"
             ],
             [
              0.6666666666666666,
              "#ed7953"
             ],
             [
              0.7777777777777778,
              "#fb9f3a"
             ],
             [
              0.8888888888888888,
              "#fdca26"
             ],
             [
              1.0,
              "#f0f921"
             ]
            ],
            "type": "contour"
           }
          ],
          "heatmapgl": [
           {
            "colorbar": {
             "outlinewidth": 0,
             "ticks": ""
            },
            "colorscale": [
             [
              0.0,
              "#0d0887"
             ],
             [
              0.1111111111111111,
              "#46039f"
             ],
             [
              0.2222222222222222,
              "#7201a8"
             ],
             [
              0.3333333333333333,
              "#9c179e"
             ],
             [
              0.4444444444444444,
              "#bd3786"
             ],
             [
              0.5555555555555556,
              "#d8576b"
             ],
             [
              0.6666666666666666,
              "#ed7953"
             ],
             [
              0.7777777777777778,
              "#fb9f3a"
             ],
             [
              0.8888888888888888,
              "#fdca26"
             ],
             [
              1.0,
              "#f0f921"
             ]
            ],
            "type": "heatmapgl"
           }
          ],
          "heatmap": [
           {
            "colorbar": {
             "outlinewidth": 0,
             "ticks": ""
            },
            "colorscale": [
             [
              0.0,
              "#0d0887"
             ],
             [
              0.1111111111111111,
              "#46039f"
             ],
             [
              0.2222222222222222,
              "#7201a8"
             ],
             [
              0.3333333333333333,
              "#9c179e"
             ],
             [
              0.4444444444444444,
              "#bd3786"
             ],
             [
              0.5555555555555556,
              "#d8576b"
             ],
             [
              0.6666666666666666,
              "#ed7953"
             ],
             [
              0.7777777777777778,
              "#fb9f3a"
             ],
             [
              0.8888888888888888,
              "#fdca26"
             ],
             [
              1.0,
              "#f0f921"
             ]
            ],
            "type": "heatmap"
           }
          ],
          "histogram2dcontour": [
           {
            "colorbar": {
             "outlinewidth": 0,
             "ticks": ""
            },
            "colorscale": [
             [
              0.0,
              "#0d0887"
             ],
             [
              0.1111111111111111,
              "#46039f"
             ],
             [
              0.2222222222222222,
              "#7201a8"
             ],
             [
              0.3333333333333333,
              "#9c179e"
             ],
             [
              0.4444444444444444,
              "#bd3786"
             ],
             [
              0.5555555555555556,
              "#d8576b"
             ],
             [
              0.6666666666666666,
              "#ed7953"
             ],
             [
              0.7777777777777778,
              "#fb9f3a"
             ],
             [
              0.8888888888888888,
              "#fdca26"
             ],
             [
              1.0,
              "#f0f921"
             ]
            ],
            "type": "histogram2dcontour"
           }
          ],
          "histogram2d": [
           {
            "colorbar": {
             "outlinewidth": 0,
             "ticks": ""
            },
            "colorscale": [
             [
              0.0,
              "#0d0887"
             ],
             [
              0.1111111111111111,
              "#46039f"
             ],
             [
              0.2222222222222222,
              "#7201a8"
             ],
             [
              0.3333333333333333,
              "#9c179e"
             ],
             [
              0.4444444444444444,
              "#bd3786"
             ],
             [
              0.5555555555555556,
              "#d8576b"
             ],
             [
              0.6666666666666666,
              "#ed7953"
             ],
             [
              0.7777777777777778,
              "#fb9f3a"
             ],
             [
              0.8888888888888888,
              "#fdca26"
             ],
             [
              1.0,
              "#f0f921"
             ]
            ],
            "type": "histogram2d"
           }
          ],
          "histogram": [
           {
            "marker": {
             "pattern": {
              "fillmode": "overlay",
              "size": 10,
              "solidity": 0.2
             }
            },
            "type": "histogram"
           }
          ],
          "mesh3d": [
           {
            "colorbar": {
             "outlinewidth": 0,
             "ticks": ""
            },
            "type": "mesh3d"
           }
          ],
          "parcoords": [
           {
            "line": {
             "colorbar": {
              "outlinewidth": 0,
              "ticks": ""
             }
            },
            "type": "parcoords"
           }
          ],
          "pie": [
           {
            "automargin": true,
            "type": "pie"
           }
          ],
          "scatter3d": [
           {
            "line": {
             "colorbar": {
              "outlinewidth": 0,
              "ticks": ""
             }
            },
            "marker": {
             "colorbar": {
              "outlinewidth": 0,
              "ticks": ""
             }
            },
            "type": "scatter3d"
           }
          ],
          "scattercarpet": [
           {
            "marker": {
             "colorbar": {
              "outlinewidth": 0,
              "ticks": ""
             }
            },
            "type": "scattercarpet"
           }
          ],
          "scattergeo": [
           {
            "marker": {
             "colorbar": {
              "outlinewidth": 0,
              "ticks": ""
             }
            },
            "type": "scattergeo"
           }
          ],
          "scattergl": [
           {
            "marker": {
             "line": {
              "color": "#283442"
             }
            },
            "type": "scattergl"
           }
          ],
          "scattermapbox": [
           {
            "marker": {
             "colorbar": {
              "outlinewidth": 0,
              "ticks": ""
             }
            },
            "type": "scattermapbox"
           }
          ],
          "scatterpolargl": [
           {
            "marker": {
             "colorbar": {
              "outlinewidth": 0,
              "ticks": ""
             }
            },
            "type": "scatterpolargl"
           }
          ],
          "scatterpolar": [
           {
            "marker": {
             "colorbar": {
              "outlinewidth": 0,
              "ticks": ""
             }
            },
            "type": "scatterpolar"
           }
          ],
          "scatter": [
           {
            "marker": {
             "line": {
              "color": "#283442"
             }
            },
            "type": "scatter"
           }
          ],
          "scatterternary": [
           {
            "marker": {
             "colorbar": {
              "outlinewidth": 0,
              "ticks": ""
             }
            },
            "type": "scatterternary"
           }
          ],
          "surface": [
           {
            "colorbar": {
             "outlinewidth": 0,
             "ticks": ""
            },
            "colorscale": [
             [
              0.0,
              "#0d0887"
             ],
             [
              0.1111111111111111,
              "#46039f"
             ],
             [
              0.2222222222222222,
              "#7201a8"
             ],
             [
              0.3333333333333333,
              "#9c179e"
             ],
             [
              0.4444444444444444,
              "#bd3786"
             ],
             [
              0.5555555555555556,
              "#d8576b"
             ],
             [
              0.6666666666666666,
              "#ed7953"
             ],
             [
              0.7777777777777778,
              "#fb9f3a"
             ],
             [
              0.8888888888888888,
              "#fdca26"
             ],
             [
              1.0,
              "#f0f921"
             ]
            ],
            "type": "surface"
           }
          ],
          "table": [
           {
            "cells": {
             "fill": {
              "color": "#506784"
             },
             "line": {
              "color": "rgb(17,17,17)"
             }
            },
            "header": {
             "fill": {
              "color": "#2a3f5f"
             },
             "line": {
              "color": "rgb(17,17,17)"
             }
            },
            "type": "table"
           }
          ]
         },
         "layout": {
          "annotationdefaults": {
           "arrowcolor": "#f2f5fa",
           "arrowhead": 0,
           "arrowwidth": 1
          },
          "autotypenumbers": "strict",
          "coloraxis": {
           "colorbar": {
            "outlinewidth": 0,
            "ticks": ""
           }
          },
          "colorscale": {
           "diverging": [
            [
             0,
             "#8e0152"
            ],
            [
             0.1,
             "#c51b7d"
            ],
            [
             0.2,
             "#de77ae"
            ],
            [
             0.3,
             "#f1b6da"
            ],
            [
             0.4,
             "#fde0ef"
            ],
            [
             0.5,
             "#f7f7f7"
            ],
            [
             0.6,
             "#e6f5d0"
            ],
            [
             0.7,
             "#b8e186"
            ],
            [
             0.8,
             "#7fbc41"
            ],
            [
             0.9,
             "#4d9221"
            ],
            [
             1,
             "#276419"
            ]
           ],
           "sequential": [
            [
             0.0,
             "#0d0887"
            ],
            [
             0.1111111111111111,
             "#46039f"
            ],
            [
             0.2222222222222222,
             "#7201a8"
            ],
            [
             0.3333333333333333,
             "#9c179e"
            ],
            [
             0.4444444444444444,
             "#bd3786"
            ],
            [
             0.5555555555555556,
             "#d8576b"
            ],
            [
             0.6666666666666666,
             "#ed7953"
            ],
            [
             0.7777777777777778,
             "#fb9f3a"
            ],
            [
             0.8888888888888888,
             "#fdca26"
            ],
            [
             1.0,
             "#f0f921"
            ]
           ],
           "sequentialminus": [
            [
             0.0,
             "#0d0887"
            ],
            [
             0.1111111111111111,
             "#46039f"
            ],
            [
             0.2222222222222222,
             "#7201a8"
            ],
            [
             0.3333333333333333,
             "#9c179e"
            ],
            [
             0.4444444444444444,
             "#bd3786"
            ],
            [
             0.5555555555555556,
             "#d8576b"
            ],
            [
             0.6666666666666666,
             "#ed7953"
            ],
            [
             0.7777777777777778,
             "#fb9f3a"
            ],
            [
             0.8888888888888888,
             "#fdca26"
            ],
            [
             1.0,
             "#f0f921"
            ]
           ]
          },
          "colorway": [
           "#636efa",
           "#EF553B",
           "#00cc96",
           "#ab63fa",
           "#FFA15A",
           "#19d3f3",
           "#FF6692",
           "#B6E880",
           "#FF97FF",
           "#FECB52"
          ],
          "font": {
           "color": "#f2f5fa"
          },
          "geo": {
           "bgcolor": "rgb(17,17,17)",
           "lakecolor": "rgb(17,17,17)",
           "landcolor": "rgb(17,17,17)",
           "showlakes": true,
           "showland": true,
           "subunitcolor": "#506784"
          },
          "hoverlabel": {
           "align": "left"
          },
          "hovermode": "closest",
          "mapbox": {
           "style": "dark"
          },
          "paper_bgcolor": "rgb(17,17,17)",
          "plot_bgcolor": "rgb(17,17,17)",
          "polar": {
           "angularaxis": {
            "gridcolor": "#506784",
            "linecolor": "#506784",
            "ticks": ""
           },
           "bgcolor": "rgb(17,17,17)",
           "radialaxis": {
            "gridcolor": "#506784",
            "linecolor": "#506784",
            "ticks": ""
           }
          },
          "scene": {
           "xaxis": {
            "backgroundcolor": "rgb(17,17,17)",
            "gridcolor": "#506784",
            "gridwidth": 2,
            "linecolor": "#506784",
            "showbackground": true,
            "ticks": "",
            "zerolinecolor": "#C8D4E3"
           },
           "yaxis": {
            "backgroundcolor": "rgb(17,17,17)",
            "gridcolor": "#506784",
            "gridwidth": 2,
            "linecolor": "#506784",
            "showbackground": true,
            "ticks": "",
            "zerolinecolor": "#C8D4E3"
           },
           "zaxis": {
            "backgroundcolor": "rgb(17,17,17)",
            "gridcolor": "#506784",
            "gridwidth": 2,
            "linecolor": "#506784",
            "showbackground": true,
            "ticks": "",
            "zerolinecolor": "#C8D4E3"
           }
          },
          "shapedefaults": {
           "line": {
            "color": "#f2f5fa"
           }
          },
          "sliderdefaults": {
           "bgcolor": "#C8D4E3",
           "bordercolor": "rgb(17,17,17)",
           "borderwidth": 1,
           "tickwidth": 0
          },
          "ternary": {
           "aaxis": {
            "gridcolor": "#506784",
            "linecolor": "#506784",
            "ticks": ""
           },
           "baxis": {
            "gridcolor": "#506784",
            "linecolor": "#506784",
            "ticks": ""
           },
           "bgcolor": "rgb(17,17,17)",
           "caxis": {
            "gridcolor": "#506784",
            "linecolor": "#506784",
            "ticks": ""
           }
          },
          "title": {
           "x": 0.05
          },
          "updatemenudefaults": {
           "bgcolor": "#506784",
           "borderwidth": 0
          },
          "xaxis": {
           "automargin": true,
           "gridcolor": "#283442",
           "linecolor": "#506784",
           "ticks": "",
           "title": {
            "standoff": 15
           },
           "zerolinecolor": "#283442",
           "zerolinewidth": 2
          },
          "yaxis": {
           "automargin": true,
           "gridcolor": "#283442",
           "linecolor": "#506784",
           "ticks": "",
           "title": {
            "standoff": 15
           },
           "zerolinecolor": "#283442",
           "zerolinewidth": 2
          }
         }
        },
        "title": {
         "text": "Top 50 Word frequencies after Preprocessing"
        }
       },
       "config": {
        "showLink": false,
        "linkText": "Export to plot.ly",
        "plotlyServerURL": "https://plot.ly"
       }
      },
      "text/html": "<div>                            <div id=\"d848c98d-8568-4e07-8b95-04f6c4c1601f\" class=\"plotly-graph-div\" style=\"height:525px; width:100%;\"></div>            <script type=\"text/javascript\">                require([\"plotly\"], function(Plotly) {                    window.PLOTLYENV=window.PLOTLYENV || {};                                    if (document.getElementById(\"d848c98d-8568-4e07-8b95-04f6c4c1601f\")) {                    Plotly.newPlot(                        \"d848c98d-8568-4e07-8b95-04f6c4c1601f\",                        [{\"marker\":{\"color\":[41,35,33,33,30,29,29,29,16,16,16,15,14,13,13,12,12,11,11,11,11,11,11,11,11,11,11,11,11,11,11,11,11,10,10,10,10,10,10,9,9,9,9,8,8,8,8,8,8,8],\"colorscale\":[[0.0,\"rgb(0,0,131)\"],[0.2,\"rgb(0,60,170)\"],[0.4,\"rgb(5,255,255)\"],[0.6,\"rgb(255,255,0)\"],[0.8,\"rgb(250,0,0)\"],[1.0,\"rgb(128,0,0)\"]]},\"text\":\"Word counts\",\"x\":[\"pol\",\"news\",\"blaulicht\",\"kleinleise\",\"fragen\",\"entstehen\",\"twittertreffen\",\"wartezeiten\",\"amp\",\"enzkreis\",\"pforzheimgram\",\"2022\",\"polizei\",\"11\",\"zeugen\",\"badenw\\u00fcrttemberg\",\"karlsruhe\",\"1885\",\"a8\",\"alfred\",\"ausgesucht\",\"bernheim\",\"erlernte\",\"fds\",\"fotographie\",\"hege\",\"informationen\",\"kunstgewerbeschule\",\"polizeipf\",\"studierte\",\"uhr\",\"url\",\"walter\",\"07\",\"gesucht\",\"natenom\",\"stadt\",\"verlaufstrassen\",\"zeitung\",\"darmstadt\",\"essen\",\"gt\",\"schwarzwald\",\"arbeit\",\"bad\",\"booster\",\"cw\",\"pznews\",\"stadt_pforzheim\",\"woche\"],\"y\":[41,35,33,33,30,29,29,29,16,16,16,15,14,13,13,12,12,11,11,11,11,11,11,11,11,11,11,11,11,11,11,11,11,10,10,10,10,10,10,9,9,9,9,8,8,8,8,8,8,8],\"type\":\"bar\"}],                        {\"template\":{\"data\":{\"barpolar\":[{\"marker\":{\"line\":{\"color\":\"rgb(17,17,17)\",\"width\":0.5},\"pattern\":{\"fillmode\":\"overlay\",\"size\":10,\"solidity\":0.2}},\"type\":\"barpolar\"}],\"bar\":[{\"error_x\":{\"color\":\"#f2f5fa\"},\"error_y\":{\"color\":\"#f2f5fa\"},\"marker\":{\"line\":{\"color\":\"rgb(17,17,17)\",\"width\":0.5},\"pattern\":{\"fillmode\":\"overlay\",\"size\":10,\"solidity\":0.2}},\"type\":\"bar\"}],\"carpet\":[{\"aaxis\":{\"endlinecolor\":\"#A2B1C6\",\"gridcolor\":\"#506784\",\"linecolor\":\"#506784\",\"minorgridcolor\":\"#506784\",\"startlinecolor\":\"#A2B1C6\"},\"baxis\":{\"endlinecolor\":\"#A2B1C6\",\"gridcolor\":\"#506784\",\"linecolor\":\"#506784\",\"minorgridcolor\":\"#506784\",\"startlinecolor\":\"#A2B1C6\"},\"type\":\"carpet\"}],\"choropleth\":[{\"colorbar\":{\"outlinewidth\":0,\"ticks\":\"\"},\"type\":\"choropleth\"}],\"contourcarpet\":[{\"colorbar\":{\"outlinewidth\":0,\"ticks\":\"\"},\"type\":\"contourcarpet\"}],\"contour\":[{\"colorbar\":{\"outlinewidth\":0,\"ticks\":\"\"},\"colorscale\":[[0.0,\"#0d0887\"],[0.1111111111111111,\"#46039f\"],[0.2222222222222222,\"#7201a8\"],[0.3333333333333333,\"#9c179e\"],[0.4444444444444444,\"#bd3786\"],[0.5555555555555556,\"#d8576b\"],[0.6666666666666666,\"#ed7953\"],[0.7777777777777778,\"#fb9f3a\"],[0.8888888888888888,\"#fdca26\"],[1.0,\"#f0f921\"]],\"type\":\"contour\"}],\"heatmapgl\":[{\"colorbar\":{\"outlinewidth\":0,\"ticks\":\"\"},\"colorscale\":[[0.0,\"#0d0887\"],[0.1111111111111111,\"#46039f\"],[0.2222222222222222,\"#7201a8\"],[0.3333333333333333,\"#9c179e\"],[0.4444444444444444,\"#bd3786\"],[0.5555555555555556,\"#d8576b\"],[0.6666666666666666,\"#ed7953\"],[0.7777777777777778,\"#fb9f3a\"],[0.8888888888888888,\"#fdca26\"],[1.0,\"#f0f921\"]],\"type\":\"heatmapgl\"}],\"heatmap\":[{\"colorbar\":{\"outlinewidth\":0,\"ticks\":\"\"},\"colorscale\":[[0.0,\"#0d0887\"],[0.1111111111111111,\"#46039f\"],[0.2222222222222222,\"#7201a8\"],[0.3333333333333333,\"#9c179e\"],[0.4444444444444444,\"#bd3786\"],[0.5555555555555556,\"#d8576b\"],[0.6666666666666666,\"#ed7953\"],[0.7777777777777778,\"#fb9f3a\"],[0.8888888888888888,\"#fdca26\"],[1.0,\"#f0f921\"]],\"type\":\"heatmap\"}],\"histogram2dcontour\":[{\"colorbar\":{\"outlinewidth\":0,\"ticks\":\"\"},\"colorscale\":[[0.0,\"#0d0887\"],[0.1111111111111111,\"#46039f\"],[0.2222222222222222,\"#7201a8\"],[0.3333333333333333,\"#9c179e\"],[0.4444444444444444,\"#bd3786\"],[0.5555555555555556,\"#d8576b\"],[0.6666666666666666,\"#ed7953\"],[0.7777777777777778,\"#fb9f3a\"],[0.8888888888888888,\"#fdca26\"],[1.0,\"#f0f921\"]],\"type\":\"histogram2dcontour\"}],\"histogram2d\":[{\"colorbar\":{\"outlinewidth\":0,\"ticks\":\"\"},\"colorscale\":[[0.0,\"#0d0887\"],[0.1111111111111111,\"#46039f\"],[0.2222222222222222,\"#7201a8\"],[0.3333333333333333,\"#9c179e\"],[0.4444444444444444,\"#bd3786\"],[0.5555555555555556,\"#d8576b\"],[0.6666666666666666,\"#ed7953\"],[0.7777777777777778,\"#fb9f3a\"],[0.8888888888888888,\"#fdca26\"],[1.0,\"#f0f921\"]],\"type\":\"histogram2d\"}],\"histogram\":[{\"marker\":{\"pattern\":{\"fillmode\":\"overlay\",\"size\":10,\"solidity\":0.2}},\"type\":\"histogram\"}],\"mesh3d\":[{\"colorbar\":{\"outlinewidth\":0,\"ticks\":\"\"},\"type\":\"mesh3d\"}],\"parcoords\":[{\"line\":{\"colorbar\":{\"outlinewidth\":0,\"ticks\":\"\"}},\"type\":\"parcoords\"}],\"pie\":[{\"automargin\":true,\"type\":\"pie\"}],\"scatter3d\":[{\"line\":{\"colorbar\":{\"outlinewidth\":0,\"ticks\":\"\"}},\"marker\":{\"colorbar\":{\"outlinewidth\":0,\"ticks\":\"\"}},\"type\":\"scatter3d\"}],\"scattercarpet\":[{\"marker\":{\"colorbar\":{\"outlinewidth\":0,\"ticks\":\"\"}},\"type\":\"scattercarpet\"}],\"scattergeo\":[{\"marker\":{\"colorbar\":{\"outlinewidth\":0,\"ticks\":\"\"}},\"type\":\"scattergeo\"}],\"scattergl\":[{\"marker\":{\"line\":{\"color\":\"#283442\"}},\"type\":\"scattergl\"}],\"scattermapbox\":[{\"marker\":{\"colorbar\":{\"outlinewidth\":0,\"ticks\":\"\"}},\"type\":\"scattermapbox\"}],\"scatterpolargl\":[{\"marker\":{\"colorbar\":{\"outlinewidth\":0,\"ticks\":\"\"}},\"type\":\"scatterpolargl\"}],\"scatterpolar\":[{\"marker\":{\"colorbar\":{\"outlinewidth\":0,\"ticks\":\"\"}},\"type\":\"scatterpolar\"}],\"scatter\":[{\"marker\":{\"line\":{\"color\":\"#283442\"}},\"type\":\"scatter\"}],\"scatterternary\":[{\"marker\":{\"colorbar\":{\"outlinewidth\":0,\"ticks\":\"\"}},\"type\":\"scatterternary\"}],\"surface\":[{\"colorbar\":{\"outlinewidth\":0,\"ticks\":\"\"},\"colorscale\":[[0.0,\"#0d0887\"],[0.1111111111111111,\"#46039f\"],[0.2222222222222222,\"#7201a8\"],[0.3333333333333333,\"#9c179e\"],[0.4444444444444444,\"#bd3786\"],[0.5555555555555556,\"#d8576b\"],[0.6666666666666666,\"#ed7953\"],[0.7777777777777778,\"#fb9f3a\"],[0.8888888888888888,\"#fdca26\"],[1.0,\"#f0f921\"]],\"type\":\"surface\"}],\"table\":[{\"cells\":{\"fill\":{\"color\":\"#506784\"},\"line\":{\"color\":\"rgb(17,17,17)\"}},\"header\":{\"fill\":{\"color\":\"#2a3f5f\"},\"line\":{\"color\":\"rgb(17,17,17)\"}},\"type\":\"table\"}]},\"layout\":{\"annotationdefaults\":{\"arrowcolor\":\"#f2f5fa\",\"arrowhead\":0,\"arrowwidth\":1},\"autotypenumbers\":\"strict\",\"coloraxis\":{\"colorbar\":{\"outlinewidth\":0,\"ticks\":\"\"}},\"colorscale\":{\"diverging\":[[0,\"#8e0152\"],[0.1,\"#c51b7d\"],[0.2,\"#de77ae\"],[0.3,\"#f1b6da\"],[0.4,\"#fde0ef\"],[0.5,\"#f7f7f7\"],[0.6,\"#e6f5d0\"],[0.7,\"#b8e186\"],[0.8,\"#7fbc41\"],[0.9,\"#4d9221\"],[1,\"#276419\"]],\"sequential\":[[0.0,\"#0d0887\"],[0.1111111111111111,\"#46039f\"],[0.2222222222222222,\"#7201a8\"],[0.3333333333333333,\"#9c179e\"],[0.4444444444444444,\"#bd3786\"],[0.5555555555555556,\"#d8576b\"],[0.6666666666666666,\"#ed7953\"],[0.7777777777777778,\"#fb9f3a\"],[0.8888888888888888,\"#fdca26\"],[1.0,\"#f0f921\"]],\"sequentialminus\":[[0.0,\"#0d0887\"],[0.1111111111111111,\"#46039f\"],[0.2222222222222222,\"#7201a8\"],[0.3333333333333333,\"#9c179e\"],[0.4444444444444444,\"#bd3786\"],[0.5555555555555556,\"#d8576b\"],[0.6666666666666666,\"#ed7953\"],[0.7777777777777778,\"#fb9f3a\"],[0.8888888888888888,\"#fdca26\"],[1.0,\"#f0f921\"]]},\"colorway\":[\"#636efa\",\"#EF553B\",\"#00cc96\",\"#ab63fa\",\"#FFA15A\",\"#19d3f3\",\"#FF6692\",\"#B6E880\",\"#FF97FF\",\"#FECB52\"],\"font\":{\"color\":\"#f2f5fa\"},\"geo\":{\"bgcolor\":\"rgb(17,17,17)\",\"lakecolor\":\"rgb(17,17,17)\",\"landcolor\":\"rgb(17,17,17)\",\"showlakes\":true,\"showland\":true,\"subunitcolor\":\"#506784\"},\"hoverlabel\":{\"align\":\"left\"},\"hovermode\":\"closest\",\"mapbox\":{\"style\":\"dark\"},\"paper_bgcolor\":\"rgb(17,17,17)\",\"plot_bgcolor\":\"rgb(17,17,17)\",\"polar\":{\"angularaxis\":{\"gridcolor\":\"#506784\",\"linecolor\":\"#506784\",\"ticks\":\"\"},\"bgcolor\":\"rgb(17,17,17)\",\"radialaxis\":{\"gridcolor\":\"#506784\",\"linecolor\":\"#506784\",\"ticks\":\"\"}},\"scene\":{\"xaxis\":{\"backgroundcolor\":\"rgb(17,17,17)\",\"gridcolor\":\"#506784\",\"gridwidth\":2,\"linecolor\":\"#506784\",\"showbackground\":true,\"ticks\":\"\",\"zerolinecolor\":\"#C8D4E3\"},\"yaxis\":{\"backgroundcolor\":\"rgb(17,17,17)\",\"gridcolor\":\"#506784\",\"gridwidth\":2,\"linecolor\":\"#506784\",\"showbackground\":true,\"ticks\":\"\",\"zerolinecolor\":\"#C8D4E3\"},\"zaxis\":{\"backgroundcolor\":\"rgb(17,17,17)\",\"gridcolor\":\"#506784\",\"gridwidth\":2,\"linecolor\":\"#506784\",\"showbackground\":true,\"ticks\":\"\",\"zerolinecolor\":\"#C8D4E3\"}},\"shapedefaults\":{\"line\":{\"color\":\"#f2f5fa\"}},\"sliderdefaults\":{\"bgcolor\":\"#C8D4E3\",\"bordercolor\":\"rgb(17,17,17)\",\"borderwidth\":1,\"tickwidth\":0},\"ternary\":{\"aaxis\":{\"gridcolor\":\"#506784\",\"linecolor\":\"#506784\",\"ticks\":\"\"},\"baxis\":{\"gridcolor\":\"#506784\",\"linecolor\":\"#506784\",\"ticks\":\"\"},\"bgcolor\":\"rgb(17,17,17)\",\"caxis\":{\"gridcolor\":\"#506784\",\"linecolor\":\"#506784\",\"ticks\":\"\"}},\"title\":{\"x\":0.05},\"updatemenudefaults\":{\"bgcolor\":\"#506784\",\"borderwidth\":0},\"xaxis\":{\"automargin\":true,\"gridcolor\":\"#283442\",\"linecolor\":\"#506784\",\"ticks\":\"\",\"title\":{\"standoff\":15},\"zerolinecolor\":\"#283442\",\"zerolinewidth\":2},\"yaxis\":{\"automargin\":true,\"gridcolor\":\"#283442\",\"linecolor\":\"#506784\",\"ticks\":\"\",\"title\":{\"standoff\":15},\"zerolinecolor\":\"#283442\",\"zerolinewidth\":2}}},\"title\":{\"text\":\"Top 50 Word frequencies after Preprocessing\"}},                        {\"responsive\": true}                    ).then(function(){\n                            \nvar gd = document.getElementById('d848c98d-8568-4e07-8b95-04f6c4c1601f');\nvar x = new MutationObserver(function (mutations, observer) {{\n        var display = window.getComputedStyle(gd).display;\n        if (!display || display === 'none') {{\n            console.log([gd, 'removed!']);\n            Plotly.purge(gd);\n            observer.disconnect();\n        }}\n}});\n\n// Listen for the removal of the full notebook cells\nvar notebookContainer = gd.closest('#notebook-container');\nif (notebookContainer) {{\n    x.observe(notebookContainer, {childList: true});\n}}\n\n// Listen for the clearing of the current output cell\nvar outputEl = gd.closest('.output');\nif (outputEl) {{\n    x.observe(outputEl, {childList: true});\n}}\n\n                        })                };                });            </script>        </div>"
     },
     "metadata": {},
     "output_type": "display_data"
    }
   ],
   "source": [
    "# Visualize word occurrences after preprocessing\n",
    "feature_names = tf_vectorizer.get_feature_names()\n",
    "count_vec = np.asarray(data_vectorized.sum(axis=0)).ravel()\n",
    "zipped = list(zip(feature_names, count_vec))\n",
    "x, y = (list(x) for x in zip(*sorted(zipped, key=lambda x: x[1], reverse=True)))\n",
    "# Now I want to extract out on the top 15 and bottom 15 words\n",
    "Y = np.concatenate([y[0:15], y[-16:-1]])\n",
    "X = np.concatenate([x[0:15], x[-16:-1]])\n",
    "\n",
    "# Plotting the Plot.ly plot for the Top 50 word frequencies\n",
    "data = [go.Bar(\n",
    "            x = x[0:50],\n",
    "            y = y[0:50],\n",
    "            marker= dict(colorscale='Jet',\n",
    "                         color = y[0:50]\n",
    "                        ),\n",
    "            text='Word counts'\n",
    "    )]\n",
    "\n",
    "layout = go.Layout(\n",
    "    title='Top 50 Word frequencies after Preprocessing'\n",
    ")\n",
    "\n",
    "fig = go.Figure(data=data, layout=layout)\n",
    "\n",
    "py.iplot(fig, filename='basic-bar')"
   ],
   "metadata": {
    "collapsed": false,
    "pycharm": {
     "name": "#%%\n"
    }
   }
  },
  {
   "cell_type": "markdown",
   "source": [],
   "metadata": {
    "collapsed": false,
    "pycharm": {
     "name": "#%% md\n"
    }
   }
  },
  {
   "cell_type": "markdown",
   "source": [
    "### Implement Latent Dirichlet Allocation"
   ],
   "metadata": {
    "collapsed": false,
    "pycharm": {
     "name": "#%% md\n"
    }
   }
  },
  {
   "cell_type": "code",
   "execution_count": 14,
   "outputs": [],
   "source": [
    "from sklearn.model_selection import GridSearchCV\n",
    "\n",
    "# Do GridSearch to find the best possible n_components parameter\n",
    "\n",
    "search_params = {'n_components': [5, 7, 9, 10], 'learning_decay': [.5, .7, .9], 'learning_offset': [1, 3, 5, 7, 9, 10], 'max_iter': [5, 7, 10]}\n",
    "\n",
    "# Init the Model\n",
    "lda = LatentDirichletAllocation()\n",
    "\n",
    "# Comment out to improve performance\n",
    "# Init Grid Search Class\n",
    "#model = GridSearchCV(lda, param_grid=search_params)\n",
    "\n",
    "# Do the Grid Search\n",
    "#model.fit(data_vectorized)\n",
    "\n",
    "# Best Model\n",
    "#best_lda_model = model.best_estimator_\n",
    "\n",
    "# Model Parameters\n",
    "#print(\"Best Model's Params: \", model.best_params_)"
   ],
   "metadata": {
    "collapsed": false,
    "pycharm": {
     "name": "#%%\n"
    }
   }
  },
  {
   "cell_type": "code",
   "execution_count": 15,
   "outputs": [],
   "source": [
    "# Implement algorithm with best parameters\n",
    "lda = LatentDirichletAllocation(n_components=5, max_iter=7,\n",
    "                                learning_method = 'online',\n",
    "                                learning_offset = 3,\n",
    "                                learning_decay=0.5,\n",
    "                                random_state = 6432143)"
   ],
   "metadata": {
    "collapsed": false,
    "pycharm": {
     "name": "#%%\n"
    }
   }
  },
  {
   "cell_type": "code",
   "execution_count": 16,
   "outputs": [
    {
     "data": {
      "text/plain": "LatentDirichletAllocation(learning_decay=0.5, learning_method='online',\n                          learning_offset=3, max_iter=7, n_components=5,\n                          random_state=6432143)",
      "text/html": "<style>#sk-container-id-1 {color: black;background-color: white;}#sk-container-id-1 pre{padding: 0;}#sk-container-id-1 div.sk-toggleable {background-color: white;}#sk-container-id-1 label.sk-toggleable__label {cursor: pointer;display: block;width: 100%;margin-bottom: 0;padding: 0.3em;box-sizing: border-box;text-align: center;}#sk-container-id-1 label.sk-toggleable__label-arrow:before {content: \"▸\";float: left;margin-right: 0.25em;color: #696969;}#sk-container-id-1 label.sk-toggleable__label-arrow:hover:before {color: black;}#sk-container-id-1 div.sk-estimator:hover label.sk-toggleable__label-arrow:before {color: black;}#sk-container-id-1 div.sk-toggleable__content {max-height: 0;max-width: 0;overflow: hidden;text-align: left;background-color: #f0f8ff;}#sk-container-id-1 div.sk-toggleable__content pre {margin: 0.2em;color: black;border-radius: 0.25em;background-color: #f0f8ff;}#sk-container-id-1 input.sk-toggleable__control:checked~div.sk-toggleable__content {max-height: 200px;max-width: 100%;overflow: auto;}#sk-container-id-1 input.sk-toggleable__control:checked~label.sk-toggleable__label-arrow:before {content: \"▾\";}#sk-container-id-1 div.sk-estimator input.sk-toggleable__control:checked~label.sk-toggleable__label {background-color: #d4ebff;}#sk-container-id-1 div.sk-label input.sk-toggleable__control:checked~label.sk-toggleable__label {background-color: #d4ebff;}#sk-container-id-1 input.sk-hidden--visually {border: 0;clip: rect(1px 1px 1px 1px);clip: rect(1px, 1px, 1px, 1px);height: 1px;margin: -1px;overflow: hidden;padding: 0;position: absolute;width: 1px;}#sk-container-id-1 div.sk-estimator {font-family: monospace;background-color: #f0f8ff;border: 1px dotted black;border-radius: 0.25em;box-sizing: border-box;margin-bottom: 0.5em;}#sk-container-id-1 div.sk-estimator:hover {background-color: #d4ebff;}#sk-container-id-1 div.sk-parallel-item::after {content: \"\";width: 100%;border-bottom: 1px solid gray;flex-grow: 1;}#sk-container-id-1 div.sk-label:hover label.sk-toggleable__label {background-color: #d4ebff;}#sk-container-id-1 div.sk-serial::before {content: \"\";position: absolute;border-left: 1px solid gray;box-sizing: border-box;top: 0;bottom: 0;left: 50%;z-index: 0;}#sk-container-id-1 div.sk-serial {display: flex;flex-direction: column;align-items: center;background-color: white;padding-right: 0.2em;padding-left: 0.2em;position: relative;}#sk-container-id-1 div.sk-item {position: relative;z-index: 1;}#sk-container-id-1 div.sk-parallel {display: flex;align-items: stretch;justify-content: center;background-color: white;position: relative;}#sk-container-id-1 div.sk-item::before, #sk-container-id-1 div.sk-parallel-item::before {content: \"\";position: absolute;border-left: 1px solid gray;box-sizing: border-box;top: 0;bottom: 0;left: 50%;z-index: -1;}#sk-container-id-1 div.sk-parallel-item {display: flex;flex-direction: column;z-index: 1;position: relative;background-color: white;}#sk-container-id-1 div.sk-parallel-item:first-child::after {align-self: flex-end;width: 50%;}#sk-container-id-1 div.sk-parallel-item:last-child::after {align-self: flex-start;width: 50%;}#sk-container-id-1 div.sk-parallel-item:only-child::after {width: 0;}#sk-container-id-1 div.sk-dashed-wrapped {border: 1px dashed gray;margin: 0 0.4em 0.5em 0.4em;box-sizing: border-box;padding-bottom: 0.4em;background-color: white;}#sk-container-id-1 div.sk-label label {font-family: monospace;font-weight: bold;display: inline-block;line-height: 1.2em;}#sk-container-id-1 div.sk-label-container {text-align: center;}#sk-container-id-1 div.sk-container {/* jupyter's `normalize.less` sets `[hidden] { display: none; }` but bootstrap.min.css set `[hidden] { display: none !important; }` so we also need the `!important` here to be able to override the default hidden behavior on the sphinx rendered scikit-learn.org. See: https://github.com/scikit-learn/scikit-learn/issues/21755 */display: inline-block !important;position: relative;}#sk-container-id-1 div.sk-text-repr-fallback {display: none;}</style><div id=\"sk-container-id-1\" class=\"sk-top-container\"><div class=\"sk-text-repr-fallback\"><pre>LatentDirichletAllocation(learning_decay=0.5, learning_method=&#x27;online&#x27;,\n                          learning_offset=3, max_iter=7, n_components=5,\n                          random_state=6432143)</pre><b>In a Jupyter environment, please rerun this cell to show the HTML representation or trust the notebook. <br />On GitHub, the HTML representation is unable to render, please try loading this page with nbviewer.org.</b></div><div class=\"sk-container\" hidden><div class=\"sk-item\"><div class=\"sk-estimator sk-toggleable\"><input class=\"sk-toggleable__control sk-hidden--visually\" id=\"sk-estimator-id-1\" type=\"checkbox\" checked><label for=\"sk-estimator-id-1\" class=\"sk-toggleable__label sk-toggleable__label-arrow\">LatentDirichletAllocation</label><div class=\"sk-toggleable__content\"><pre>LatentDirichletAllocation(learning_decay=0.5, learning_method=&#x27;online&#x27;,\n                          learning_offset=3, max_iter=7, n_components=5,\n                          random_state=6432143)</pre></div></div></div></div></div>"
     },
     "execution_count": 16,
     "metadata": {},
     "output_type": "execute_result"
    }
   ],
   "source": [
    "lda.fit(data_vectorized)"
   ],
   "metadata": {
    "collapsed": false,
    "pycharm": {
     "name": "#%%\n"
    }
   }
  },
  {
   "cell_type": "code",
   "execution_count": 17,
   "outputs": [
    {
     "name": "stdout",
     "output_type": "stream",
     "text": [
      "\n",
      "Topics in LDA model: \n",
      "\n",
      "Topic #0:pol news blaulicht enzkreis fds zeugen gesucht verletzt cw schwer einbruch haus unbekannter fahrradmordor verkehrsunfall bw tiefenbronn stunde fahrradfahrer auto stück booster u12schutz nummer offlabelu5 karlsruhe mehrfamilienhaus verursacht csd polizei km natenom berlin firma haft verantwortlichen abschiebeknast verhindert freudenstadt baiersbronn\n",
      "======================================================================\n",
      "\n",
      "Topic #1:pforzheimgram darmstadt badenwürttemberg essen url ausgesucht informationen schwarzwald gt a8 pznews karlsruhe schwert polizeipf stadt_pforzheim ste7130 natenom zeitung hs_pforzheim polizei kampfkunst fecht sport training hut schule fehler kurz paperback wandern hipsterl0s brücke impfstelle heilbronn earlytwix frau booster verdauungstrasse michael_karalus vermute\n",
      "======================================================================\n",
      "\n",
      "Topic #2:kleinleise twittertreffen entstehen wartezeiten fragen 2022 uhr 07 juli uffc hbf fifa22 16 liga club create 18 05 12 samstag karrieremodus 10 u5 aufstieg stehen amp woche dienstag boost impfen 09 angebote kulinarische nagold lasse q9sndlg0ao dfb schwäbisch 28 dauert\n",
      "======================================================================\n",
      "\n",
      "Topic #3:11 amp walter bernheim fotographie alfred 1885 studierte erlernte kunstgewerbeschule hege verlaufstrassen erdbeben bad besten job komfort lock smart sicherheit gewackelt 27 gewahrsam info 22 polizei bewerben wildbad verdacht stanztechnik kleinergmbh a8 grund warten nähere eingebildet beruhigt gespürt pfbits paris\n",
      "======================================================================\n",
      "\n",
      "Topic #4:arbeit stuttgart brücken deutsche schön stadt michael_karalus thema sonderauwertung normal entgrenzte dgb index fvx0hv9mvi zeitung metall_ig region doxograf k1 metall aktuell more udjncpzdqy see lesetipp freiheit schlosspark fc mannheim woche betonteilen radfahrer fahrt is dienersebastian ig lebte open bebte jugendliche\n",
      "======================================================================\n"
     ]
    },
    {
     "name": "stderr",
     "output_type": "stream",
     "text": [
      "c:\\users\\lukas\\appdata\\local\\programs\\python\\python38\\lib\\site-packages\\sklearn\\utils\\deprecation.py:87: FutureWarning:\n",
      "\n",
      "Function get_feature_names is deprecated; get_feature_names is deprecated in 1.0 and will be removed in 1.2. Please use get_feature_names_out instead.\n",
      "\n"
     ]
    }
   ],
   "source": [
    "from DataAnalyticsIU.helper_functions import print_top_words\n",
    "\n",
    "n_top_words = 40\n",
    "print(\"\\nTopics in LDA model: \")\n",
    "tf_feature_names = tf_vectorizer.get_feature_names()\n",
    "print_top_words(lda, tf_feature_names, n_top_words)"
   ],
   "metadata": {
    "collapsed": false,
    "pycharm": {
     "name": "#%%\n"
    }
   }
  },
  {
   "cell_type": "code",
   "execution_count": 17,
   "outputs": [],
   "source": [],
   "metadata": {
    "collapsed": false,
    "pycharm": {
     "name": "#%%\n"
    }
   }
  }
 ],
 "metadata": {
  "kernelspec": {
   "display_name": "Python 3",
   "language": "python",
   "name": "python3"
  },
  "language_info": {
   "codemirror_mode": {
    "name": "ipython",
    "version": 2
   },
   "file_extension": ".py",
   "mimetype": "text/x-python",
   "name": "python",
   "nbconvert_exporter": "python",
   "pygments_lexer": "ipython2",
   "version": "2.7.6"
  }
 },
 "nbformat": 4,
 "nbformat_minor": 0
}